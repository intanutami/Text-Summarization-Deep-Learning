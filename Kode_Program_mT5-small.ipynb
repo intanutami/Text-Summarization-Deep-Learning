{
  "metadata": {
    "kernelspec": {
      "name": "python3",
      "display_name": "Python 3",
      "language": "python"
    },
    "language_info": {
      "name": "python",
      "version": "3.10.14",
      "mimetype": "text/x-python",
      "codemirror_mode": {
        "name": "ipython",
        "version": 3
      },
      "pygments_lexer": "ipython3",
      "nbconvert_exporter": "python",
      "file_extension": ".py"
    },
    "colab": {
      "provenance": [],
      "machine_shape": "hm",
      "gpuType": "A100"
    },
    "accelerator": "GPU",
    "widgets": {
      "application/vnd.jupyter.widget-state+json": {
        "9b5829b687e34343b55673cafd0910d2": {
          "model_module": "@jupyter-widgets/controls",
          "model_name": "HBoxModel",
          "model_module_version": "1.5.0",
          "state": {
            "_dom_classes": [],
            "_model_module": "@jupyter-widgets/controls",
            "_model_module_version": "1.5.0",
            "_model_name": "HBoxModel",
            "_view_count": null,
            "_view_module": "@jupyter-widgets/controls",
            "_view_module_version": "1.5.0",
            "_view_name": "HBoxView",
            "box_style": "",
            "children": [
              "IPY_MODEL_864b0f28ee6f47069895f24e28f8d04c",
              "IPY_MODEL_c31f65bc36a34221b7c625157f605257",
              "IPY_MODEL_6e0221b5db9e4365b73670ccd2a2f1aa"
            ],
            "layout": "IPY_MODEL_911eaf4482414d9ebaca5d6297966522"
          }
        },
        "864b0f28ee6f47069895f24e28f8d04c": {
          "model_module": "@jupyter-widgets/controls",
          "model_name": "HTMLModel",
          "model_module_version": "1.5.0",
          "state": {
            "_dom_classes": [],
            "_model_module": "@jupyter-widgets/controls",
            "_model_module_version": "1.5.0",
            "_model_name": "HTMLModel",
            "_view_count": null,
            "_view_module": "@jupyter-widgets/controls",
            "_view_module_version": "1.5.0",
            "_view_name": "HTMLView",
            "description": "",
            "description_tooltip": null,
            "layout": "IPY_MODEL_b584ae8bd32049428816d61a8bcdba52",
            "placeholder": "​",
            "style": "IPY_MODEL_1ebcda1818f641029b1b88cbd13d9c9d",
            "value": "tokenizer_config.json: 100%"
          }
        },
        "c31f65bc36a34221b7c625157f605257": {
          "model_module": "@jupyter-widgets/controls",
          "model_name": "FloatProgressModel",
          "model_module_version": "1.5.0",
          "state": {
            "_dom_classes": [],
            "_model_module": "@jupyter-widgets/controls",
            "_model_module_version": "1.5.0",
            "_model_name": "FloatProgressModel",
            "_view_count": null,
            "_view_module": "@jupyter-widgets/controls",
            "_view_module_version": "1.5.0",
            "_view_name": "ProgressView",
            "bar_style": "success",
            "description": "",
            "description_tooltip": null,
            "layout": "IPY_MODEL_167bf9ac83c2449284c05ba5c36f93d7",
            "max": 376,
            "min": 0,
            "orientation": "horizontal",
            "style": "IPY_MODEL_c4a39a2528274101a6217b595b587b4d",
            "value": 376
          }
        },
        "6e0221b5db9e4365b73670ccd2a2f1aa": {
          "model_module": "@jupyter-widgets/controls",
          "model_name": "HTMLModel",
          "model_module_version": "1.5.0",
          "state": {
            "_dom_classes": [],
            "_model_module": "@jupyter-widgets/controls",
            "_model_module_version": "1.5.0",
            "_model_name": "HTMLModel",
            "_view_count": null,
            "_view_module": "@jupyter-widgets/controls",
            "_view_module_version": "1.5.0",
            "_view_name": "HTMLView",
            "description": "",
            "description_tooltip": null,
            "layout": "IPY_MODEL_40c29e1e14fe415cbfc0b874e115000e",
            "placeholder": "​",
            "style": "IPY_MODEL_3b5caf2d38ed45a48590dd3ee8c99e63",
            "value": " 376/376 [00:00&lt;00:00, 30.4kB/s]"
          }
        },
        "911eaf4482414d9ebaca5d6297966522": {
          "model_module": "@jupyter-widgets/base",
          "model_name": "LayoutModel",
          "model_module_version": "1.2.0",
          "state": {
            "_model_module": "@jupyter-widgets/base",
            "_model_module_version": "1.2.0",
            "_model_name": "LayoutModel",
            "_view_count": null,
            "_view_module": "@jupyter-widgets/base",
            "_view_module_version": "1.2.0",
            "_view_name": "LayoutView",
            "align_content": null,
            "align_items": null,
            "align_self": null,
            "border": null,
            "bottom": null,
            "display": null,
            "flex": null,
            "flex_flow": null,
            "grid_area": null,
            "grid_auto_columns": null,
            "grid_auto_flow": null,
            "grid_auto_rows": null,
            "grid_column": null,
            "grid_gap": null,
            "grid_row": null,
            "grid_template_areas": null,
            "grid_template_columns": null,
            "grid_template_rows": null,
            "height": null,
            "justify_content": null,
            "justify_items": null,
            "left": null,
            "margin": null,
            "max_height": null,
            "max_width": null,
            "min_height": null,
            "min_width": null,
            "object_fit": null,
            "object_position": null,
            "order": null,
            "overflow": null,
            "overflow_x": null,
            "overflow_y": null,
            "padding": null,
            "right": null,
            "top": null,
            "visibility": null,
            "width": null
          }
        },
        "b584ae8bd32049428816d61a8bcdba52": {
          "model_module": "@jupyter-widgets/base",
          "model_name": "LayoutModel",
          "model_module_version": "1.2.0",
          "state": {
            "_model_module": "@jupyter-widgets/base",
            "_model_module_version": "1.2.0",
            "_model_name": "LayoutModel",
            "_view_count": null,
            "_view_module": "@jupyter-widgets/base",
            "_view_module_version": "1.2.0",
            "_view_name": "LayoutView",
            "align_content": null,
            "align_items": null,
            "align_self": null,
            "border": null,
            "bottom": null,
            "display": null,
            "flex": null,
            "flex_flow": null,
            "grid_area": null,
            "grid_auto_columns": null,
            "grid_auto_flow": null,
            "grid_auto_rows": null,
            "grid_column": null,
            "grid_gap": null,
            "grid_row": null,
            "grid_template_areas": null,
            "grid_template_columns": null,
            "grid_template_rows": null,
            "height": null,
            "justify_content": null,
            "justify_items": null,
            "left": null,
            "margin": null,
            "max_height": null,
            "max_width": null,
            "min_height": null,
            "min_width": null,
            "object_fit": null,
            "object_position": null,
            "order": null,
            "overflow": null,
            "overflow_x": null,
            "overflow_y": null,
            "padding": null,
            "right": null,
            "top": null,
            "visibility": null,
            "width": null
          }
        },
        "1ebcda1818f641029b1b88cbd13d9c9d": {
          "model_module": "@jupyter-widgets/controls",
          "model_name": "DescriptionStyleModel",
          "model_module_version": "1.5.0",
          "state": {
            "_model_module": "@jupyter-widgets/controls",
            "_model_module_version": "1.5.0",
            "_model_name": "DescriptionStyleModel",
            "_view_count": null,
            "_view_module": "@jupyter-widgets/base",
            "_view_module_version": "1.2.0",
            "_view_name": "StyleView",
            "description_width": ""
          }
        },
        "167bf9ac83c2449284c05ba5c36f93d7": {
          "model_module": "@jupyter-widgets/base",
          "model_name": "LayoutModel",
          "model_module_version": "1.2.0",
          "state": {
            "_model_module": "@jupyter-widgets/base",
            "_model_module_version": "1.2.0",
            "_model_name": "LayoutModel",
            "_view_count": null,
            "_view_module": "@jupyter-widgets/base",
            "_view_module_version": "1.2.0",
            "_view_name": "LayoutView",
            "align_content": null,
            "align_items": null,
            "align_self": null,
            "border": null,
            "bottom": null,
            "display": null,
            "flex": null,
            "flex_flow": null,
            "grid_area": null,
            "grid_auto_columns": null,
            "grid_auto_flow": null,
            "grid_auto_rows": null,
            "grid_column": null,
            "grid_gap": null,
            "grid_row": null,
            "grid_template_areas": null,
            "grid_template_columns": null,
            "grid_template_rows": null,
            "height": null,
            "justify_content": null,
            "justify_items": null,
            "left": null,
            "margin": null,
            "max_height": null,
            "max_width": null,
            "min_height": null,
            "min_width": null,
            "object_fit": null,
            "object_position": null,
            "order": null,
            "overflow": null,
            "overflow_x": null,
            "overflow_y": null,
            "padding": null,
            "right": null,
            "top": null,
            "visibility": null,
            "width": null
          }
        },
        "c4a39a2528274101a6217b595b587b4d": {
          "model_module": "@jupyter-widgets/controls",
          "model_name": "ProgressStyleModel",
          "model_module_version": "1.5.0",
          "state": {
            "_model_module": "@jupyter-widgets/controls",
            "_model_module_version": "1.5.0",
            "_model_name": "ProgressStyleModel",
            "_view_count": null,
            "_view_module": "@jupyter-widgets/base",
            "_view_module_version": "1.2.0",
            "_view_name": "StyleView",
            "bar_color": null,
            "description_width": ""
          }
        },
        "40c29e1e14fe415cbfc0b874e115000e": {
          "model_module": "@jupyter-widgets/base",
          "model_name": "LayoutModel",
          "model_module_version": "1.2.0",
          "state": {
            "_model_module": "@jupyter-widgets/base",
            "_model_module_version": "1.2.0",
            "_model_name": "LayoutModel",
            "_view_count": null,
            "_view_module": "@jupyter-widgets/base",
            "_view_module_version": "1.2.0",
            "_view_name": "LayoutView",
            "align_content": null,
            "align_items": null,
            "align_self": null,
            "border": null,
            "bottom": null,
            "display": null,
            "flex": null,
            "flex_flow": null,
            "grid_area": null,
            "grid_auto_columns": null,
            "grid_auto_flow": null,
            "grid_auto_rows": null,
            "grid_column": null,
            "grid_gap": null,
            "grid_row": null,
            "grid_template_areas": null,
            "grid_template_columns": null,
            "grid_template_rows": null,
            "height": null,
            "justify_content": null,
            "justify_items": null,
            "left": null,
            "margin": null,
            "max_height": null,
            "max_width": null,
            "min_height": null,
            "min_width": null,
            "object_fit": null,
            "object_position": null,
            "order": null,
            "overflow": null,
            "overflow_x": null,
            "overflow_y": null,
            "padding": null,
            "right": null,
            "top": null,
            "visibility": null,
            "width": null
          }
        },
        "3b5caf2d38ed45a48590dd3ee8c99e63": {
          "model_module": "@jupyter-widgets/controls",
          "model_name": "DescriptionStyleModel",
          "model_module_version": "1.5.0",
          "state": {
            "_model_module": "@jupyter-widgets/controls",
            "_model_module_version": "1.5.0",
            "_model_name": "DescriptionStyleModel",
            "_view_count": null,
            "_view_module": "@jupyter-widgets/base",
            "_view_module_version": "1.2.0",
            "_view_name": "StyleView",
            "description_width": ""
          }
        },
        "de89784d987246ad8c81fe1989b3c0da": {
          "model_module": "@jupyter-widgets/controls",
          "model_name": "HBoxModel",
          "model_module_version": "1.5.0",
          "state": {
            "_dom_classes": [],
            "_model_module": "@jupyter-widgets/controls",
            "_model_module_version": "1.5.0",
            "_model_name": "HBoxModel",
            "_view_count": null,
            "_view_module": "@jupyter-widgets/controls",
            "_view_module_version": "1.5.0",
            "_view_name": "HBoxView",
            "box_style": "",
            "children": [
              "IPY_MODEL_fa9e2081978f4ee3aae8d195351c272d",
              "IPY_MODEL_650fa207dccd4bc4add8d8144df48ece",
              "IPY_MODEL_8ae01565251244a1a4fa9d9a36d315ae"
            ],
            "layout": "IPY_MODEL_21de8a49695c4329845c4e2dd80f2410"
          }
        },
        "fa9e2081978f4ee3aae8d195351c272d": {
          "model_module": "@jupyter-widgets/controls",
          "model_name": "HTMLModel",
          "model_module_version": "1.5.0",
          "state": {
            "_dom_classes": [],
            "_model_module": "@jupyter-widgets/controls",
            "_model_module_version": "1.5.0",
            "_model_name": "HTMLModel",
            "_view_count": null,
            "_view_module": "@jupyter-widgets/controls",
            "_view_module_version": "1.5.0",
            "_view_name": "HTMLView",
            "description": "",
            "description_tooltip": null,
            "layout": "IPY_MODEL_0853300baba04bf3aff5606a5a51c3e3",
            "placeholder": "​",
            "style": "IPY_MODEL_dbbe5e44903c4a5fa7905aff5b80b2f1",
            "value": "spiece.model: 100%"
          }
        },
        "650fa207dccd4bc4add8d8144df48ece": {
          "model_module": "@jupyter-widgets/controls",
          "model_name": "FloatProgressModel",
          "model_module_version": "1.5.0",
          "state": {
            "_dom_classes": [],
            "_model_module": "@jupyter-widgets/controls",
            "_model_module_version": "1.5.0",
            "_model_name": "FloatProgressModel",
            "_view_count": null,
            "_view_module": "@jupyter-widgets/controls",
            "_view_module_version": "1.5.0",
            "_view_name": "ProgressView",
            "bar_style": "success",
            "description": "",
            "description_tooltip": null,
            "layout": "IPY_MODEL_5b6cf8f46a6e495d8f78158bf6d9d93c",
            "max": 4309802,
            "min": 0,
            "orientation": "horizontal",
            "style": "IPY_MODEL_4bfe35a9c28c4763868e8f2fb0b9ff60",
            "value": 4309802
          }
        },
        "8ae01565251244a1a4fa9d9a36d315ae": {
          "model_module": "@jupyter-widgets/controls",
          "model_name": "HTMLModel",
          "model_module_version": "1.5.0",
          "state": {
            "_dom_classes": [],
            "_model_module": "@jupyter-widgets/controls",
            "_model_module_version": "1.5.0",
            "_model_name": "HTMLModel",
            "_view_count": null,
            "_view_module": "@jupyter-widgets/controls",
            "_view_module_version": "1.5.0",
            "_view_name": "HTMLView",
            "description": "",
            "description_tooltip": null,
            "layout": "IPY_MODEL_2fb5cd1d617542d0b092c4bae4823816",
            "placeholder": "​",
            "style": "IPY_MODEL_768aae9f161f4fa894d8c14950de2802",
            "value": " 4.31M/4.31M [00:00&lt;00:00, 18.8MB/s]"
          }
        },
        "21de8a49695c4329845c4e2dd80f2410": {
          "model_module": "@jupyter-widgets/base",
          "model_name": "LayoutModel",
          "model_module_version": "1.2.0",
          "state": {
            "_model_module": "@jupyter-widgets/base",
            "_model_module_version": "1.2.0",
            "_model_name": "LayoutModel",
            "_view_count": null,
            "_view_module": "@jupyter-widgets/base",
            "_view_module_version": "1.2.0",
            "_view_name": "LayoutView",
            "align_content": null,
            "align_items": null,
            "align_self": null,
            "border": null,
            "bottom": null,
            "display": null,
            "flex": null,
            "flex_flow": null,
            "grid_area": null,
            "grid_auto_columns": null,
            "grid_auto_flow": null,
            "grid_auto_rows": null,
            "grid_column": null,
            "grid_gap": null,
            "grid_row": null,
            "grid_template_areas": null,
            "grid_template_columns": null,
            "grid_template_rows": null,
            "height": null,
            "justify_content": null,
            "justify_items": null,
            "left": null,
            "margin": null,
            "max_height": null,
            "max_width": null,
            "min_height": null,
            "min_width": null,
            "object_fit": null,
            "object_position": null,
            "order": null,
            "overflow": null,
            "overflow_x": null,
            "overflow_y": null,
            "padding": null,
            "right": null,
            "top": null,
            "visibility": null,
            "width": null
          }
        },
        "0853300baba04bf3aff5606a5a51c3e3": {
          "model_module": "@jupyter-widgets/base",
          "model_name": "LayoutModel",
          "model_module_version": "1.2.0",
          "state": {
            "_model_module": "@jupyter-widgets/base",
            "_model_module_version": "1.2.0",
            "_model_name": "LayoutModel",
            "_view_count": null,
            "_view_module": "@jupyter-widgets/base",
            "_view_module_version": "1.2.0",
            "_view_name": "LayoutView",
            "align_content": null,
            "align_items": null,
            "align_self": null,
            "border": null,
            "bottom": null,
            "display": null,
            "flex": null,
            "flex_flow": null,
            "grid_area": null,
            "grid_auto_columns": null,
            "grid_auto_flow": null,
            "grid_auto_rows": null,
            "grid_column": null,
            "grid_gap": null,
            "grid_row": null,
            "grid_template_areas": null,
            "grid_template_columns": null,
            "grid_template_rows": null,
            "height": null,
            "justify_content": null,
            "justify_items": null,
            "left": null,
            "margin": null,
            "max_height": null,
            "max_width": null,
            "min_height": null,
            "min_width": null,
            "object_fit": null,
            "object_position": null,
            "order": null,
            "overflow": null,
            "overflow_x": null,
            "overflow_y": null,
            "padding": null,
            "right": null,
            "top": null,
            "visibility": null,
            "width": null
          }
        },
        "dbbe5e44903c4a5fa7905aff5b80b2f1": {
          "model_module": "@jupyter-widgets/controls",
          "model_name": "DescriptionStyleModel",
          "model_module_version": "1.5.0",
          "state": {
            "_model_module": "@jupyter-widgets/controls",
            "_model_module_version": "1.5.0",
            "_model_name": "DescriptionStyleModel",
            "_view_count": null,
            "_view_module": "@jupyter-widgets/base",
            "_view_module_version": "1.2.0",
            "_view_name": "StyleView",
            "description_width": ""
          }
        },
        "5b6cf8f46a6e495d8f78158bf6d9d93c": {
          "model_module": "@jupyter-widgets/base",
          "model_name": "LayoutModel",
          "model_module_version": "1.2.0",
          "state": {
            "_model_module": "@jupyter-widgets/base",
            "_model_module_version": "1.2.0",
            "_model_name": "LayoutModel",
            "_view_count": null,
            "_view_module": "@jupyter-widgets/base",
            "_view_module_version": "1.2.0",
            "_view_name": "LayoutView",
            "align_content": null,
            "align_items": null,
            "align_self": null,
            "border": null,
            "bottom": null,
            "display": null,
            "flex": null,
            "flex_flow": null,
            "grid_area": null,
            "grid_auto_columns": null,
            "grid_auto_flow": null,
            "grid_auto_rows": null,
            "grid_column": null,
            "grid_gap": null,
            "grid_row": null,
            "grid_template_areas": null,
            "grid_template_columns": null,
            "grid_template_rows": null,
            "height": null,
            "justify_content": null,
            "justify_items": null,
            "left": null,
            "margin": null,
            "max_height": null,
            "max_width": null,
            "min_height": null,
            "min_width": null,
            "object_fit": null,
            "object_position": null,
            "order": null,
            "overflow": null,
            "overflow_x": null,
            "overflow_y": null,
            "padding": null,
            "right": null,
            "top": null,
            "visibility": null,
            "width": null
          }
        },
        "4bfe35a9c28c4763868e8f2fb0b9ff60": {
          "model_module": "@jupyter-widgets/controls",
          "model_name": "ProgressStyleModel",
          "model_module_version": "1.5.0",
          "state": {
            "_model_module": "@jupyter-widgets/controls",
            "_model_module_version": "1.5.0",
            "_model_name": "ProgressStyleModel",
            "_view_count": null,
            "_view_module": "@jupyter-widgets/base",
            "_view_module_version": "1.2.0",
            "_view_name": "StyleView",
            "bar_color": null,
            "description_width": ""
          }
        },
        "2fb5cd1d617542d0b092c4bae4823816": {
          "model_module": "@jupyter-widgets/base",
          "model_name": "LayoutModel",
          "model_module_version": "1.2.0",
          "state": {
            "_model_module": "@jupyter-widgets/base",
            "_model_module_version": "1.2.0",
            "_model_name": "LayoutModel",
            "_view_count": null,
            "_view_module": "@jupyter-widgets/base",
            "_view_module_version": "1.2.0",
            "_view_name": "LayoutView",
            "align_content": null,
            "align_items": null,
            "align_self": null,
            "border": null,
            "bottom": null,
            "display": null,
            "flex": null,
            "flex_flow": null,
            "grid_area": null,
            "grid_auto_columns": null,
            "grid_auto_flow": null,
            "grid_auto_rows": null,
            "grid_column": null,
            "grid_gap": null,
            "grid_row": null,
            "grid_template_areas": null,
            "grid_template_columns": null,
            "grid_template_rows": null,
            "height": null,
            "justify_content": null,
            "justify_items": null,
            "left": null,
            "margin": null,
            "max_height": null,
            "max_width": null,
            "min_height": null,
            "min_width": null,
            "object_fit": null,
            "object_position": null,
            "order": null,
            "overflow": null,
            "overflow_x": null,
            "overflow_y": null,
            "padding": null,
            "right": null,
            "top": null,
            "visibility": null,
            "width": null
          }
        },
        "768aae9f161f4fa894d8c14950de2802": {
          "model_module": "@jupyter-widgets/controls",
          "model_name": "DescriptionStyleModel",
          "model_module_version": "1.5.0",
          "state": {
            "_model_module": "@jupyter-widgets/controls",
            "_model_module_version": "1.5.0",
            "_model_name": "DescriptionStyleModel",
            "_view_count": null,
            "_view_module": "@jupyter-widgets/base",
            "_view_module_version": "1.2.0",
            "_view_name": "StyleView",
            "description_width": ""
          }
        },
        "7af635a1e01f422caf70e8b2a8fc3b36": {
          "model_module": "@jupyter-widgets/controls",
          "model_name": "HBoxModel",
          "model_module_version": "1.5.0",
          "state": {
            "_dom_classes": [],
            "_model_module": "@jupyter-widgets/controls",
            "_model_module_version": "1.5.0",
            "_model_name": "HBoxModel",
            "_view_count": null,
            "_view_module": "@jupyter-widgets/controls",
            "_view_module_version": "1.5.0",
            "_view_name": "HBoxView",
            "box_style": "",
            "children": [
              "IPY_MODEL_44485e2250514f99a721716b97f21a81",
              "IPY_MODEL_a51689bb585d4beba43e4aa5aabb44d0",
              "IPY_MODEL_5a1c070824864d34bd58e160bc44fa78"
            ],
            "layout": "IPY_MODEL_d5b94ca846f34050b3c97eed76a05ebf"
          }
        },
        "44485e2250514f99a721716b97f21a81": {
          "model_module": "@jupyter-widgets/controls",
          "model_name": "HTMLModel",
          "model_module_version": "1.5.0",
          "state": {
            "_dom_classes": [],
            "_model_module": "@jupyter-widgets/controls",
            "_model_module_version": "1.5.0",
            "_model_name": "HTMLModel",
            "_view_count": null,
            "_view_module": "@jupyter-widgets/controls",
            "_view_module_version": "1.5.0",
            "_view_name": "HTMLView",
            "description": "",
            "description_tooltip": null,
            "layout": "IPY_MODEL_9271cbfc42554d20ad1131629188d461",
            "placeholder": "​",
            "style": "IPY_MODEL_76c2fc7496824c6885712a4207810648",
            "value": "special_tokens_map.json: 100%"
          }
        },
        "a51689bb585d4beba43e4aa5aabb44d0": {
          "model_module": "@jupyter-widgets/controls",
          "model_name": "FloatProgressModel",
          "model_module_version": "1.5.0",
          "state": {
            "_dom_classes": [],
            "_model_module": "@jupyter-widgets/controls",
            "_model_module_version": "1.5.0",
            "_model_name": "FloatProgressModel",
            "_view_count": null,
            "_view_module": "@jupyter-widgets/controls",
            "_view_module_version": "1.5.0",
            "_view_name": "ProgressView",
            "bar_style": "success",
            "description": "",
            "description_tooltip": null,
            "layout": "IPY_MODEL_740abfc4921d4a7fbf68d0d77956d22e",
            "max": 65,
            "min": 0,
            "orientation": "horizontal",
            "style": "IPY_MODEL_480962034e7e495986dea558e7ddcfea",
            "value": 65
          }
        },
        "5a1c070824864d34bd58e160bc44fa78": {
          "model_module": "@jupyter-widgets/controls",
          "model_name": "HTMLModel",
          "model_module_version": "1.5.0",
          "state": {
            "_dom_classes": [],
            "_model_module": "@jupyter-widgets/controls",
            "_model_module_version": "1.5.0",
            "_model_name": "HTMLModel",
            "_view_count": null,
            "_view_module": "@jupyter-widgets/controls",
            "_view_module_version": "1.5.0",
            "_view_name": "HTMLView",
            "description": "",
            "description_tooltip": null,
            "layout": "IPY_MODEL_145bfff438bc42688c9cb16bdd74fa9a",
            "placeholder": "​",
            "style": "IPY_MODEL_df94ab440f844486b4302fd119226b82",
            "value": " 65.0/65.0 [00:00&lt;00:00, 5.64kB/s]"
          }
        },
        "d5b94ca846f34050b3c97eed76a05ebf": {
          "model_module": "@jupyter-widgets/base",
          "model_name": "LayoutModel",
          "model_module_version": "1.2.0",
          "state": {
            "_model_module": "@jupyter-widgets/base",
            "_model_module_version": "1.2.0",
            "_model_name": "LayoutModel",
            "_view_count": null,
            "_view_module": "@jupyter-widgets/base",
            "_view_module_version": "1.2.0",
            "_view_name": "LayoutView",
            "align_content": null,
            "align_items": null,
            "align_self": null,
            "border": null,
            "bottom": null,
            "display": null,
            "flex": null,
            "flex_flow": null,
            "grid_area": null,
            "grid_auto_columns": null,
            "grid_auto_flow": null,
            "grid_auto_rows": null,
            "grid_column": null,
            "grid_gap": null,
            "grid_row": null,
            "grid_template_areas": null,
            "grid_template_columns": null,
            "grid_template_rows": null,
            "height": null,
            "justify_content": null,
            "justify_items": null,
            "left": null,
            "margin": null,
            "max_height": null,
            "max_width": null,
            "min_height": null,
            "min_width": null,
            "object_fit": null,
            "object_position": null,
            "order": null,
            "overflow": null,
            "overflow_x": null,
            "overflow_y": null,
            "padding": null,
            "right": null,
            "top": null,
            "visibility": null,
            "width": null
          }
        },
        "9271cbfc42554d20ad1131629188d461": {
          "model_module": "@jupyter-widgets/base",
          "model_name": "LayoutModel",
          "model_module_version": "1.2.0",
          "state": {
            "_model_module": "@jupyter-widgets/base",
            "_model_module_version": "1.2.0",
            "_model_name": "LayoutModel",
            "_view_count": null,
            "_view_module": "@jupyter-widgets/base",
            "_view_module_version": "1.2.0",
            "_view_name": "LayoutView",
            "align_content": null,
            "align_items": null,
            "align_self": null,
            "border": null,
            "bottom": null,
            "display": null,
            "flex": null,
            "flex_flow": null,
            "grid_area": null,
            "grid_auto_columns": null,
            "grid_auto_flow": null,
            "grid_auto_rows": null,
            "grid_column": null,
            "grid_gap": null,
            "grid_row": null,
            "grid_template_areas": null,
            "grid_template_columns": null,
            "grid_template_rows": null,
            "height": null,
            "justify_content": null,
            "justify_items": null,
            "left": null,
            "margin": null,
            "max_height": null,
            "max_width": null,
            "min_height": null,
            "min_width": null,
            "object_fit": null,
            "object_position": null,
            "order": null,
            "overflow": null,
            "overflow_x": null,
            "overflow_y": null,
            "padding": null,
            "right": null,
            "top": null,
            "visibility": null,
            "width": null
          }
        },
        "76c2fc7496824c6885712a4207810648": {
          "model_module": "@jupyter-widgets/controls",
          "model_name": "DescriptionStyleModel",
          "model_module_version": "1.5.0",
          "state": {
            "_model_module": "@jupyter-widgets/controls",
            "_model_module_version": "1.5.0",
            "_model_name": "DescriptionStyleModel",
            "_view_count": null,
            "_view_module": "@jupyter-widgets/base",
            "_view_module_version": "1.2.0",
            "_view_name": "StyleView",
            "description_width": ""
          }
        },
        "740abfc4921d4a7fbf68d0d77956d22e": {
          "model_module": "@jupyter-widgets/base",
          "model_name": "LayoutModel",
          "model_module_version": "1.2.0",
          "state": {
            "_model_module": "@jupyter-widgets/base",
            "_model_module_version": "1.2.0",
            "_model_name": "LayoutModel",
            "_view_count": null,
            "_view_module": "@jupyter-widgets/base",
            "_view_module_version": "1.2.0",
            "_view_name": "LayoutView",
            "align_content": null,
            "align_items": null,
            "align_self": null,
            "border": null,
            "bottom": null,
            "display": null,
            "flex": null,
            "flex_flow": null,
            "grid_area": null,
            "grid_auto_columns": null,
            "grid_auto_flow": null,
            "grid_auto_rows": null,
            "grid_column": null,
            "grid_gap": null,
            "grid_row": null,
            "grid_template_areas": null,
            "grid_template_columns": null,
            "grid_template_rows": null,
            "height": null,
            "justify_content": null,
            "justify_items": null,
            "left": null,
            "margin": null,
            "max_height": null,
            "max_width": null,
            "min_height": null,
            "min_width": null,
            "object_fit": null,
            "object_position": null,
            "order": null,
            "overflow": null,
            "overflow_x": null,
            "overflow_y": null,
            "padding": null,
            "right": null,
            "top": null,
            "visibility": null,
            "width": null
          }
        },
        "480962034e7e495986dea558e7ddcfea": {
          "model_module": "@jupyter-widgets/controls",
          "model_name": "ProgressStyleModel",
          "model_module_version": "1.5.0",
          "state": {
            "_model_module": "@jupyter-widgets/controls",
            "_model_module_version": "1.5.0",
            "_model_name": "ProgressStyleModel",
            "_view_count": null,
            "_view_module": "@jupyter-widgets/base",
            "_view_module_version": "1.2.0",
            "_view_name": "StyleView",
            "bar_color": null,
            "description_width": ""
          }
        },
        "145bfff438bc42688c9cb16bdd74fa9a": {
          "model_module": "@jupyter-widgets/base",
          "model_name": "LayoutModel",
          "model_module_version": "1.2.0",
          "state": {
            "_model_module": "@jupyter-widgets/base",
            "_model_module_version": "1.2.0",
            "_model_name": "LayoutModel",
            "_view_count": null,
            "_view_module": "@jupyter-widgets/base",
            "_view_module_version": "1.2.0",
            "_view_name": "LayoutView",
            "align_content": null,
            "align_items": null,
            "align_self": null,
            "border": null,
            "bottom": null,
            "display": null,
            "flex": null,
            "flex_flow": null,
            "grid_area": null,
            "grid_auto_columns": null,
            "grid_auto_flow": null,
            "grid_auto_rows": null,
            "grid_column": null,
            "grid_gap": null,
            "grid_row": null,
            "grid_template_areas": null,
            "grid_template_columns": null,
            "grid_template_rows": null,
            "height": null,
            "justify_content": null,
            "justify_items": null,
            "left": null,
            "margin": null,
            "max_height": null,
            "max_width": null,
            "min_height": null,
            "min_width": null,
            "object_fit": null,
            "object_position": null,
            "order": null,
            "overflow": null,
            "overflow_x": null,
            "overflow_y": null,
            "padding": null,
            "right": null,
            "top": null,
            "visibility": null,
            "width": null
          }
        },
        "df94ab440f844486b4302fd119226b82": {
          "model_module": "@jupyter-widgets/controls",
          "model_name": "DescriptionStyleModel",
          "model_module_version": "1.5.0",
          "state": {
            "_model_module": "@jupyter-widgets/controls",
            "_model_module_version": "1.5.0",
            "_model_name": "DescriptionStyleModel",
            "_view_count": null,
            "_view_module": "@jupyter-widgets/base",
            "_view_module_version": "1.2.0",
            "_view_name": "StyleView",
            "description_width": ""
          }
        },
        "b8827141474146dfbf111c6383d01582": {
          "model_module": "@jupyter-widgets/controls",
          "model_name": "HBoxModel",
          "model_module_version": "1.5.0",
          "state": {
            "_dom_classes": [],
            "_model_module": "@jupyter-widgets/controls",
            "_model_module_version": "1.5.0",
            "_model_name": "HBoxModel",
            "_view_count": null,
            "_view_module": "@jupyter-widgets/controls",
            "_view_module_version": "1.5.0",
            "_view_name": "HBoxView",
            "box_style": "",
            "children": [
              "IPY_MODEL_810fcddd93114d6bba10fb8e21b68d3d",
              "IPY_MODEL_d4305be2114b4372a39883459a6f4a6f",
              "IPY_MODEL_997a1a6f7734463290dfd4ad750568b8"
            ],
            "layout": "IPY_MODEL_701c91fd491d40f785434e88b2164b81"
          }
        },
        "810fcddd93114d6bba10fb8e21b68d3d": {
          "model_module": "@jupyter-widgets/controls",
          "model_name": "HTMLModel",
          "model_module_version": "1.5.0",
          "state": {
            "_dom_classes": [],
            "_model_module": "@jupyter-widgets/controls",
            "_model_module_version": "1.5.0",
            "_model_name": "HTMLModel",
            "_view_count": null,
            "_view_module": "@jupyter-widgets/controls",
            "_view_module_version": "1.5.0",
            "_view_name": "HTMLView",
            "description": "",
            "description_tooltip": null,
            "layout": "IPY_MODEL_9a9352316dbf40658e9500920f429487",
            "placeholder": "​",
            "style": "IPY_MODEL_1f3a2ce3679b4831afeb5d21baf4720e",
            "value": "config.json: 100%"
          }
        },
        "d4305be2114b4372a39883459a6f4a6f": {
          "model_module": "@jupyter-widgets/controls",
          "model_name": "FloatProgressModel",
          "model_module_version": "1.5.0",
          "state": {
            "_dom_classes": [],
            "_model_module": "@jupyter-widgets/controls",
            "_model_module_version": "1.5.0",
            "_model_name": "FloatProgressModel",
            "_view_count": null,
            "_view_module": "@jupyter-widgets/controls",
            "_view_module_version": "1.5.0",
            "_view_name": "ProgressView",
            "bar_style": "success",
            "description": "",
            "description_tooltip": null,
            "layout": "IPY_MODEL_3689a58d8e5c47e796e74fafd52359e5",
            "max": 702,
            "min": 0,
            "orientation": "horizontal",
            "style": "IPY_MODEL_7bc27555c5e04ed2aae6ff8aa9817ee5",
            "value": 702
          }
        },
        "997a1a6f7734463290dfd4ad750568b8": {
          "model_module": "@jupyter-widgets/controls",
          "model_name": "HTMLModel",
          "model_module_version": "1.5.0",
          "state": {
            "_dom_classes": [],
            "_model_module": "@jupyter-widgets/controls",
            "_model_module_version": "1.5.0",
            "_model_name": "HTMLModel",
            "_view_count": null,
            "_view_module": "@jupyter-widgets/controls",
            "_view_module_version": "1.5.0",
            "_view_name": "HTMLView",
            "description": "",
            "description_tooltip": null,
            "layout": "IPY_MODEL_161d511782bd48bfb6dcf54711099fb2",
            "placeholder": "​",
            "style": "IPY_MODEL_dbe7837223da4426a9c6433f99a3aac8",
            "value": " 702/702 [00:00&lt;00:00, 53.0kB/s]"
          }
        },
        "701c91fd491d40f785434e88b2164b81": {
          "model_module": "@jupyter-widgets/base",
          "model_name": "LayoutModel",
          "model_module_version": "1.2.0",
          "state": {
            "_model_module": "@jupyter-widgets/base",
            "_model_module_version": "1.2.0",
            "_model_name": "LayoutModel",
            "_view_count": null,
            "_view_module": "@jupyter-widgets/base",
            "_view_module_version": "1.2.0",
            "_view_name": "LayoutView",
            "align_content": null,
            "align_items": null,
            "align_self": null,
            "border": null,
            "bottom": null,
            "display": null,
            "flex": null,
            "flex_flow": null,
            "grid_area": null,
            "grid_auto_columns": null,
            "grid_auto_flow": null,
            "grid_auto_rows": null,
            "grid_column": null,
            "grid_gap": null,
            "grid_row": null,
            "grid_template_areas": null,
            "grid_template_columns": null,
            "grid_template_rows": null,
            "height": null,
            "justify_content": null,
            "justify_items": null,
            "left": null,
            "margin": null,
            "max_height": null,
            "max_width": null,
            "min_height": null,
            "min_width": null,
            "object_fit": null,
            "object_position": null,
            "order": null,
            "overflow": null,
            "overflow_x": null,
            "overflow_y": null,
            "padding": null,
            "right": null,
            "top": null,
            "visibility": null,
            "width": null
          }
        },
        "9a9352316dbf40658e9500920f429487": {
          "model_module": "@jupyter-widgets/base",
          "model_name": "LayoutModel",
          "model_module_version": "1.2.0",
          "state": {
            "_model_module": "@jupyter-widgets/base",
            "_model_module_version": "1.2.0",
            "_model_name": "LayoutModel",
            "_view_count": null,
            "_view_module": "@jupyter-widgets/base",
            "_view_module_version": "1.2.0",
            "_view_name": "LayoutView",
            "align_content": null,
            "align_items": null,
            "align_self": null,
            "border": null,
            "bottom": null,
            "display": null,
            "flex": null,
            "flex_flow": null,
            "grid_area": null,
            "grid_auto_columns": null,
            "grid_auto_flow": null,
            "grid_auto_rows": null,
            "grid_column": null,
            "grid_gap": null,
            "grid_row": null,
            "grid_template_areas": null,
            "grid_template_columns": null,
            "grid_template_rows": null,
            "height": null,
            "justify_content": null,
            "justify_items": null,
            "left": null,
            "margin": null,
            "max_height": null,
            "max_width": null,
            "min_height": null,
            "min_width": null,
            "object_fit": null,
            "object_position": null,
            "order": null,
            "overflow": null,
            "overflow_x": null,
            "overflow_y": null,
            "padding": null,
            "right": null,
            "top": null,
            "visibility": null,
            "width": null
          }
        },
        "1f3a2ce3679b4831afeb5d21baf4720e": {
          "model_module": "@jupyter-widgets/controls",
          "model_name": "DescriptionStyleModel",
          "model_module_version": "1.5.0",
          "state": {
            "_model_module": "@jupyter-widgets/controls",
            "_model_module_version": "1.5.0",
            "_model_name": "DescriptionStyleModel",
            "_view_count": null,
            "_view_module": "@jupyter-widgets/base",
            "_view_module_version": "1.2.0",
            "_view_name": "StyleView",
            "description_width": ""
          }
        },
        "3689a58d8e5c47e796e74fafd52359e5": {
          "model_module": "@jupyter-widgets/base",
          "model_name": "LayoutModel",
          "model_module_version": "1.2.0",
          "state": {
            "_model_module": "@jupyter-widgets/base",
            "_model_module_version": "1.2.0",
            "_model_name": "LayoutModel",
            "_view_count": null,
            "_view_module": "@jupyter-widgets/base",
            "_view_module_version": "1.2.0",
            "_view_name": "LayoutView",
            "align_content": null,
            "align_items": null,
            "align_self": null,
            "border": null,
            "bottom": null,
            "display": null,
            "flex": null,
            "flex_flow": null,
            "grid_area": null,
            "grid_auto_columns": null,
            "grid_auto_flow": null,
            "grid_auto_rows": null,
            "grid_column": null,
            "grid_gap": null,
            "grid_row": null,
            "grid_template_areas": null,
            "grid_template_columns": null,
            "grid_template_rows": null,
            "height": null,
            "justify_content": null,
            "justify_items": null,
            "left": null,
            "margin": null,
            "max_height": null,
            "max_width": null,
            "min_height": null,
            "min_width": null,
            "object_fit": null,
            "object_position": null,
            "order": null,
            "overflow": null,
            "overflow_x": null,
            "overflow_y": null,
            "padding": null,
            "right": null,
            "top": null,
            "visibility": null,
            "width": null
          }
        },
        "7bc27555c5e04ed2aae6ff8aa9817ee5": {
          "model_module": "@jupyter-widgets/controls",
          "model_name": "ProgressStyleModel",
          "model_module_version": "1.5.0",
          "state": {
            "_model_module": "@jupyter-widgets/controls",
            "_model_module_version": "1.5.0",
            "_model_name": "ProgressStyleModel",
            "_view_count": null,
            "_view_module": "@jupyter-widgets/base",
            "_view_module_version": "1.2.0",
            "_view_name": "StyleView",
            "bar_color": null,
            "description_width": ""
          }
        },
        "161d511782bd48bfb6dcf54711099fb2": {
          "model_module": "@jupyter-widgets/base",
          "model_name": "LayoutModel",
          "model_module_version": "1.2.0",
          "state": {
            "_model_module": "@jupyter-widgets/base",
            "_model_module_version": "1.2.0",
            "_model_name": "LayoutModel",
            "_view_count": null,
            "_view_module": "@jupyter-widgets/base",
            "_view_module_version": "1.2.0",
            "_view_name": "LayoutView",
            "align_content": null,
            "align_items": null,
            "align_self": null,
            "border": null,
            "bottom": null,
            "display": null,
            "flex": null,
            "flex_flow": null,
            "grid_area": null,
            "grid_auto_columns": null,
            "grid_auto_flow": null,
            "grid_auto_rows": null,
            "grid_column": null,
            "grid_gap": null,
            "grid_row": null,
            "grid_template_areas": null,
            "grid_template_columns": null,
            "grid_template_rows": null,
            "height": null,
            "justify_content": null,
            "justify_items": null,
            "left": null,
            "margin": null,
            "max_height": null,
            "max_width": null,
            "min_height": null,
            "min_width": null,
            "object_fit": null,
            "object_position": null,
            "order": null,
            "overflow": null,
            "overflow_x": null,
            "overflow_y": null,
            "padding": null,
            "right": null,
            "top": null,
            "visibility": null,
            "width": null
          }
        },
        "dbe7837223da4426a9c6433f99a3aac8": {
          "model_module": "@jupyter-widgets/controls",
          "model_name": "DescriptionStyleModel",
          "model_module_version": "1.5.0",
          "state": {
            "_model_module": "@jupyter-widgets/controls",
            "_model_module_version": "1.5.0",
            "_model_name": "DescriptionStyleModel",
            "_view_count": null,
            "_view_module": "@jupyter-widgets/base",
            "_view_module_version": "1.2.0",
            "_view_name": "StyleView",
            "description_width": ""
          }
        }
      }
    },
    "kaggle": {
      "accelerator": "nvidiaTeslaT4",
      "dataSources": [
        {
          "sourceId": 10208527,
          "sourceType": "datasetVersion",
          "datasetId": 6309140
        }
      ],
      "dockerImageVersionId": 30805,
      "isInternetEnabled": true,
      "language": "python",
      "sourceType": "notebook",
      "isGpuEnabled": true
    }
  },
  "nbformat_minor": 0,
  "nbformat": 4,
  "cells": [
    {
      "cell_type": "code",
      "source": [
        "!pip install transformers rouge-score bert-score"
      ],
      "metadata": {
        "colab": {
          "base_uri": "https://localhost:8080/"
        },
        "id": "WfCPms7Ldc8M",
        "outputId": "8e59b6d2-9a17-4c81-8ac2-995d7fdb7014",
        "trusted": true,
        "execution": {
          "iopub.status.busy": "2024-12-15T22:08:06.445845Z",
          "iopub.execute_input": "2024-12-15T22:08:06.446531Z",
          "iopub.status.idle": "2024-12-15T22:08:17.589146Z",
          "shell.execute_reply.started": "2024-12-15T22:08:06.446496Z",
          "shell.execute_reply": "2024-12-15T22:08:17.588065Z"
        },
        "collapsed": true
      },
      "outputs": [
        {
          "name": "stdout",
          "text": "Requirement already satisfied: transformers in /opt/conda/lib/python3.10/site-packages (4.46.3)\nCollecting rouge-score\n  Downloading rouge_score-0.1.2.tar.gz (17 kB)\n  Preparing metadata (setup.py) ... \u001b[?25ldone\n\u001b[?25hCollecting bert-score\n  Downloading bert_score-0.3.13-py3-none-any.whl.metadata (15 kB)\nRequirement already satisfied: filelock in /opt/conda/lib/python3.10/site-packages (from transformers) (3.15.1)\nRequirement already satisfied: huggingface-hub<1.0,>=0.23.2 in /opt/conda/lib/python3.10/site-packages (from transformers) (0.26.2)\nRequirement already satisfied: numpy>=1.17 in /opt/conda/lib/python3.10/site-packages (from transformers) (1.26.4)\nRequirement already satisfied: packaging>=20.0 in /opt/conda/lib/python3.10/site-packages (from transformers) (21.3)\nRequirement already satisfied: pyyaml>=5.1 in /opt/conda/lib/python3.10/site-packages (from transformers) (6.0.2)\nRequirement already satisfied: regex!=2019.12.17 in /opt/conda/lib/python3.10/site-packages (from transformers) (2024.5.15)\nRequirement already satisfied: requests in /opt/conda/lib/python3.10/site-packages (from transformers) (2.32.3)\nRequirement already satisfied: tokenizers<0.21,>=0.20 in /opt/conda/lib/python3.10/site-packages (from transformers) (0.20.3)\nRequirement already satisfied: safetensors>=0.4.1 in /opt/conda/lib/python3.10/site-packages (from transformers) (0.4.5)\nRequirement already satisfied: tqdm>=4.27 in /opt/conda/lib/python3.10/site-packages (from transformers) (4.66.4)\nRequirement already satisfied: absl-py in /opt/conda/lib/python3.10/site-packages (from rouge-score) (1.4.0)\nRequirement already satisfied: nltk in /opt/conda/lib/python3.10/site-packages (from rouge-score) (3.2.4)\nRequirement already satisfied: six>=1.14.0 in /opt/conda/lib/python3.10/site-packages (from rouge-score) (1.16.0)\nRequirement already satisfied: torch>=1.0.0 in /opt/conda/lib/python3.10/site-packages (from bert-score) (2.4.0)\nRequirement already satisfied: pandas>=1.0.1 in /opt/conda/lib/python3.10/site-packages (from bert-score) (2.2.3)\nRequirement already satisfied: matplotlib in /opt/conda/lib/python3.10/site-packages (from bert-score) (3.7.5)\nRequirement already satisfied: fsspec>=2023.5.0 in /opt/conda/lib/python3.10/site-packages (from huggingface-hub<1.0,>=0.23.2->transformers) (2024.6.0)\nRequirement already satisfied: typing-extensions>=3.7.4.3 in /opt/conda/lib/python3.10/site-packages (from huggingface-hub<1.0,>=0.23.2->transformers) (4.12.2)\nRequirement already satisfied: pyparsing!=3.0.5,>=2.0.2 in /opt/conda/lib/python3.10/site-packages (from packaging>=20.0->transformers) (3.1.2)\nRequirement already satisfied: python-dateutil>=2.8.2 in /opt/conda/lib/python3.10/site-packages (from pandas>=1.0.1->bert-score) (2.9.0.post0)\nRequirement already satisfied: pytz>=2020.1 in /opt/conda/lib/python3.10/site-packages (from pandas>=1.0.1->bert-score) (2024.1)\nRequirement already satisfied: tzdata>=2022.7 in /opt/conda/lib/python3.10/site-packages (from pandas>=1.0.1->bert-score) (2024.1)\nRequirement already satisfied: sympy in /opt/conda/lib/python3.10/site-packages (from torch>=1.0.0->bert-score) (1.13.3)\nRequirement already satisfied: networkx in /opt/conda/lib/python3.10/site-packages (from torch>=1.0.0->bert-score) (3.3)\nRequirement already satisfied: jinja2 in /opt/conda/lib/python3.10/site-packages (from torch>=1.0.0->bert-score) (3.1.4)\nRequirement already satisfied: contourpy>=1.0.1 in /opt/conda/lib/python3.10/site-packages (from matplotlib->bert-score) (1.2.1)\nRequirement already satisfied: cycler>=0.10 in /opt/conda/lib/python3.10/site-packages (from matplotlib->bert-score) (0.12.1)\nRequirement already satisfied: fonttools>=4.22.0 in /opt/conda/lib/python3.10/site-packages (from matplotlib->bert-score) (4.53.0)\nRequirement already satisfied: kiwisolver>=1.0.1 in /opt/conda/lib/python3.10/site-packages (from matplotlib->bert-score) (1.4.5)\nRequirement already satisfied: pillow>=6.2.0 in /opt/conda/lib/python3.10/site-packages (from matplotlib->bert-score) (10.3.0)\nRequirement already satisfied: charset-normalizer<4,>=2 in /opt/conda/lib/python3.10/site-packages (from requests->transformers) (3.3.2)\nRequirement already satisfied: idna<4,>=2.5 in /opt/conda/lib/python3.10/site-packages (from requests->transformers) (3.7)\nRequirement already satisfied: urllib3<3,>=1.21.1 in /opt/conda/lib/python3.10/site-packages (from requests->transformers) (1.26.18)\nRequirement already satisfied: certifi>=2017.4.17 in /opt/conda/lib/python3.10/site-packages (from requests->transformers) (2024.6.2)\nRequirement already satisfied: MarkupSafe>=2.0 in /opt/conda/lib/python3.10/site-packages (from jinja2->torch>=1.0.0->bert-score) (2.1.5)\nRequirement already satisfied: mpmath<1.4,>=1.1.0 in /opt/conda/lib/python3.10/site-packages (from sympy->torch>=1.0.0->bert-score) (1.3.0)\nDownloading bert_score-0.3.13-py3-none-any.whl (61 kB)\n\u001b[2K   \u001b[90m━━━━━━━━━━━━━━━━━━━━━━━━━━━━━━━━━━━━━━━━\u001b[0m \u001b[32m61.1/61.1 kB\u001b[0m \u001b[31m2.5 MB/s\u001b[0m eta \u001b[36m0:00:00\u001b[0m\n\u001b[?25hBuilding wheels for collected packages: rouge-score\n  Building wheel for rouge-score (setup.py) ... \u001b[?25ldone\n\u001b[?25h  Created wheel for rouge-score: filename=rouge_score-0.1.2-py3-none-any.whl size=24934 sha256=390d4740ad9b361a0482d7fba0eaa2f98006537646f288520409948dda87a312\n  Stored in directory: /root/.cache/pip/wheels/5f/dd/89/461065a73be61a532ff8599a28e9beef17985c9e9c31e541b4\nSuccessfully built rouge-score\nInstalling collected packages: rouge-score, bert-score\nSuccessfully installed bert-score-0.3.13 rouge-score-0.1.2\n",
          "output_type": "stream"
        }
      ],
      "execution_count": null
    },
    {
      "cell_type": "code",
      "source": [
        "import pandas as pd\n",
        "import torch\n",
        "from torch.utils.data import DataLoader, Dataset\n",
        "from transformers import AutoTokenizer, MT5ForConditionalGeneration\n",
        "from sklearn.model_selection import train_test_split\n",
        "from rouge_score import rouge_scorer\n",
        "from bert_score import score as bert_score"
      ],
      "metadata": {
        "id": "6A-fpy-BeR2e",
        "trusted": true,
        "execution": {
          "iopub.status.busy": "2024-12-15T22:08:17.591425Z",
          "iopub.execute_input": "2024-12-15T22:08:17.592157Z",
          "iopub.status.idle": "2024-12-15T22:08:32.111965Z",
          "shell.execute_reply.started": "2024-12-15T22:08:17.592110Z",
          "shell.execute_reply": "2024-12-15T22:08:32.111059Z"
        }
      },
      "outputs": [],
      "execution_count": null
    },
    {
      "cell_type": "code",
      "source": [
        "import os\n",
        "os.listdir('/kaggle/input')"
      ],
      "metadata": {
        "trusted": true,
        "execution": {
          "iopub.status.busy": "2024-12-15T22:08:32.113152Z",
          "iopub.execute_input": "2024-12-15T22:08:32.113638Z",
          "iopub.status.idle": "2024-12-15T22:08:32.119696Z",
          "shell.execute_reply.started": "2024-12-15T22:08:32.113609Z",
          "shell.execute_reply": "2024-12-15T22:08:32.118738Z"
        },
        "id": "5Z-OTLAa7mdC",
        "outputId": "f25149cc-b923-4098-9f90-fbca1ba57920"
      },
      "outputs": [
        {
          "execution_count": 4,
          "output_type": "execute_result",
          "data": {
            "text/plain": "['dataset-lowercase-clean']"
          },
          "metadata": {}
        }
      ],
      "execution_count": null
    },
    {
      "cell_type": "code",
      "source": [
        "from transformers import AutoTokenizer, AutoModelForSeq2SeqLM\n",
        "\n",
        "tokenizer = AutoTokenizer.from_pretrained(\"google/mt5-small\")\n",
        "model = AutoModelForSeq2SeqLM.from_pretrained(\"google/mt5-small\")"
      ],
      "metadata": {
        "colab": {
          "base_uri": "https://localhost:8080/",
          "height": 286,
          "referenced_widgets": [
            "9b5829b687e34343b55673cafd0910d2",
            "864b0f28ee6f47069895f24e28f8d04c",
            "c31f65bc36a34221b7c625157f605257",
            "6e0221b5db9e4365b73670ccd2a2f1aa",
            "911eaf4482414d9ebaca5d6297966522",
            "b584ae8bd32049428816d61a8bcdba52",
            "1ebcda1818f641029b1b88cbd13d9c9d",
            "167bf9ac83c2449284c05ba5c36f93d7",
            "c4a39a2528274101a6217b595b587b4d",
            "40c29e1e14fe415cbfc0b874e115000e",
            "3b5caf2d38ed45a48590dd3ee8c99e63",
            "de89784d987246ad8c81fe1989b3c0da",
            "fa9e2081978f4ee3aae8d195351c272d",
            "650fa207dccd4bc4add8d8144df48ece",
            "8ae01565251244a1a4fa9d9a36d315ae",
            "21de8a49695c4329845c4e2dd80f2410",
            "0853300baba04bf3aff5606a5a51c3e3",
            "dbbe5e44903c4a5fa7905aff5b80b2f1",
            "5b6cf8f46a6e495d8f78158bf6d9d93c",
            "4bfe35a9c28c4763868e8f2fb0b9ff60",
            "2fb5cd1d617542d0b092c4bae4823816",
            "768aae9f161f4fa894d8c14950de2802",
            "7af635a1e01f422caf70e8b2a8fc3b36",
            "44485e2250514f99a721716b97f21a81",
            "a51689bb585d4beba43e4aa5aabb44d0",
            "5a1c070824864d34bd58e160bc44fa78",
            "d5b94ca846f34050b3c97eed76a05ebf",
            "9271cbfc42554d20ad1131629188d461",
            "76c2fc7496824c6885712a4207810648",
            "740abfc4921d4a7fbf68d0d77956d22e",
            "480962034e7e495986dea558e7ddcfea",
            "145bfff438bc42688c9cb16bdd74fa9a",
            "df94ab440f844486b4302fd119226b82",
            "b8827141474146dfbf111c6383d01582",
            "810fcddd93114d6bba10fb8e21b68d3d",
            "d4305be2114b4372a39883459a6f4a6f",
            "997a1a6f7734463290dfd4ad750568b8",
            "701c91fd491d40f785434e88b2164b81",
            "9a9352316dbf40658e9500920f429487",
            "1f3a2ce3679b4831afeb5d21baf4720e",
            "3689a58d8e5c47e796e74fafd52359e5",
            "7bc27555c5e04ed2aae6ff8aa9817ee5",
            "161d511782bd48bfb6dcf54711099fb2",
            "dbe7837223da4426a9c6433f99a3aac8",
            "4f091b3204c54bed8a8eb0cf22f96d4d",
            "0747fb97a3594f0596c3f93079d22f7d",
            "384c6721750240b0a4d89982c2aa771a",
            "996a5823ef32403085cc44b53b7b550e",
            "f5bce072ab6947d0904ad211969df4cd",
            "cb9b5854307a4f8490a69e3151cfc4c4"
          ]
        },
        "id": "wzE1siN-eWga",
        "outputId": "3dc28267-b8f2-462d-b4de-8747a0a8e0e8",
        "trusted": true,
        "execution": {
          "iopub.status.busy": "2024-12-15T22:10:45.848290Z",
          "iopub.execute_input": "2024-12-15T22:10:45.848950Z",
          "iopub.status.idle": "2024-12-15T22:10:55.328367Z",
          "shell.execute_reply.started": "2024-12-15T22:10:45.848913Z",
          "shell.execute_reply": "2024-12-15T22:10:55.327447Z"
        }
      },
      "outputs": [
        {
          "output_type": "display_data",
          "data": {
            "text/plain": "tokenizer_config.json:   0%|          | 0.00/82.0 [00:00<?, ?B/s]",
            "application/vnd.jupyter.widget-view+json": {
              "version_major": 2,
              "version_minor": 0,
              "model_id": "4f091b3204c54bed8a8eb0cf22f96d4d"
            }
          },
          "metadata": {}
        },
        {
          "output_type": "display_data",
          "data": {
            "text/plain": "config.json:   0%|          | 0.00/553 [00:00<?, ?B/s]",
            "application/vnd.jupyter.widget-view+json": {
              "version_major": 2,
              "version_minor": 0,
              "model_id": "0747fb97a3594f0596c3f93079d22f7d"
            }
          },
          "metadata": {}
        },
        {
          "output_type": "display_data",
          "data": {
            "text/plain": "spiece.model:   0%|          | 0.00/4.31M [00:00<?, ?B/s]",
            "application/vnd.jupyter.widget-view+json": {
              "version_major": 2,
              "version_minor": 0,
              "model_id": "384c6721750240b0a4d89982c2aa771a"
            }
          },
          "metadata": {}
        },
        {
          "output_type": "display_data",
          "data": {
            "text/plain": "special_tokens_map.json:   0%|          | 0.00/99.0 [00:00<?, ?B/s]",
            "application/vnd.jupyter.widget-view+json": {
              "version_major": 2,
              "version_minor": 0,
              "model_id": "996a5823ef32403085cc44b53b7b550e"
            }
          },
          "metadata": {}
        },
        {
          "name": "stderr",
          "text": "You are using the default legacy behaviour of the <class 'transformers.models.t5.tokenization_t5.T5Tokenizer'>. This is expected, and simply means that the `legacy` (previous) behavior will be used so nothing changes for you. If you want to use the new behaviour, set `legacy=False`. This should only be set if you understand what it means, and thoroughly read the reason why this was added as explained in https://github.com/huggingface/transformers/pull/24565\n/opt/conda/lib/python3.10/site-packages/transformers/convert_slow_tokenizer.py:561: UserWarning: The sentencepiece tokenizer that you are converting to a fast tokenizer uses the byte fallback option which is not implemented in the fast tokenizers. In practice this means that the fast version of the tokenizer can produce unknown tokens whereas the sentencepiece version would have converted these unknown tokens into a sequence of byte tokens matching the original piece of text.\n  warnings.warn(\n",
          "output_type": "stream"
        },
        {
          "output_type": "display_data",
          "data": {
            "text/plain": "pytorch_model.bin:   0%|          | 0.00/1.20G [00:00<?, ?B/s]",
            "application/vnd.jupyter.widget-view+json": {
              "version_major": 2,
              "version_minor": 0,
              "model_id": "f5bce072ab6947d0904ad211969df4cd"
            }
          },
          "metadata": {}
        },
        {
          "output_type": "display_data",
          "data": {
            "text/plain": "generation_config.json:   0%|          | 0.00/147 [00:00<?, ?B/s]",
            "application/vnd.jupyter.widget-view+json": {
              "version_major": 2,
              "version_minor": 0,
              "model_id": "cb9b5854307a4f8490a69e3151cfc4c4"
            }
          },
          "metadata": {}
        }
      ],
      "execution_count": null
    },
    {
      "cell_type": "code",
      "source": [
        "file_paths = {\n",
        "    'train': '/kaggle/input/dataset-lowercase-clean/train_data (1).csv',\n",
        "    'test': '/kaggle/input/dataset-lowercase-clean/test_data (1).csv',\n",
        "    'val': '/kaggle/input/dataset-lowercase-clean/val_data.csv'\n",
        "}\n",
        "\n",
        "# Fungsi untuk membaca dan melakukan tokenisasi pada data\n",
        "def process_data(file_path):\n",
        "    # Membaca CSV\n",
        "    data = pd.read_csv(file_path)\n",
        "\n",
        "    # Mengganti NaN dengan string kosong agar tokenizer bisa bekerja dengan data yang valid\n",
        "    data['content'] = data['content'].fillna('')\n",
        "    data['summary'] = data['summary'].fillna('')\n",
        "\n",
        "    # Tokenisasi kolom 'content' dan 'summary' dengan padding dan attention mask otomatis\n",
        "    input_encodings = tokenizer(\n",
        "        data['content'].tolist(),\n",
        "        max_length=512,\n",
        "        padding='max_length',\n",
        "        truncation=True,\n",
        "        return_tensors=\"pt\"\n",
        "    )\n",
        "\n",
        "    target_encodings = tokenizer(\n",
        "        data['summary'].tolist(),\n",
        "        max_length=150,\n",
        "        padding='max_length',\n",
        "        truncation=True,\n",
        "        return_tensors=\"pt\"\n",
        "    )\n",
        "\n",
        "    # Menambahkan kolom tokenisasi ke DataFrame\n",
        "    data['input_ids'] = input_encodings['input_ids'].tolist()\n",
        "    data['attention_mask'] = input_encodings['attention_mask'].tolist()\n",
        "    data['labels'] = target_encodings['input_ids'].tolist()\n",
        "\n",
        "    return data[['content', 'summary', 'input_ids', 'attention_mask', 'labels']]\n",
        "\n",
        "# Proses data untuk train, test, dan val\n",
        "train_data = process_data(file_paths['train'])\n",
        "test_data = process_data(file_paths['test'])\n",
        "val_data = process_data(file_paths['val'])\n",
        "\n",
        "train_data.head()"
      ],
      "metadata": {
        "trusted": true,
        "execution": {
          "iopub.status.busy": "2024-12-15T22:10:55.329611Z",
          "iopub.execute_input": "2024-12-15T22:10:55.329846Z",
          "iopub.status.idle": "2024-12-15T22:11:07.862619Z",
          "shell.execute_reply.started": "2024-12-15T22:10:55.329823Z",
          "shell.execute_reply": "2024-12-15T22:11:07.861569Z"
        },
        "colab": {
          "referenced_widgets": [
            "eb051c9c91ba4a2281b72777a1b4bb16"
          ]
        },
        "id": "GGN4IZcy7mdD",
        "outputId": "6b68ddf7-1029-4fe6-a016-453e51388853"
      },
      "outputs": [
        {
          "output_type": "display_data",
          "data": {
            "text/plain": "model.safetensors:   0%|          | 0.00/1.20G [00:00<?, ?B/s]",
            "application/vnd.jupyter.widget-view+json": {
              "version_major": 2,
              "version_minor": 0,
              "model_id": "eb051c9c91ba4a2281b72777a1b4bb16"
            }
          },
          "metadata": {}
        },
        {
          "execution_count": 7,
          "output_type": "execute_result",
          "data": {
            "text/plain": "                                             content  \\\n0  ketua dewan pimpinan wilayah psi jakarta, elva...   \n1  pt pelayaran nasional indonesia (persero) atau...   \n2  shahnaz haque bercerita tentang kronologi meni...   \n3  bank indonesia (bi) mengajak investor china me...   \n4  ketua bidang pelayanan pusat kedokteran dan ke...   \n\n                                             summary  \\\n0  psi menargetkan ridwan kamil-suswono menang sa...   \n1  pt pelni (persero) sedang membuka lowongan ker...   \n2  adik marissa haque, shahnaz haque mengungkapka...   \n3  bi mengajak investor china memanfaatkan peluan...   \n4  pusdokkes polri masih kesulitan mengidentifika...   \n\n                                           input_ids  \\\n0  [67168, 262, 269, 3015, 421, 53414, 321, 6477,...   \n1  [259, 2766, 5174, 44901, 259, 61753, 31265, 27...   \n2  [90400, 377, 360, 560, 921, 693, 72555, 259, 7...   \n3  [4896, 31265, 274, 1873, 271, 10612, 4652, 506...   \n4  [67168, 262, 330, 51933, 3932, 15893, 47560, 2...   \n\n                                      attention_mask  \\\n0  [1, 1, 1, 1, 1, 1, 1, 1, 1, 1, 1, 1, 1, 1, 1, ...   \n1  [1, 1, 1, 1, 1, 1, 1, 1, 1, 1, 1, 1, 1, 1, 1, ...   \n2  [1, 1, 1, 1, 1, 1, 1, 1, 1, 1, 1, 1, 1, 1, 1, ...   \n3  [1, 1, 1, 1, 1, 1, 1, 1, 1, 1, 1, 1, 1, 1, 1, ...   \n4  [1, 1, 1, 1, 1, 1, 1, 1, 1, 1, 1, 1, 1, 1, 1, ...   \n\n                                              labels  \n0  [101638, 107536, 1707, 502, 30003, 3015, 3156,...  \n1  [259, 2766, 5174, 516, 274, 24420, 2634, 271, ...  \n2  [74591, 1798, 5159, 560, 921, 261, 90400, 377,...  \n3  [837, 10612, 4652, 50602, 39896, 416, 23553, 5...  \n4  [8165, 35476, 16954, 6553, 874, 259, 6885, 914...  ",
            "text/html": "<div>\n<style scoped>\n    .dataframe tbody tr th:only-of-type {\n        vertical-align: middle;\n    }\n\n    .dataframe tbody tr th {\n        vertical-align: top;\n    }\n\n    .dataframe thead th {\n        text-align: right;\n    }\n</style>\n<table border=\"1\" class=\"dataframe\">\n  <thead>\n    <tr style=\"text-align: right;\">\n      <th></th>\n      <th>content</th>\n      <th>summary</th>\n      <th>input_ids</th>\n      <th>attention_mask</th>\n      <th>labels</th>\n    </tr>\n  </thead>\n  <tbody>\n    <tr>\n      <th>0</th>\n      <td>ketua dewan pimpinan wilayah psi jakarta, elva...</td>\n      <td>psi menargetkan ridwan kamil-suswono menang sa...</td>\n      <td>[67168, 262, 269, 3015, 421, 53414, 321, 6477,...</td>\n      <td>[1, 1, 1, 1, 1, 1, 1, 1, 1, 1, 1, 1, 1, 1, 1, ...</td>\n      <td>[101638, 107536, 1707, 502, 30003, 3015, 3156,...</td>\n    </tr>\n    <tr>\n      <th>1</th>\n      <td>pt pelayaran nasional indonesia (persero) atau...</td>\n      <td>pt pelni (persero) sedang membuka lowongan ker...</td>\n      <td>[259, 2766, 5174, 44901, 259, 61753, 31265, 27...</td>\n      <td>[1, 1, 1, 1, 1, 1, 1, 1, 1, 1, 1, 1, 1, 1, 1, ...</td>\n      <td>[259, 2766, 5174, 516, 274, 24420, 2634, 271, ...</td>\n    </tr>\n    <tr>\n      <th>2</th>\n      <td>shahnaz haque bercerita tentang kronologi meni...</td>\n      <td>adik marissa haque, shahnaz haque mengungkapka...</td>\n      <td>[90400, 377, 360, 560, 921, 693, 72555, 259, 7...</td>\n      <td>[1, 1, 1, 1, 1, 1, 1, 1, 1, 1, 1, 1, 1, 1, 1, ...</td>\n      <td>[74591, 1798, 5159, 560, 921, 261, 90400, 377,...</td>\n    </tr>\n    <tr>\n      <th>3</th>\n      <td>bank indonesia (bi) mengajak investor china me...</td>\n      <td>bi mengajak investor china memanfaatkan peluan...</td>\n      <td>[4896, 31265, 274, 1873, 271, 10612, 4652, 506...</td>\n      <td>[1, 1, 1, 1, 1, 1, 1, 1, 1, 1, 1, 1, 1, 1, 1, ...</td>\n      <td>[837, 10612, 4652, 50602, 39896, 416, 23553, 5...</td>\n    </tr>\n    <tr>\n      <th>4</th>\n      <td>ketua bidang pelayanan pusat kedokteran dan ke...</td>\n      <td>pusdokkes polri masih kesulitan mengidentifika...</td>\n      <td>[67168, 262, 330, 51933, 3932, 15893, 47560, 2...</td>\n      <td>[1, 1, 1, 1, 1, 1, 1, 1, 1, 1, 1, 1, 1, 1, 1, ...</td>\n      <td>[8165, 35476, 16954, 6553, 874, 259, 6885, 914...</td>\n    </tr>\n  </tbody>\n</table>\n</div>"
          },
          "metadata": {}
        }
      ],
      "execution_count": null
    },
    {
      "cell_type": "code",
      "source": [
        "train_data.to_csv('train_data_tokenized.csv', index=False)\n",
        "test_data.to_csv('test_data_tokenized.csv', index=False)\n",
        "val_data.to_csv('val_data_tokenized.csv', index=False)\n"
      ],
      "metadata": {
        "trusted": true,
        "execution": {
          "iopub.status.busy": "2024-12-15T22:11:07.863923Z",
          "iopub.execute_input": "2024-12-15T22:11:07.864169Z",
          "iopub.status.idle": "2024-12-15T22:11:10.783250Z",
          "shell.execute_reply.started": "2024-12-15T22:11:07.864145Z",
          "shell.execute_reply": "2024-12-15T22:11:10.782169Z"
        },
        "id": "nZW-Cbhh7mdE"
      },
      "outputs": [],
      "execution_count": null
    },
    {
      "cell_type": "code",
      "source": [
        "# Dataset Class (menggunakan token yang sudah ada)\n",
        "class SummaryDataset(Dataset):\n",
        "    def __init__(self, dataframe):\n",
        "        self.data = dataframe\n",
        "\n",
        "    def __len__(self):\n",
        "        return len(self.data)\n",
        "\n",
        "    def __getitem__(self, idx):\n",
        "        return {\n",
        "            'input_ids': torch.tensor(self.data.iloc[idx]['input_ids']),\n",
        "            'attention_mask': torch.tensor(self.data.iloc[idx]['attention_mask']),\n",
        "            'labels': torch.tensor(self.data.iloc[idx]['labels'])\n",
        "        }\n",
        "\n",
        "# Membuat dataset untuk train, validation, dan test set\n",
        "train_dataset = SummaryDataset(train_data)\n",
        "val_dataset = SummaryDataset(val_data)\n",
        "test_dataset = SummaryDataset(test_data)\n",
        "\n",
        "# Membuat DataLoader untuk batch training\n",
        "train_dataloader = DataLoader(train_dataset, batch_size=4, shuffle=True)\n",
        "val_dataloader = DataLoader(val_dataset, batch_size=4, shuffle=False)\n",
        "test_dataloader = DataLoader(test_dataset, batch_size=4, shuffle=False)"
      ],
      "metadata": {
        "trusted": true,
        "execution": {
          "iopub.status.busy": "2024-12-15T22:11:10.786863Z",
          "iopub.execute_input": "2024-12-15T22:11:10.787143Z",
          "iopub.status.idle": "2024-12-15T22:11:10.794762Z",
          "shell.execute_reply.started": "2024-12-15T22:11:10.787118Z",
          "shell.execute_reply": "2024-12-15T22:11:10.793584Z"
        },
        "id": "FA9xf64I7mdE"
      },
      "outputs": [],
      "execution_count": null
    },
    {
      "cell_type": "code",
      "source": [
        "model = MT5ForConditionalGeneration.from_pretrained(\"google/mt5-small\")\n",
        "device = torch.device(\"cuda\" if torch.cuda.is_available() else \"cpu\")\n",
        "model.to(device)"
      ],
      "metadata": {
        "trusted": true,
        "execution": {
          "iopub.status.busy": "2024-12-15T22:11:10.796017Z",
          "iopub.execute_input": "2024-12-15T22:11:10.796307Z",
          "iopub.status.idle": "2024-12-15T22:11:11.933627Z",
          "shell.execute_reply.started": "2024-12-15T22:11:10.796270Z",
          "shell.execute_reply": "2024-12-15T22:11:11.932757Z"
        },
        "id": "cFYzf31z7mdF",
        "outputId": "3f13ef90-be4c-4a08-9c8a-0809e9bd279a",
        "collapsed": true
      },
      "outputs": [
        {
          "execution_count": 10,
          "output_type": "execute_result",
          "data": {
            "text/plain": "MT5ForConditionalGeneration(\n  (shared): Embedding(250112, 512)\n  (encoder): MT5Stack(\n    (embed_tokens): Embedding(250112, 512)\n    (block): ModuleList(\n      (0): MT5Block(\n        (layer): ModuleList(\n          (0): MT5LayerSelfAttention(\n            (SelfAttention): MT5Attention(\n              (q): Linear(in_features=512, out_features=384, bias=False)\n              (k): Linear(in_features=512, out_features=384, bias=False)\n              (v): Linear(in_features=512, out_features=384, bias=False)\n              (o): Linear(in_features=384, out_features=512, bias=False)\n              (relative_attention_bias): Embedding(32, 6)\n            )\n            (layer_norm): MT5LayerNorm()\n            (dropout): Dropout(p=0.1, inplace=False)\n          )\n          (1): MT5LayerFF(\n            (DenseReluDense): MT5DenseGatedActDense(\n              (wi_0): Linear(in_features=512, out_features=1024, bias=False)\n              (wi_1): Linear(in_features=512, out_features=1024, bias=False)\n              (wo): Linear(in_features=1024, out_features=512, bias=False)\n              (dropout): Dropout(p=0.1, inplace=False)\n              (act): NewGELUActivation()\n            )\n            (layer_norm): MT5LayerNorm()\n            (dropout): Dropout(p=0.1, inplace=False)\n          )\n        )\n      )\n      (1-7): 7 x MT5Block(\n        (layer): ModuleList(\n          (0): MT5LayerSelfAttention(\n            (SelfAttention): MT5Attention(\n              (q): Linear(in_features=512, out_features=384, bias=False)\n              (k): Linear(in_features=512, out_features=384, bias=False)\n              (v): Linear(in_features=512, out_features=384, bias=False)\n              (o): Linear(in_features=384, out_features=512, bias=False)\n            )\n            (layer_norm): MT5LayerNorm()\n            (dropout): Dropout(p=0.1, inplace=False)\n          )\n          (1): MT5LayerFF(\n            (DenseReluDense): MT5DenseGatedActDense(\n              (wi_0): Linear(in_features=512, out_features=1024, bias=False)\n              (wi_1): Linear(in_features=512, out_features=1024, bias=False)\n              (wo): Linear(in_features=1024, out_features=512, bias=False)\n              (dropout): Dropout(p=0.1, inplace=False)\n              (act): NewGELUActivation()\n            )\n            (layer_norm): MT5LayerNorm()\n            (dropout): Dropout(p=0.1, inplace=False)\n          )\n        )\n      )\n    )\n    (final_layer_norm): MT5LayerNorm()\n    (dropout): Dropout(p=0.1, inplace=False)\n  )\n  (decoder): MT5Stack(\n    (embed_tokens): Embedding(250112, 512)\n    (block): ModuleList(\n      (0): MT5Block(\n        (layer): ModuleList(\n          (0): MT5LayerSelfAttention(\n            (SelfAttention): MT5Attention(\n              (q): Linear(in_features=512, out_features=384, bias=False)\n              (k): Linear(in_features=512, out_features=384, bias=False)\n              (v): Linear(in_features=512, out_features=384, bias=False)\n              (o): Linear(in_features=384, out_features=512, bias=False)\n              (relative_attention_bias): Embedding(32, 6)\n            )\n            (layer_norm): MT5LayerNorm()\n            (dropout): Dropout(p=0.1, inplace=False)\n          )\n          (1): MT5LayerCrossAttention(\n            (EncDecAttention): MT5Attention(\n              (q): Linear(in_features=512, out_features=384, bias=False)\n              (k): Linear(in_features=512, out_features=384, bias=False)\n              (v): Linear(in_features=512, out_features=384, bias=False)\n              (o): Linear(in_features=384, out_features=512, bias=False)\n            )\n            (layer_norm): MT5LayerNorm()\n            (dropout): Dropout(p=0.1, inplace=False)\n          )\n          (2): MT5LayerFF(\n            (DenseReluDense): MT5DenseGatedActDense(\n              (wi_0): Linear(in_features=512, out_features=1024, bias=False)\n              (wi_1): Linear(in_features=512, out_features=1024, bias=False)\n              (wo): Linear(in_features=1024, out_features=512, bias=False)\n              (dropout): Dropout(p=0.1, inplace=False)\n              (act): NewGELUActivation()\n            )\n            (layer_norm): MT5LayerNorm()\n            (dropout): Dropout(p=0.1, inplace=False)\n          )\n        )\n      )\n      (1-7): 7 x MT5Block(\n        (layer): ModuleList(\n          (0): MT5LayerSelfAttention(\n            (SelfAttention): MT5Attention(\n              (q): Linear(in_features=512, out_features=384, bias=False)\n              (k): Linear(in_features=512, out_features=384, bias=False)\n              (v): Linear(in_features=512, out_features=384, bias=False)\n              (o): Linear(in_features=384, out_features=512, bias=False)\n            )\n            (layer_norm): MT5LayerNorm()\n            (dropout): Dropout(p=0.1, inplace=False)\n          )\n          (1): MT5LayerCrossAttention(\n            (EncDecAttention): MT5Attention(\n              (q): Linear(in_features=512, out_features=384, bias=False)\n              (k): Linear(in_features=512, out_features=384, bias=False)\n              (v): Linear(in_features=512, out_features=384, bias=False)\n              (o): Linear(in_features=384, out_features=512, bias=False)\n            )\n            (layer_norm): MT5LayerNorm()\n            (dropout): Dropout(p=0.1, inplace=False)\n          )\n          (2): MT5LayerFF(\n            (DenseReluDense): MT5DenseGatedActDense(\n              (wi_0): Linear(in_features=512, out_features=1024, bias=False)\n              (wi_1): Linear(in_features=512, out_features=1024, bias=False)\n              (wo): Linear(in_features=1024, out_features=512, bias=False)\n              (dropout): Dropout(p=0.1, inplace=False)\n              (act): NewGELUActivation()\n            )\n            (layer_norm): MT5LayerNorm()\n            (dropout): Dropout(p=0.1, inplace=False)\n          )\n        )\n      )\n    )\n    (final_layer_norm): MT5LayerNorm()\n    (dropout): Dropout(p=0.1, inplace=False)\n  )\n  (lm_head): Linear(in_features=512, out_features=250112, bias=False)\n)"
          },
          "metadata": {}
        }
      ],
      "execution_count": null
    },
    {
      "cell_type": "code",
      "source": [
        "from transformers import AdamW\n",
        "\n",
        "# Menggunakan AdamW optimizer\n",
        "optimizer = AdamW(model.parameters(), lr=1e-5, weight_decay=0.01)\n",
        "\n",
        "# Inisialisasi jumlah epoch untuk pelatihan\n",
        "num_epochs = 10"
      ],
      "metadata": {
        "id": "5hOdLcpygd46",
        "trusted": true,
        "execution": {
          "iopub.status.busy": "2024-12-15T22:11:11.934583Z",
          "iopub.execute_input": "2024-12-15T22:11:11.934859Z",
          "iopub.status.idle": "2024-12-15T22:11:11.951046Z",
          "shell.execute_reply.started": "2024-12-15T22:11:11.934833Z",
          "shell.execute_reply": "2024-12-15T22:11:11.950267Z"
        },
        "outputId": "0c5ff19d-4011-4a0f-dfa1-a88c2b206f91"
      },
      "outputs": [
        {
          "name": "stderr",
          "text": "/opt/conda/lib/python3.10/site-packages/transformers/optimization.py:591: FutureWarning: This implementation of AdamW is deprecated and will be removed in a future version. Use the PyTorch implementation torch.optim.AdamW instead, or set `no_deprecation_warning=True` to disable this warning\n  warnings.warn(\n",
          "output_type": "stream"
        }
      ],
      "execution_count": null
    },
    {
      "cell_type": "code",
      "source": [
        "import torch\n",
        "\n",
        "train_losses_per_batch = []\n",
        "val_losses_per_batch = []\n",
        "train_losses = []\n",
        "val_losses = []\n",
        "\n",
        "for epoch in range(num_epochs):\n",
        "    print(f\"Epoch {epoch+1}/{num_epochs}\")\n",
        "\n",
        "    # Proses Training\n",
        "    model.train()\n",
        "    total_train_loss = 0\n",
        "    for batch_idx, batch in enumerate(train_dataloader):\n",
        "        input_ids = batch['input_ids'].to(device)\n",
        "        attention_mask = batch['attention_mask'].to(device)\n",
        "        labels = batch['labels'].to(device)\n",
        "\n",
        "        optimizer.zero_grad()\n",
        "        outputs = model(input_ids=input_ids, attention_mask=attention_mask, labels=labels)\n",
        "        loss = outputs.loss\n",
        "        loss.backward()\n",
        "        optimizer.step()\n",
        "\n",
        "        total_train_loss += loss.item()\n",
        "        train_losses_per_batch.append(loss.item())\n",
        "\n",
        "        if batch_idx % 10 == 0:\n",
        "            print(f\"Batch {batch_idx+1}/{len(train_dataloader)} - Train Loss: {loss.item()}\")\n",
        "\n",
        "    avg_train_loss = total_train_loss / len(train_dataloader)\n",
        "    train_losses.append(avg_train_loss)\n",
        "    print(f\"Epoch {epoch+1} - Average Train Loss: {avg_train_loss}\")\n",
        "\n",
        "    torch.cuda.empty_cache()\n",
        "\n",
        "    # Proses Validation\n",
        "    model.eval()\n",
        "    total_val_loss = 0\n",
        "    with torch.no_grad():\n",
        "        for batch_idx, batch in enumerate(val_dataloader):\n",
        "            input_ids = batch['input_ids'].to(device)\n",
        "            attention_mask = batch['attention_mask'].to(device)\n",
        "            labels = batch['labels'].to(device)\n",
        "\n",
        "            outputs = model(input_ids=input_ids, attention_mask=attention_mask, labels=labels)\n",
        "            loss = outputs.loss\n",
        "            total_val_loss += loss.item()\n",
        "            val_losses_per_batch.append(loss.item())\n",
        "\n",
        "            if batch_idx % 10 == 0:\n",
        "                print(f\"Batch {batch_idx+1}/{len(val_dataloader)} - Validation Loss: {loss.item()}\")\n",
        "\n",
        "    avg_val_loss = total_val_loss / len(val_dataloader)\n",
        "    val_losses.append(avg_val_loss)\n",
        "    print(f\"Epoch {epoch+1} - Average Validation Loss: {avg_val_loss}\")\n",
        "\n",
        "    torch.cuda.empty_cache()\n"
      ],
      "metadata": {
        "trusted": true,
        "execution": {
          "iopub.status.busy": "2024-12-15T22:11:11.952141Z",
          "iopub.execute_input": "2024-12-15T22:11:11.952379Z",
          "iopub.status.idle": "2024-12-16T01:02:39.688838Z",
          "shell.execute_reply.started": "2024-12-15T22:11:11.952356Z",
          "shell.execute_reply": "2024-12-16T01:02:39.687979Z"
        },
        "id": "6Dw_fIWN7mdG",
        "outputId": "6844a38b-d2aa-46bd-f845-6791d9d198c8",
        "collapsed": true
      },
      "outputs": [
        {
          "name": "stdout",
          "text": "Epoch 1/10\n",
          "output_type": "stream"
        },
        {
          "name": "stderr",
          "text": "Passing a tuple of `past_key_values` is deprecated and will be removed in Transformers v4.48.0. You should pass an instance of `EncoderDecoderCache` instead, e.g. `past_key_values=EncoderDecoderCache.from_legacy_cache(past_key_values)`.\n",
          "output_type": "stream"
        },
        {
          "name": "stdout",
          "text": "Batch 1/2082 - Train Loss: 49.941184997558594\nBatch 11/2082 - Train Loss: 49.94965744018555\nBatch 21/2082 - Train Loss: 51.94234848022461\nBatch 31/2082 - Train Loss: 49.47040939331055\nBatch 41/2082 - Train Loss: 49.225433349609375\nBatch 51/2082 - Train Loss: 45.03831100463867\nBatch 61/2082 - Train Loss: 44.90985870361328\nBatch 71/2082 - Train Loss: 47.782615661621094\nBatch 81/2082 - Train Loss: 45.87229919433594\nBatch 91/2082 - Train Loss: 45.12067794799805\nBatch 101/2082 - Train Loss: 45.071773529052734\nBatch 111/2082 - Train Loss: 48.33816146850586\nBatch 121/2082 - Train Loss: 43.07741165161133\nBatch 131/2082 - Train Loss: 46.01950454711914\nBatch 141/2082 - Train Loss: 40.63207244873047\nBatch 151/2082 - Train Loss: 44.30917739868164\nBatch 161/2082 - Train Loss: 42.330867767333984\nBatch 171/2082 - Train Loss: 43.54225540161133\nBatch 181/2082 - Train Loss: 40.2229118347168\nBatch 191/2082 - Train Loss: 39.594242095947266\nBatch 201/2082 - Train Loss: 37.929054260253906\nBatch 211/2082 - Train Loss: 38.33784484863281\nBatch 221/2082 - Train Loss: 38.51372528076172\nBatch 231/2082 - Train Loss: 38.367958068847656\nBatch 241/2082 - Train Loss: 39.01582717895508\nBatch 251/2082 - Train Loss: 34.06795883178711\nBatch 261/2082 - Train Loss: 37.27186584472656\nBatch 271/2082 - Train Loss: 40.324623107910156\nBatch 281/2082 - Train Loss: 35.8123779296875\nBatch 291/2082 - Train Loss: 36.230709075927734\nBatch 301/2082 - Train Loss: 37.17005920410156\nBatch 311/2082 - Train Loss: 36.69899368286133\nBatch 321/2082 - Train Loss: 35.459896087646484\nBatch 331/2082 - Train Loss: 36.1638069152832\nBatch 341/2082 - Train Loss: 34.96658706665039\nBatch 351/2082 - Train Loss: 34.583213806152344\nBatch 361/2082 - Train Loss: 36.07177734375\nBatch 371/2082 - Train Loss: 31.115095138549805\nBatch 381/2082 - Train Loss: 34.41984939575195\nBatch 391/2082 - Train Loss: 32.24360275268555\nBatch 401/2082 - Train Loss: 34.896934509277344\nBatch 411/2082 - Train Loss: 31.721771240234375\nBatch 421/2082 - Train Loss: 33.28615188598633\nBatch 431/2082 - Train Loss: 31.070064544677734\nBatch 441/2082 - Train Loss: 34.433433532714844\nBatch 451/2082 - Train Loss: 30.719778060913086\nBatch 461/2082 - Train Loss: 31.674951553344727\nBatch 471/2082 - Train Loss: 30.7537899017334\nBatch 481/2082 - Train Loss: 30.40135383605957\nBatch 491/2082 - Train Loss: 32.49940490722656\nBatch 501/2082 - Train Loss: 29.704805374145508\nBatch 511/2082 - Train Loss: 28.68050765991211\nBatch 521/2082 - Train Loss: 28.442842483520508\nBatch 531/2082 - Train Loss: 29.368440628051758\nBatch 541/2082 - Train Loss: 36.46417236328125\nBatch 551/2082 - Train Loss: 29.35297203063965\nBatch 561/2082 - Train Loss: 27.530567169189453\nBatch 571/2082 - Train Loss: 28.08820915222168\nBatch 581/2082 - Train Loss: 28.692298889160156\nBatch 591/2082 - Train Loss: 27.76082992553711\nBatch 601/2082 - Train Loss: 25.041744232177734\nBatch 611/2082 - Train Loss: 26.731481552124023\nBatch 621/2082 - Train Loss: 29.146244049072266\nBatch 631/2082 - Train Loss: 26.023473739624023\nBatch 641/2082 - Train Loss: 27.57361602783203\nBatch 651/2082 - Train Loss: 26.919628143310547\nBatch 661/2082 - Train Loss: 27.607139587402344\nBatch 671/2082 - Train Loss: 26.12866973876953\nBatch 681/2082 - Train Loss: 24.272377014160156\nBatch 691/2082 - Train Loss: 26.466827392578125\nBatch 701/2082 - Train Loss: 25.924711227416992\nBatch 711/2082 - Train Loss: 32.448387145996094\nBatch 721/2082 - Train Loss: 27.66320037841797\nBatch 731/2082 - Train Loss: 25.633859634399414\nBatch 741/2082 - Train Loss: 25.430330276489258\nBatch 751/2082 - Train Loss: 25.527219772338867\nBatch 761/2082 - Train Loss: 25.355478286743164\nBatch 771/2082 - Train Loss: 25.7525577545166\nBatch 781/2082 - Train Loss: 24.231748580932617\nBatch 791/2082 - Train Loss: 24.207796096801758\nBatch 801/2082 - Train Loss: 25.437084197998047\nBatch 811/2082 - Train Loss: 21.631254196166992\nBatch 821/2082 - Train Loss: 26.46582794189453\nBatch 831/2082 - Train Loss: 21.592756271362305\nBatch 841/2082 - Train Loss: 26.526073455810547\nBatch 851/2082 - Train Loss: 25.681303024291992\nBatch 861/2082 - Train Loss: 22.988615036010742\nBatch 871/2082 - Train Loss: 24.84393882751465\nBatch 881/2082 - Train Loss: 23.9194278717041\nBatch 891/2082 - Train Loss: 21.828462600708008\nBatch 901/2082 - Train Loss: 21.96732521057129\nBatch 911/2082 - Train Loss: 21.696977615356445\nBatch 921/2082 - Train Loss: 21.280149459838867\nBatch 931/2082 - Train Loss: 22.85504722595215\nBatch 941/2082 - Train Loss: 23.191381454467773\nBatch 951/2082 - Train Loss: 20.4343318939209\nBatch 961/2082 - Train Loss: 28.896202087402344\nBatch 971/2082 - Train Loss: 22.723426818847656\nBatch 981/2082 - Train Loss: 21.973730087280273\nBatch 991/2082 - Train Loss: 21.00716781616211\nBatch 1001/2082 - Train Loss: 21.67473602294922\nBatch 1011/2082 - Train Loss: 19.228843688964844\nBatch 1021/2082 - Train Loss: 22.395065307617188\nBatch 1031/2082 - Train Loss: 20.837871551513672\nBatch 1041/2082 - Train Loss: 19.549388885498047\nBatch 1051/2082 - Train Loss: 21.343996047973633\nBatch 1061/2082 - Train Loss: 20.547603607177734\nBatch 1071/2082 - Train Loss: 20.407535552978516\nBatch 1081/2082 - Train Loss: 21.2359676361084\nBatch 1091/2082 - Train Loss: 18.85901641845703\nBatch 1101/2082 - Train Loss: 20.63580322265625\nBatch 1111/2082 - Train Loss: 20.046964645385742\nBatch 1121/2082 - Train Loss: 22.244529724121094\nBatch 1131/2082 - Train Loss: 20.527183532714844\nBatch 1141/2082 - Train Loss: 19.919387817382812\nBatch 1151/2082 - Train Loss: 18.81882667541504\nBatch 1161/2082 - Train Loss: 18.458412170410156\nBatch 1171/2082 - Train Loss: 18.957395553588867\nBatch 1181/2082 - Train Loss: 19.082483291625977\nBatch 1191/2082 - Train Loss: 18.48077392578125\nBatch 1201/2082 - Train Loss: 20.770998001098633\nBatch 1211/2082 - Train Loss: 17.5454158782959\nBatch 1221/2082 - Train Loss: 18.606653213500977\nBatch 1231/2082 - Train Loss: 20.680063247680664\nBatch 1241/2082 - Train Loss: 17.33331298828125\nBatch 1251/2082 - Train Loss: 17.789552688598633\nBatch 1261/2082 - Train Loss: 17.92896842956543\nBatch 1271/2082 - Train Loss: 16.60186767578125\nBatch 1281/2082 - Train Loss: 20.386402130126953\nBatch 1291/2082 - Train Loss: 18.10643768310547\nBatch 1301/2082 - Train Loss: 16.5618953704834\nBatch 1311/2082 - Train Loss: 16.545331954956055\nBatch 1321/2082 - Train Loss: 17.8196964263916\nBatch 1331/2082 - Train Loss: 16.632295608520508\nBatch 1341/2082 - Train Loss: 16.77284049987793\nBatch 1351/2082 - Train Loss: 17.420982360839844\nBatch 1361/2082 - Train Loss: 16.189563751220703\nBatch 1371/2082 - Train Loss: 17.217784881591797\nBatch 1381/2082 - Train Loss: 16.948768615722656\nBatch 1391/2082 - Train Loss: 16.725311279296875\nBatch 1401/2082 - Train Loss: 16.39407730102539\nBatch 1411/2082 - Train Loss: 20.683109283447266\nBatch 1421/2082 - Train Loss: 16.2054500579834\nBatch 1431/2082 - Train Loss: 15.664597511291504\nBatch 1441/2082 - Train Loss: 15.627001762390137\nBatch 1451/2082 - Train Loss: 15.153640747070312\nBatch 1461/2082 - Train Loss: 15.52864933013916\nBatch 1471/2082 - Train Loss: 17.23651123046875\nBatch 1481/2082 - Train Loss: 15.767903327941895\nBatch 1491/2082 - Train Loss: 15.187769889831543\nBatch 1501/2082 - Train Loss: 16.290098190307617\nBatch 1511/2082 - Train Loss: 16.27819061279297\nBatch 1521/2082 - Train Loss: 15.2035551071167\nBatch 1531/2082 - Train Loss: 16.0882511138916\nBatch 1541/2082 - Train Loss: 18.37162971496582\nBatch 1551/2082 - Train Loss: 15.132662773132324\nBatch 1561/2082 - Train Loss: 14.413654327392578\nBatch 1571/2082 - Train Loss: 16.62883186340332\nBatch 1581/2082 - Train Loss: 14.2210693359375\nBatch 1591/2082 - Train Loss: 14.829981803894043\nBatch 1601/2082 - Train Loss: 16.266788482666016\nBatch 1611/2082 - Train Loss: 14.214202880859375\nBatch 1621/2082 - Train Loss: 14.095024108886719\nBatch 1631/2082 - Train Loss: 13.281923294067383\nBatch 1641/2082 - Train Loss: 12.837055206298828\nBatch 1651/2082 - Train Loss: 14.37598991394043\nBatch 1661/2082 - Train Loss: 14.796709060668945\nBatch 1671/2082 - Train Loss: 12.965149879455566\nBatch 1681/2082 - Train Loss: 13.27447509765625\nBatch 1691/2082 - Train Loss: 13.536172866821289\nBatch 1701/2082 - Train Loss: 14.016461372375488\nBatch 1711/2082 - Train Loss: 13.564507484436035\nBatch 1721/2082 - Train Loss: 14.39342975616455\nBatch 1731/2082 - Train Loss: 13.032742500305176\nBatch 1741/2082 - Train Loss: 13.563071250915527\nBatch 1751/2082 - Train Loss: 13.366280555725098\nBatch 1761/2082 - Train Loss: 13.41993236541748\nBatch 1771/2082 - Train Loss: 14.20023250579834\nBatch 1781/2082 - Train Loss: 12.557735443115234\nBatch 1791/2082 - Train Loss: 13.504008293151855\nBatch 1801/2082 - Train Loss: 11.844473838806152\nBatch 1811/2082 - Train Loss: 13.160597801208496\nBatch 1821/2082 - Train Loss: 12.586213111877441\nBatch 1831/2082 - Train Loss: 12.826374053955078\nBatch 1841/2082 - Train Loss: 11.278800010681152\nBatch 1851/2082 - Train Loss: 12.046175003051758\nBatch 1861/2082 - Train Loss: 12.96666145324707\nBatch 1871/2082 - Train Loss: 12.233230590820312\nBatch 1881/2082 - Train Loss: 12.393263816833496\nBatch 1891/2082 - Train Loss: 11.86813735961914\nBatch 1901/2082 - Train Loss: 14.275077819824219\nBatch 1911/2082 - Train Loss: 11.261255264282227\nBatch 1921/2082 - Train Loss: 11.126869201660156\nBatch 1931/2082 - Train Loss: 10.96343994140625\nBatch 1941/2082 - Train Loss: 11.450394630432129\nBatch 1951/2082 - Train Loss: 13.822648048400879\nBatch 1961/2082 - Train Loss: 11.11999797821045\nBatch 1971/2082 - Train Loss: 12.459707260131836\nBatch 1981/2082 - Train Loss: 11.739947319030762\nBatch 1991/2082 - Train Loss: 12.775321006774902\nBatch 2001/2082 - Train Loss: 11.543048858642578\nBatch 2011/2082 - Train Loss: 10.627946853637695\nBatch 2021/2082 - Train Loss: 10.315977096557617\nBatch 2031/2082 - Train Loss: 10.691884994506836\nBatch 2041/2082 - Train Loss: 11.383140563964844\nBatch 2051/2082 - Train Loss: 12.164780616760254\nBatch 2061/2082 - Train Loss: 10.65040397644043\nBatch 2071/2082 - Train Loss: 11.851208686828613\nBatch 2081/2082 - Train Loss: 10.418146133422852\nEpoch 1 - Average Train Loss: 23.50294517531748\nBatch 1/261 - Validation Loss: 9.968338012695312\nBatch 11/261 - Validation Loss: 11.051843643188477\nBatch 21/261 - Validation Loss: 9.27101993560791\nBatch 31/261 - Validation Loss: 10.080784797668457\nBatch 41/261 - Validation Loss: 10.2317533493042\nBatch 51/261 - Validation Loss: 8.19332218170166\nBatch 61/261 - Validation Loss: 8.538481712341309\nBatch 71/261 - Validation Loss: 9.658495903015137\nBatch 81/261 - Validation Loss: 7.6745524406433105\nBatch 91/261 - Validation Loss: 9.220211029052734\nBatch 101/261 - Validation Loss: 9.935331344604492\nBatch 111/261 - Validation Loss: 10.913799285888672\nBatch 121/261 - Validation Loss: 9.4301176071167\nBatch 131/261 - Validation Loss: 9.012062072753906\nBatch 141/261 - Validation Loss: 8.714072227478027\nBatch 151/261 - Validation Loss: 8.544780731201172\nBatch 161/261 - Validation Loss: 8.327654838562012\nBatch 171/261 - Validation Loss: 9.676543235778809\nBatch 181/261 - Validation Loss: 8.5919771194458\nBatch 191/261 - Validation Loss: 10.975403785705566\nBatch 201/261 - Validation Loss: 10.574848175048828\nBatch 211/261 - Validation Loss: 8.215353012084961\nBatch 221/261 - Validation Loss: 10.996025085449219\nBatch 231/261 - Validation Loss: 8.335099220275879\nBatch 241/261 - Validation Loss: 8.630840301513672\nBatch 251/261 - Validation Loss: 10.594383239746094\nBatch 261/261 - Validation Loss: 14.94193172454834\nEpoch 1 - Average Validation Loss: 9.354259171248396\nEpoch 2/10\nBatch 1/2082 - Train Loss: 10.495591163635254\nBatch 11/2082 - Train Loss: 10.167166709899902\nBatch 21/2082 - Train Loss: 10.453113555908203\nBatch 31/2082 - Train Loss: 9.598282814025879\nBatch 41/2082 - Train Loss: 10.534354209899902\nBatch 51/2082 - Train Loss: 11.378694534301758\nBatch 61/2082 - Train Loss: 9.575777053833008\nBatch 71/2082 - Train Loss: 10.273193359375\nBatch 81/2082 - Train Loss: 10.887918472290039\nBatch 91/2082 - Train Loss: 13.396550178527832\nBatch 101/2082 - Train Loss: 14.616772651672363\nBatch 111/2082 - Train Loss: 9.625523567199707\nBatch 121/2082 - Train Loss: 11.132607460021973\nBatch 131/2082 - Train Loss: 10.971395492553711\nBatch 141/2082 - Train Loss: 9.925454139709473\nBatch 151/2082 - Train Loss: 9.135000228881836\nBatch 161/2082 - Train Loss: 8.910016059875488\nBatch 171/2082 - Train Loss: 8.93261432647705\nBatch 181/2082 - Train Loss: 9.777108192443848\nBatch 191/2082 - Train Loss: 9.009316444396973\nBatch 201/2082 - Train Loss: 11.266572952270508\nBatch 211/2082 - Train Loss: 9.297225952148438\nBatch 221/2082 - Train Loss: 8.852436065673828\nBatch 231/2082 - Train Loss: 9.2110013961792\nBatch 241/2082 - Train Loss: 8.118439674377441\nBatch 251/2082 - Train Loss: 9.17950439453125\nBatch 261/2082 - Train Loss: 8.33337116241455\nBatch 271/2082 - Train Loss: 9.439922332763672\nBatch 281/2082 - Train Loss: 9.112585067749023\nBatch 291/2082 - Train Loss: 9.127765655517578\nBatch 301/2082 - Train Loss: 8.910561561584473\nBatch 311/2082 - Train Loss: 8.475399017333984\nBatch 321/2082 - Train Loss: 9.15029525756836\nBatch 331/2082 - Train Loss: 9.669331550598145\nBatch 341/2082 - Train Loss: 9.738783836364746\nBatch 351/2082 - Train Loss: 8.450841903686523\nBatch 361/2082 - Train Loss: 9.402549743652344\nBatch 371/2082 - Train Loss: 8.24670696258545\nBatch 381/2082 - Train Loss: 9.251913070678711\nBatch 391/2082 - Train Loss: 7.689486503601074\nBatch 401/2082 - Train Loss: 9.64152717590332\nBatch 411/2082 - Train Loss: 7.3258161544799805\nBatch 421/2082 - Train Loss: 7.180978775024414\nBatch 431/2082 - Train Loss: 8.241379737854004\nBatch 441/2082 - Train Loss: 7.275814533233643\nBatch 451/2082 - Train Loss: 8.239137649536133\nBatch 461/2082 - Train Loss: 7.808109760284424\nBatch 471/2082 - Train Loss: 7.012495040893555\nBatch 481/2082 - Train Loss: 7.543026447296143\nBatch 491/2082 - Train Loss: 9.53532600402832\nBatch 501/2082 - Train Loss: 7.155921936035156\nBatch 511/2082 - Train Loss: 7.903390884399414\nBatch 521/2082 - Train Loss: 8.124078750610352\nBatch 531/2082 - Train Loss: 6.897831916809082\nBatch 541/2082 - Train Loss: 6.719033718109131\nBatch 551/2082 - Train Loss: 6.971439838409424\nBatch 561/2082 - Train Loss: 7.583255290985107\nBatch 571/2082 - Train Loss: 6.807177543640137\nBatch 581/2082 - Train Loss: 8.484596252441406\nBatch 591/2082 - Train Loss: 7.141682147979736\nBatch 601/2082 - Train Loss: 6.926382064819336\nBatch 611/2082 - Train Loss: 6.928095817565918\nBatch 621/2082 - Train Loss: 7.673336505889893\nBatch 631/2082 - Train Loss: 7.204302787780762\nBatch 641/2082 - Train Loss: 8.765911102294922\nBatch 651/2082 - Train Loss: 6.481771469116211\nBatch 661/2082 - Train Loss: 7.677028656005859\nBatch 671/2082 - Train Loss: 7.292092323303223\nBatch 681/2082 - Train Loss: 7.029587268829346\nBatch 691/2082 - Train Loss: 6.452013969421387\nBatch 701/2082 - Train Loss: 7.0972795486450195\nBatch 711/2082 - Train Loss: 6.887158393859863\nBatch 721/2082 - Train Loss: 7.35964822769165\nBatch 731/2082 - Train Loss: 6.291684627532959\nBatch 741/2082 - Train Loss: 7.315479278564453\nBatch 751/2082 - Train Loss: 6.161458969116211\nBatch 761/2082 - Train Loss: 6.815101623535156\nBatch 771/2082 - Train Loss: 6.4669108390808105\nBatch 781/2082 - Train Loss: 8.439135551452637\nBatch 791/2082 - Train Loss: 6.140423774719238\nBatch 801/2082 - Train Loss: 6.513880729675293\nBatch 811/2082 - Train Loss: 5.582110404968262\nBatch 821/2082 - Train Loss: 6.239129066467285\nBatch 831/2082 - Train Loss: 5.625630855560303\nBatch 841/2082 - Train Loss: 7.3713226318359375\nBatch 851/2082 - Train Loss: 6.140087604522705\nBatch 861/2082 - Train Loss: 6.2524237632751465\nBatch 871/2082 - Train Loss: 5.704041957855225\nBatch 881/2082 - Train Loss: 6.792529106140137\nBatch 891/2082 - Train Loss: 7.319519996643066\nBatch 901/2082 - Train Loss: 8.09564208984375\nBatch 911/2082 - Train Loss: 7.4385666847229\nBatch 921/2082 - Train Loss: 6.332284927368164\nBatch 931/2082 - Train Loss: 5.231791019439697\nBatch 941/2082 - Train Loss: 6.793501377105713\nBatch 951/2082 - Train Loss: 5.708687782287598\nBatch 961/2082 - Train Loss: 5.565544128417969\nBatch 971/2082 - Train Loss: 6.802552700042725\nBatch 981/2082 - Train Loss: 6.408068656921387\nBatch 991/2082 - Train Loss: 5.809598445892334\nBatch 1001/2082 - Train Loss: 4.87668514251709\nBatch 1011/2082 - Train Loss: 4.962224960327148\nBatch 1021/2082 - Train Loss: 5.759732723236084\nBatch 1031/2082 - Train Loss: 5.812689304351807\nBatch 1041/2082 - Train Loss: 4.886387348175049\nBatch 1051/2082 - Train Loss: 6.0104169845581055\nBatch 1061/2082 - Train Loss: 5.174196720123291\nBatch 1071/2082 - Train Loss: 5.194994926452637\nBatch 1081/2082 - Train Loss: 6.3433990478515625\nBatch 1091/2082 - Train Loss: 5.745152950286865\nBatch 1101/2082 - Train Loss: 5.431597709655762\nBatch 1111/2082 - Train Loss: 4.913514614105225\nBatch 1121/2082 - Train Loss: 4.883072376251221\nBatch 1131/2082 - Train Loss: 5.754787921905518\nBatch 1141/2082 - Train Loss: 5.498052597045898\nBatch 1151/2082 - Train Loss: 5.678941249847412\nBatch 1161/2082 - Train Loss: 5.679172515869141\nBatch 1171/2082 - Train Loss: 6.490876197814941\nBatch 1181/2082 - Train Loss: 4.965231895446777\nBatch 1191/2082 - Train Loss: 4.640734672546387\nBatch 1201/2082 - Train Loss: 5.099327564239502\nBatch 1211/2082 - Train Loss: 5.055668354034424\nBatch 1221/2082 - Train Loss: 5.446534633636475\nBatch 1231/2082 - Train Loss: 5.2158098220825195\nBatch 1241/2082 - Train Loss: 5.322381019592285\nBatch 1251/2082 - Train Loss: 5.604531764984131\nBatch 1261/2082 - Train Loss: 5.822465896606445\nBatch 1271/2082 - Train Loss: 6.244020462036133\nBatch 1281/2082 - Train Loss: 5.2259674072265625\nBatch 1291/2082 - Train Loss: 5.017213344573975\nBatch 1301/2082 - Train Loss: 4.858014106750488\nBatch 1311/2082 - Train Loss: 5.435962200164795\nBatch 1321/2082 - Train Loss: 4.96885871887207\nBatch 1331/2082 - Train Loss: 5.163901329040527\nBatch 1341/2082 - Train Loss: 5.8153533935546875\nBatch 1351/2082 - Train Loss: 4.64461088180542\nBatch 1361/2082 - Train Loss: 4.782016754150391\nBatch 1371/2082 - Train Loss: 4.742087364196777\nBatch 1381/2082 - Train Loss: 4.322539806365967\nBatch 1391/2082 - Train Loss: 4.278254508972168\nBatch 1401/2082 - Train Loss: 5.637014389038086\nBatch 1411/2082 - Train Loss: 5.082165241241455\nBatch 1421/2082 - Train Loss: 4.737295627593994\nBatch 1431/2082 - Train Loss: 4.447450160980225\nBatch 1441/2082 - Train Loss: 5.30364465713501\nBatch 1451/2082 - Train Loss: 5.902572154998779\nBatch 1461/2082 - Train Loss: 4.987942218780518\nBatch 1471/2082 - Train Loss: 4.484565258026123\nBatch 1481/2082 - Train Loss: 4.272484302520752\nBatch 1491/2082 - Train Loss: 4.233763694763184\nBatch 1501/2082 - Train Loss: 4.177502632141113\nBatch 1511/2082 - Train Loss: 5.040207862854004\nBatch 1521/2082 - Train Loss: 5.685345649719238\nBatch 1531/2082 - Train Loss: 3.921673059463501\nBatch 1541/2082 - Train Loss: 4.327581405639648\nBatch 1551/2082 - Train Loss: 4.5400071144104\nBatch 1561/2082 - Train Loss: 5.03542947769165\nBatch 1571/2082 - Train Loss: 3.8928020000457764\nBatch 1581/2082 - Train Loss: 4.477970600128174\nBatch 1591/2082 - Train Loss: 4.121379375457764\nBatch 1601/2082 - Train Loss: 4.903158187866211\nBatch 1611/2082 - Train Loss: 4.123383522033691\nBatch 1621/2082 - Train Loss: 4.427085876464844\nBatch 1631/2082 - Train Loss: 3.6486406326293945\nBatch 1641/2082 - Train Loss: 4.112267017364502\nBatch 1651/2082 - Train Loss: 3.824989080429077\nBatch 1661/2082 - Train Loss: 4.82211446762085\nBatch 1671/2082 - Train Loss: 4.5683135986328125\nBatch 1681/2082 - Train Loss: 4.609642505645752\nBatch 1691/2082 - Train Loss: 4.7917022705078125\nBatch 1701/2082 - Train Loss: 4.989719867706299\nBatch 1711/2082 - Train Loss: 4.379150390625\nBatch 1721/2082 - Train Loss: 4.027088165283203\nBatch 1731/2082 - Train Loss: 4.65641975402832\nBatch 1741/2082 - Train Loss: 3.6218152046203613\nBatch 1751/2082 - Train Loss: 3.402510404586792\nBatch 1761/2082 - Train Loss: 4.36920166015625\nBatch 1771/2082 - Train Loss: 3.981581211090088\nBatch 1781/2082 - Train Loss: 4.262321949005127\nBatch 1791/2082 - Train Loss: 4.935889720916748\nBatch 1801/2082 - Train Loss: 4.00956916809082\nBatch 1811/2082 - Train Loss: 4.27313232421875\nBatch 1821/2082 - Train Loss: 4.445840358734131\nBatch 1831/2082 - Train Loss: 4.4293975830078125\nBatch 1841/2082 - Train Loss: 3.6290512084960938\nBatch 1851/2082 - Train Loss: 4.027844429016113\nBatch 1861/2082 - Train Loss: 3.94012451171875\nBatch 1871/2082 - Train Loss: 4.035888195037842\nBatch 1881/2082 - Train Loss: 4.3828349113464355\nBatch 1891/2082 - Train Loss: 3.714601993560791\nBatch 1901/2082 - Train Loss: 4.060830593109131\nBatch 1911/2082 - Train Loss: 4.434136390686035\nBatch 1921/2082 - Train Loss: 2.8833398818969727\nBatch 1931/2082 - Train Loss: 13.217635154724121\nBatch 1941/2082 - Train Loss: 4.064476490020752\nBatch 1951/2082 - Train Loss: 3.3464972972869873\nBatch 1961/2082 - Train Loss: 3.4838366508483887\nBatch 1971/2082 - Train Loss: 3.439176321029663\nBatch 1981/2082 - Train Loss: 4.541451930999756\nBatch 1991/2082 - Train Loss: 3.8688509464263916\nBatch 2001/2082 - Train Loss: 3.7659900188446045\nBatch 2011/2082 - Train Loss: 3.3781611919403076\nBatch 2021/2082 - Train Loss: 3.9530880451202393\nBatch 2031/2082 - Train Loss: 3.7846062183380127\nBatch 2041/2082 - Train Loss: 4.097117900848389\nBatch 2051/2082 - Train Loss: 3.659132480621338\nBatch 2061/2082 - Train Loss: 3.544572353363037\nBatch 2071/2082 - Train Loss: 3.404946804046631\nBatch 2081/2082 - Train Loss: 3.7320303916931152\nEpoch 2 - Average Train Loss: 6.274931717102168\nBatch 1/261 - Validation Loss: 2.8474996089935303\nBatch 11/261 - Validation Loss: 2.2893025875091553\nBatch 21/261 - Validation Loss: 2.2295708656311035\nBatch 31/261 - Validation Loss: 2.196877956390381\nBatch 41/261 - Validation Loss: 2.5729572772979736\nBatch 51/261 - Validation Loss: 2.0844388008117676\nBatch 61/261 - Validation Loss: 3.1111388206481934\nBatch 71/261 - Validation Loss: 2.676987886428833\nBatch 81/261 - Validation Loss: 2.3447999954223633\nBatch 91/261 - Validation Loss: 2.3731865882873535\nBatch 101/261 - Validation Loss: 2.4789962768554688\nBatch 111/261 - Validation Loss: 2.3221218585968018\nBatch 121/261 - Validation Loss: 2.6170337200164795\nBatch 131/261 - Validation Loss: 2.3928048610687256\nBatch 141/261 - Validation Loss: 2.441080093383789\nBatch 151/261 - Validation Loss: 2.329400062561035\nBatch 161/261 - Validation Loss: 2.6905086040496826\nBatch 171/261 - Validation Loss: 2.5975754261016846\nBatch 181/261 - Validation Loss: 2.587617874145508\nBatch 191/261 - Validation Loss: 2.8061940670013428\nBatch 201/261 - Validation Loss: 2.591888427734375\nBatch 211/261 - Validation Loss: 2.7744128704071045\nBatch 221/261 - Validation Loss: 2.5882112979888916\nBatch 231/261 - Validation Loss: 2.3069746494293213\nBatch 241/261 - Validation Loss: 3.4697813987731934\nBatch 251/261 - Validation Loss: 4.264066219329834\nBatch 261/261 - Validation Loss: 3.5934205055236816\nEpoch 2 - Average Validation Loss: 2.6085316806003966\nEpoch 3/10\nBatch 1/2082 - Train Loss: 3.530752658843994\nBatch 11/2082 - Train Loss: 3.4446849822998047\nBatch 21/2082 - Train Loss: 3.7987561225891113\nBatch 31/2082 - Train Loss: 3.3170108795166016\nBatch 41/2082 - Train Loss: 4.312157154083252\nBatch 51/2082 - Train Loss: 3.5180070400238037\nBatch 61/2082 - Train Loss: 3.4934282302856445\nBatch 71/2082 - Train Loss: 3.84503173828125\nBatch 81/2082 - Train Loss: 3.378481388092041\nBatch 91/2082 - Train Loss: 3.8580431938171387\nBatch 101/2082 - Train Loss: 4.004477500915527\nBatch 111/2082 - Train Loss: 3.890650987625122\nBatch 121/2082 - Train Loss: 3.9068570137023926\nBatch 131/2082 - Train Loss: 3.5486772060394287\nBatch 141/2082 - Train Loss: 3.7337069511413574\nBatch 151/2082 - Train Loss: 3.238900899887085\nBatch 161/2082 - Train Loss: 4.776527404785156\nBatch 171/2082 - Train Loss: 3.124525785446167\nBatch 181/2082 - Train Loss: 3.610600233078003\nBatch 191/2082 - Train Loss: 3.9485037326812744\nBatch 201/2082 - Train Loss: 3.1549899578094482\nBatch 211/2082 - Train Loss: 3.329127311706543\nBatch 221/2082 - Train Loss: 4.091583728790283\nBatch 231/2082 - Train Loss: 3.467900037765503\nBatch 241/2082 - Train Loss: 3.637493371963501\nBatch 251/2082 - Train Loss: 2.885023593902588\nBatch 261/2082 - Train Loss: 3.0478675365448\nBatch 271/2082 - Train Loss: 3.975005626678467\nBatch 281/2082 - Train Loss: 3.854579210281372\nBatch 291/2082 - Train Loss: 3.217963933944702\nBatch 301/2082 - Train Loss: 3.3982417583465576\nBatch 311/2082 - Train Loss: 3.123918294906616\nBatch 321/2082 - Train Loss: 3.0885958671569824\nBatch 331/2082 - Train Loss: 3.444783926010132\nBatch 341/2082 - Train Loss: 2.920353889465332\nBatch 351/2082 - Train Loss: 4.063855171203613\nBatch 361/2082 - Train Loss: 3.672846794128418\nBatch 371/2082 - Train Loss: 3.076291799545288\nBatch 381/2082 - Train Loss: 3.6481380462646484\nBatch 391/2082 - Train Loss: 3.621055841445923\nBatch 401/2082 - Train Loss: 3.227550506591797\nBatch 411/2082 - Train Loss: 3.8154003620147705\nBatch 421/2082 - Train Loss: 4.32937479019165\nBatch 431/2082 - Train Loss: 2.9793872833251953\nBatch 441/2082 - Train Loss: 5.139341831207275\nBatch 451/2082 - Train Loss: 3.143350601196289\nBatch 461/2082 - Train Loss: 2.972494602203369\nBatch 471/2082 - Train Loss: 3.6222171783447266\nBatch 481/2082 - Train Loss: 2.8924973011016846\nBatch 491/2082 - Train Loss: 2.9101579189300537\nBatch 501/2082 - Train Loss: 3.1720941066741943\nBatch 511/2082 - Train Loss: 3.381410837173462\nBatch 521/2082 - Train Loss: 2.8920180797576904\nBatch 531/2082 - Train Loss: 2.7557730674743652\nBatch 541/2082 - Train Loss: 3.613849401473999\nBatch 551/2082 - Train Loss: 3.03602933883667\nBatch 561/2082 - Train Loss: 3.4844257831573486\nBatch 571/2082 - Train Loss: 2.7220165729522705\nBatch 581/2082 - Train Loss: 3.190932035446167\nBatch 591/2082 - Train Loss: 2.742100954055786\nBatch 601/2082 - Train Loss: 3.0958425998687744\nBatch 611/2082 - Train Loss: 3.317868709564209\nBatch 621/2082 - Train Loss: 2.8361523151397705\nBatch 631/2082 - Train Loss: 3.3541011810302734\nBatch 641/2082 - Train Loss: 3.0896780490875244\nBatch 651/2082 - Train Loss: 2.94775652885437\nBatch 661/2082 - Train Loss: 2.943643569946289\nBatch 671/2082 - Train Loss: 3.5560758113861084\nBatch 681/2082 - Train Loss: 3.109419107437134\nBatch 691/2082 - Train Loss: 3.627056837081909\nBatch 701/2082 - Train Loss: 2.684006452560425\nBatch 711/2082 - Train Loss: 2.851611852645874\nBatch 721/2082 - Train Loss: 2.700754404067993\nBatch 731/2082 - Train Loss: 3.222132444381714\nBatch 741/2082 - Train Loss: 3.2371160984039307\nBatch 751/2082 - Train Loss: 3.849728584289551\nBatch 761/2082 - Train Loss: 3.085369348526001\nBatch 771/2082 - Train Loss: 3.6348330974578857\nBatch 781/2082 - Train Loss: 3.207430124282837\nBatch 791/2082 - Train Loss: 3.064399480819702\nBatch 801/2082 - Train Loss: 2.996415853500366\nBatch 811/2082 - Train Loss: 2.470562219619751\nBatch 821/2082 - Train Loss: 2.7198290824890137\nBatch 831/2082 - Train Loss: 2.8554255962371826\nBatch 841/2082 - Train Loss: 3.3109679222106934\nBatch 851/2082 - Train Loss: 3.383028984069824\nBatch 861/2082 - Train Loss: 2.5027854442596436\nBatch 871/2082 - Train Loss: 3.3173749446868896\nBatch 881/2082 - Train Loss: 2.5634398460388184\nBatch 891/2082 - Train Loss: 2.8125479221343994\nBatch 901/2082 - Train Loss: 3.550222158432007\nBatch 911/2082 - Train Loss: 3.0374186038970947\nBatch 921/2082 - Train Loss: 2.9880502223968506\nBatch 931/2082 - Train Loss: 3.0846142768859863\nBatch 941/2082 - Train Loss: 2.9224607944488525\nBatch 951/2082 - Train Loss: 3.6613757610321045\nBatch 961/2082 - Train Loss: 2.918635129928589\nBatch 971/2082 - Train Loss: 2.2688369750976562\nBatch 981/2082 - Train Loss: 2.8828957080841064\nBatch 991/2082 - Train Loss: 2.3323943614959717\nBatch 1001/2082 - Train Loss: 3.4178569316864014\nBatch 1011/2082 - Train Loss: 2.585651159286499\nBatch 1021/2082 - Train Loss: 2.596165895462036\nBatch 1031/2082 - Train Loss: 2.6806674003601074\nBatch 1041/2082 - Train Loss: 3.017005205154419\nBatch 1051/2082 - Train Loss: 2.9768872261047363\nBatch 1061/2082 - Train Loss: 3.15569806098938\nBatch 1071/2082 - Train Loss: 2.5649056434631348\nBatch 1081/2082 - Train Loss: 3.2590959072113037\nBatch 1091/2082 - Train Loss: 2.9159722328186035\nBatch 1101/2082 - Train Loss: 2.7328193187713623\nBatch 1111/2082 - Train Loss: 2.991203546524048\nBatch 1121/2082 - Train Loss: 2.085810422897339\nBatch 1131/2082 - Train Loss: 2.97859525680542\nBatch 1141/2082 - Train Loss: 4.322047233581543\nBatch 1151/2082 - Train Loss: 2.6783294677734375\nBatch 1161/2082 - Train Loss: 2.712509870529175\nBatch 1171/2082 - Train Loss: 2.9121875762939453\nBatch 1181/2082 - Train Loss: 2.87434983253479\nBatch 1191/2082 - Train Loss: 2.590123414993286\nBatch 1201/2082 - Train Loss: 2.8638687133789062\nBatch 1211/2082 - Train Loss: 3.029923677444458\nBatch 1221/2082 - Train Loss: 3.264810562133789\nBatch 1231/2082 - Train Loss: 2.9705450534820557\nBatch 1241/2082 - Train Loss: 3.1426708698272705\nBatch 1251/2082 - Train Loss: 2.6096155643463135\nBatch 1261/2082 - Train Loss: 2.892544746398926\nBatch 1271/2082 - Train Loss: 2.3276209831237793\nBatch 1281/2082 - Train Loss: 3.2557015419006348\nBatch 1291/2082 - Train Loss: 2.8677902221679688\nBatch 1301/2082 - Train Loss: 2.4459707736968994\nBatch 1311/2082 - Train Loss: 3.3029415607452393\nBatch 1321/2082 - Train Loss: 2.309582233428955\nBatch 1331/2082 - Train Loss: 2.6912412643432617\nBatch 1341/2082 - Train Loss: 3.027623176574707\nBatch 1351/2082 - Train Loss: 2.4736688137054443\nBatch 1361/2082 - Train Loss: 2.6522128582000732\nBatch 1371/2082 - Train Loss: 3.1971664428710938\nBatch 1381/2082 - Train Loss: 2.7298929691314697\nBatch 1391/2082 - Train Loss: 2.334866523742676\nBatch 1401/2082 - Train Loss: 2.4609289169311523\nBatch 1411/2082 - Train Loss: 2.8743340969085693\nBatch 1421/2082 - Train Loss: 2.480769634246826\nBatch 1431/2082 - Train Loss: 2.797902822494507\nBatch 1441/2082 - Train Loss: 2.6561806201934814\nBatch 1451/2082 - Train Loss: 2.9843506813049316\nBatch 1461/2082 - Train Loss: 2.744823694229126\nBatch 1471/2082 - Train Loss: 2.785146713256836\nBatch 1481/2082 - Train Loss: 2.632749319076538\nBatch 1491/2082 - Train Loss: 2.481713056564331\nBatch 1501/2082 - Train Loss: 2.5648140907287598\nBatch 1511/2082 - Train Loss: 2.737602710723877\nBatch 1521/2082 - Train Loss: 2.856616973876953\nBatch 1531/2082 - Train Loss: 3.2791972160339355\nBatch 1541/2082 - Train Loss: 3.1260666847229004\nBatch 1551/2082 - Train Loss: 2.978839874267578\nBatch 1561/2082 - Train Loss: 2.094856023788452\nBatch 1571/2082 - Train Loss: 2.7140841484069824\nBatch 1581/2082 - Train Loss: 2.6993751525878906\nBatch 1591/2082 - Train Loss: 2.0583109855651855\nBatch 1601/2082 - Train Loss: 2.4135429859161377\nBatch 1611/2082 - Train Loss: 2.569366216659546\nBatch 1621/2082 - Train Loss: 2.309908866882324\nBatch 1631/2082 - Train Loss: 2.585623025894165\nBatch 1641/2082 - Train Loss: 2.4688773155212402\nBatch 1651/2082 - Train Loss: 2.813955068588257\nBatch 1661/2082 - Train Loss: 2.6566720008850098\nBatch 1671/2082 - Train Loss: 2.5408871173858643\nBatch 1681/2082 - Train Loss: 2.402674674987793\nBatch 1691/2082 - Train Loss: 2.479640245437622\nBatch 1701/2082 - Train Loss: 2.3935863971710205\nBatch 1711/2082 - Train Loss: 2.354795217514038\nBatch 1721/2082 - Train Loss: 2.4746670722961426\nBatch 1731/2082 - Train Loss: 2.362238883972168\nBatch 1741/2082 - Train Loss: 2.4123518466949463\nBatch 1751/2082 - Train Loss: 2.401062250137329\nBatch 1761/2082 - Train Loss: 2.9218969345092773\nBatch 1771/2082 - Train Loss: 2.1242239475250244\nBatch 1781/2082 - Train Loss: 2.218043327331543\nBatch 1791/2082 - Train Loss: 2.5350093841552734\nBatch 1801/2082 - Train Loss: 2.898427963256836\nBatch 1811/2082 - Train Loss: 2.3645641803741455\nBatch 1821/2082 - Train Loss: 2.898202657699585\nBatch 1831/2082 - Train Loss: 2.477497100830078\nBatch 1841/2082 - Train Loss: 2.6561520099639893\nBatch 1851/2082 - Train Loss: 2.286245822906494\nBatch 1861/2082 - Train Loss: 2.1812727451324463\nBatch 1871/2082 - Train Loss: 2.441047191619873\nBatch 1881/2082 - Train Loss: 2.476804494857788\nBatch 1891/2082 - Train Loss: 2.307868242263794\nBatch 1901/2082 - Train Loss: 2.3220338821411133\nBatch 1911/2082 - Train Loss: 2.7433106899261475\nBatch 1921/2082 - Train Loss: 2.6110191345214844\nBatch 1931/2082 - Train Loss: 2.617791175842285\nBatch 1941/2082 - Train Loss: 2.642557144165039\nBatch 1951/2082 - Train Loss: 2.9610254764556885\nBatch 1961/2082 - Train Loss: 2.1588075160980225\nBatch 1971/2082 - Train Loss: 2.216594934463501\nBatch 1981/2082 - Train Loss: 2.3549137115478516\nBatch 1991/2082 - Train Loss: 2.0850610733032227\nBatch 2001/2082 - Train Loss: 2.8807032108306885\nBatch 2011/2082 - Train Loss: 2.694662570953369\nBatch 2021/2082 - Train Loss: 3.1668429374694824\nBatch 2031/2082 - Train Loss: 2.2905197143554688\nBatch 2041/2082 - Train Loss: 2.5970895290374756\nBatch 2051/2082 - Train Loss: 2.1423494815826416\nBatch 2061/2082 - Train Loss: 2.4783928394317627\nBatch 2071/2082 - Train Loss: 2.8694541454315186\nBatch 2081/2082 - Train Loss: 2.8238325119018555\nEpoch 3 - Average Train Loss: 2.939075146868868\nBatch 1/261 - Validation Loss: 2.0660934448242188\nBatch 11/261 - Validation Loss: 1.6940367221832275\nBatch 21/261 - Validation Loss: 1.7438411712646484\nBatch 31/261 - Validation Loss: 1.707445502281189\nBatch 41/261 - Validation Loss: 1.859216570854187\nBatch 51/261 - Validation Loss: 1.4834007024765015\nBatch 61/261 - Validation Loss: 2.1133272647857666\nBatch 71/261 - Validation Loss: 2.2828431129455566\nBatch 81/261 - Validation Loss: 1.7813078165054321\nBatch 91/261 - Validation Loss: 1.8754644393920898\nBatch 101/261 - Validation Loss: 1.5810056924819946\nBatch 111/261 - Validation Loss: 1.9045239686965942\nBatch 121/261 - Validation Loss: 2.099151611328125\nBatch 131/261 - Validation Loss: 1.7937369346618652\nBatch 141/261 - Validation Loss: 1.8486491441726685\nBatch 151/261 - Validation Loss: 1.739736557006836\nBatch 161/261 - Validation Loss: 2.017326593399048\nBatch 171/261 - Validation Loss: 1.89030921459198\nBatch 181/261 - Validation Loss: 1.6697049140930176\nBatch 191/261 - Validation Loss: 1.7962315082550049\nBatch 201/261 - Validation Loss: 1.9371185302734375\nBatch 211/261 - Validation Loss: 2.260504722595215\nBatch 221/261 - Validation Loss: 1.9444847106933594\nBatch 231/261 - Validation Loss: 1.694922685623169\nBatch 241/261 - Validation Loss: 2.1179492473602295\nBatch 251/261 - Validation Loss: 1.6345868110656738\nBatch 261/261 - Validation Loss: 1.5611799955368042\nEpoch 3 - Average Validation Loss: 1.8318608154282259\nEpoch 4/10\nBatch 1/2082 - Train Loss: 2.1861584186553955\nBatch 11/2082 - Train Loss: 2.7443435192108154\nBatch 21/2082 - Train Loss: 2.058318853378296\nBatch 31/2082 - Train Loss: 2.234593152999878\nBatch 41/2082 - Train Loss: 2.499133825302124\nBatch 51/2082 - Train Loss: 2.843141555786133\nBatch 61/2082 - Train Loss: 2.133747100830078\nBatch 71/2082 - Train Loss: 2.3148715496063232\nBatch 81/2082 - Train Loss: 2.445815086364746\nBatch 91/2082 - Train Loss: 2.450946569442749\nBatch 101/2082 - Train Loss: 2.4595043659210205\nBatch 111/2082 - Train Loss: 2.7942042350769043\nBatch 121/2082 - Train Loss: 1.9988149404525757\nBatch 131/2082 - Train Loss: 2.0738537311553955\nBatch 141/2082 - Train Loss: 3.191401481628418\nBatch 151/2082 - Train Loss: 3.373079538345337\nBatch 161/2082 - Train Loss: 2.2323739528656006\nBatch 171/2082 - Train Loss: 2.6395273208618164\nBatch 181/2082 - Train Loss: 3.1623904705047607\nBatch 191/2082 - Train Loss: 2.4568002223968506\nBatch 201/2082 - Train Loss: 1.871337890625\nBatch 211/2082 - Train Loss: 2.9621784687042236\nBatch 221/2082 - Train Loss: 2.4342010021209717\nBatch 231/2082 - Train Loss: 2.887117862701416\nBatch 241/2082 - Train Loss: 2.2854275703430176\nBatch 251/2082 - Train Loss: 2.277733325958252\nBatch 261/2082 - Train Loss: 2.086658239364624\nBatch 271/2082 - Train Loss: 2.6451504230499268\nBatch 281/2082 - Train Loss: 2.5405113697052\nBatch 291/2082 - Train Loss: 2.2838563919067383\nBatch 301/2082 - Train Loss: 2.1218957901000977\nBatch 311/2082 - Train Loss: 2.349053144454956\nBatch 321/2082 - Train Loss: 2.422086238861084\nBatch 331/2082 - Train Loss: 2.4480652809143066\nBatch 341/2082 - Train Loss: 2.5992772579193115\nBatch 351/2082 - Train Loss: 2.5153706073760986\nBatch 361/2082 - Train Loss: 2.5074052810668945\nBatch 371/2082 - Train Loss: 2.412956476211548\nBatch 381/2082 - Train Loss: 2.702561140060425\nBatch 391/2082 - Train Loss: 2.5169084072113037\nBatch 401/2082 - Train Loss: 2.221489667892456\nBatch 411/2082 - Train Loss: 2.8006224632263184\nBatch 421/2082 - Train Loss: 2.378173589706421\nBatch 431/2082 - Train Loss: 2.3405067920684814\nBatch 441/2082 - Train Loss: 2.2699079513549805\nBatch 451/2082 - Train Loss: 2.283104658126831\nBatch 461/2082 - Train Loss: 1.834041714668274\nBatch 471/2082 - Train Loss: 2.2074477672576904\nBatch 481/2082 - Train Loss: 1.8594619035720825\nBatch 491/2082 - Train Loss: 2.212024688720703\nBatch 501/2082 - Train Loss: 2.335116386413574\nBatch 511/2082 - Train Loss: 2.47330641746521\nBatch 521/2082 - Train Loss: 2.4804773330688477\nBatch 531/2082 - Train Loss: 2.204820394515991\nBatch 541/2082 - Train Loss: 2.04594349861145\nBatch 551/2082 - Train Loss: 2.008831262588501\nBatch 561/2082 - Train Loss: 2.1675758361816406\nBatch 571/2082 - Train Loss: 2.138266086578369\nBatch 581/2082 - Train Loss: 2.1028947830200195\nBatch 591/2082 - Train Loss: 2.257957696914673\nBatch 601/2082 - Train Loss: 1.888084053993225\nBatch 611/2082 - Train Loss: 2.1360831260681152\nBatch 621/2082 - Train Loss: 2.1827774047851562\nBatch 631/2082 - Train Loss: 2.3794071674346924\nBatch 641/2082 - Train Loss: 2.4243831634521484\nBatch 651/2082 - Train Loss: 2.599752902984619\nBatch 661/2082 - Train Loss: 2.2388131618499756\nBatch 671/2082 - Train Loss: 2.090564489364624\nBatch 681/2082 - Train Loss: 2.2819461822509766\nBatch 691/2082 - Train Loss: 2.24284029006958\nBatch 701/2082 - Train Loss: 2.5104918479919434\nBatch 711/2082 - Train Loss: 2.3047549724578857\nBatch 721/2082 - Train Loss: 1.9044584035873413\nBatch 731/2082 - Train Loss: 2.1453676223754883\nBatch 741/2082 - Train Loss: 2.349083662033081\nBatch 751/2082 - Train Loss: 2.155224084854126\nBatch 761/2082 - Train Loss: 2.510918378829956\nBatch 771/2082 - Train Loss: 2.2880189418792725\nBatch 781/2082 - Train Loss: 2.6959378719329834\nBatch 791/2082 - Train Loss: 2.0866634845733643\nBatch 801/2082 - Train Loss: 2.627864360809326\nBatch 811/2082 - Train Loss: 1.9225107431411743\nBatch 821/2082 - Train Loss: 2.163104772567749\nBatch 831/2082 - Train Loss: 2.3221945762634277\nBatch 841/2082 - Train Loss: 2.299880266189575\nBatch 851/2082 - Train Loss: 2.223634719848633\nBatch 861/2082 - Train Loss: 2.66115665435791\nBatch 871/2082 - Train Loss: 2.245795249938965\nBatch 881/2082 - Train Loss: 2.113431930541992\nBatch 891/2082 - Train Loss: 2.4891698360443115\nBatch 901/2082 - Train Loss: 2.1550939083099365\nBatch 911/2082 - Train Loss: 2.5516197681427\nBatch 921/2082 - Train Loss: 1.975416660308838\nBatch 931/2082 - Train Loss: 2.463543176651001\nBatch 941/2082 - Train Loss: 2.50334095954895\nBatch 951/2082 - Train Loss: 2.44870662689209\nBatch 961/2082 - Train Loss: 2.1480090618133545\nBatch 971/2082 - Train Loss: 2.1010022163391113\nBatch 981/2082 - Train Loss: 2.435559034347534\nBatch 991/2082 - Train Loss: 2.1166720390319824\nBatch 1001/2082 - Train Loss: 2.742298126220703\nBatch 1011/2082 - Train Loss: 2.2021546363830566\nBatch 1021/2082 - Train Loss: 2.6734812259674072\nBatch 1031/2082 - Train Loss: 1.9430832862854004\nBatch 1041/2082 - Train Loss: 2.0444390773773193\nBatch 1051/2082 - Train Loss: 2.4607975482940674\nBatch 1061/2082 - Train Loss: 1.8293194770812988\nBatch 1071/2082 - Train Loss: 2.1223244667053223\nBatch 1081/2082 - Train Loss: 2.5178167819976807\nBatch 1091/2082 - Train Loss: 2.3807380199432373\nBatch 1101/2082 - Train Loss: 2.4772987365722656\nBatch 1111/2082 - Train Loss: 2.2059667110443115\nBatch 1121/2082 - Train Loss: 1.8579142093658447\nBatch 1131/2082 - Train Loss: 2.3061928749084473\nBatch 1141/2082 - Train Loss: 2.3233413696289062\nBatch 1151/2082 - Train Loss: 2.043635368347168\nBatch 1161/2082 - Train Loss: 2.367051124572754\nBatch 1171/2082 - Train Loss: 2.4322845935821533\nBatch 1181/2082 - Train Loss: 2.250553607940674\nBatch 1191/2082 - Train Loss: 2.640350341796875\nBatch 1201/2082 - Train Loss: 2.4781670570373535\nBatch 1211/2082 - Train Loss: 2.3933584690093994\nBatch 1221/2082 - Train Loss: 2.3102598190307617\nBatch 1231/2082 - Train Loss: 2.1450700759887695\nBatch 1241/2082 - Train Loss: 1.8549739122390747\nBatch 1251/2082 - Train Loss: 3.30790376663208\nBatch 1261/2082 - Train Loss: 2.2826642990112305\nBatch 1271/2082 - Train Loss: 2.241938591003418\nBatch 1281/2082 - Train Loss: 2.333873987197876\nBatch 1291/2082 - Train Loss: 2.312729597091675\nBatch 1301/2082 - Train Loss: 2.538701057434082\nBatch 1311/2082 - Train Loss: 2.392545461654663\nBatch 1321/2082 - Train Loss: 2.170670509338379\nBatch 1331/2082 - Train Loss: 2.4403419494628906\nBatch 1341/2082 - Train Loss: 1.6568610668182373\nBatch 1351/2082 - Train Loss: 2.493788957595825\nBatch 1361/2082 - Train Loss: 2.0422158241271973\nBatch 1371/2082 - Train Loss: 1.9165045022964478\nBatch 1381/2082 - Train Loss: 2.3253490924835205\nBatch 1391/2082 - Train Loss: 2.31866455078125\nBatch 1401/2082 - Train Loss: 2.7456464767456055\nBatch 1411/2082 - Train Loss: 2.6835179328918457\nBatch 1421/2082 - Train Loss: 2.416841506958008\nBatch 1431/2082 - Train Loss: 2.2422282695770264\nBatch 1441/2082 - Train Loss: 2.0595598220825195\nBatch 1451/2082 - Train Loss: 2.446965217590332\nBatch 1461/2082 - Train Loss: 2.7001850605010986\nBatch 1471/2082 - Train Loss: 2.6932101249694824\nBatch 1481/2082 - Train Loss: 2.1710093021392822\nBatch 1491/2082 - Train Loss: 2.2551748752593994\nBatch 1501/2082 - Train Loss: 2.3678395748138428\nBatch 1511/2082 - Train Loss: 2.3034682273864746\nBatch 1521/2082 - Train Loss: 1.879574179649353\nBatch 1531/2082 - Train Loss: 1.8156225681304932\nBatch 1541/2082 - Train Loss: 2.092322587966919\nBatch 1551/2082 - Train Loss: 2.3849549293518066\nBatch 1561/2082 - Train Loss: 2.149289131164551\nBatch 1571/2082 - Train Loss: 2.3222732543945312\nBatch 1581/2082 - Train Loss: 1.9583699703216553\nBatch 1591/2082 - Train Loss: 2.03806734085083\nBatch 1601/2082 - Train Loss: 2.008445978164673\nBatch 1611/2082 - Train Loss: 2.5578534603118896\nBatch 1621/2082 - Train Loss: 2.305877685546875\nBatch 1631/2082 - Train Loss: 1.978484034538269\nBatch 1641/2082 - Train Loss: 2.523832082748413\nBatch 1651/2082 - Train Loss: 1.7618542909622192\nBatch 1661/2082 - Train Loss: 2.2690505981445312\nBatch 1671/2082 - Train Loss: 2.390286445617676\nBatch 1681/2082 - Train Loss: 2.384937047958374\nBatch 1691/2082 - Train Loss: 2.1603267192840576\nBatch 1701/2082 - Train Loss: 1.8442095518112183\nBatch 1711/2082 - Train Loss: 2.4038572311401367\nBatch 1721/2082 - Train Loss: 2.2342262268066406\nBatch 1731/2082 - Train Loss: 2.0579566955566406\nBatch 1741/2082 - Train Loss: 1.961465835571289\nBatch 1751/2082 - Train Loss: 1.932456612586975\nBatch 1761/2082 - Train Loss: 2.3456637859344482\nBatch 1771/2082 - Train Loss: 2.199239730834961\nBatch 1781/2082 - Train Loss: 2.236664295196533\nBatch 1791/2082 - Train Loss: 1.953344702720642\nBatch 1801/2082 - Train Loss: 1.9975311756134033\nBatch 1811/2082 - Train Loss: 2.126995801925659\nBatch 1821/2082 - Train Loss: 2.195648670196533\nBatch 1831/2082 - Train Loss: 1.8213417530059814\nBatch 1841/2082 - Train Loss: 1.9486199617385864\nBatch 1851/2082 - Train Loss: 2.0605974197387695\nBatch 1861/2082 - Train Loss: 2.0398988723754883\nBatch 1871/2082 - Train Loss: 1.7726322412490845\nBatch 1881/2082 - Train Loss: 2.1396422386169434\nBatch 1891/2082 - Train Loss: 2.4438247680664062\nBatch 1901/2082 - Train Loss: 1.7644394636154175\nBatch 1911/2082 - Train Loss: 1.8186055421829224\nBatch 1921/2082 - Train Loss: 2.346003532409668\nBatch 1931/2082 - Train Loss: 2.4299519062042236\nBatch 1941/2082 - Train Loss: 1.8657407760620117\nBatch 1951/2082 - Train Loss: 2.069803476333618\nBatch 1961/2082 - Train Loss: 2.2939205169677734\nBatch 1971/2082 - Train Loss: 1.7301356792449951\nBatch 1981/2082 - Train Loss: 2.045322895050049\nBatch 1991/2082 - Train Loss: 2.7362473011016846\nBatch 2001/2082 - Train Loss: 1.8355244398117065\nBatch 2011/2082 - Train Loss: 2.2763311862945557\nBatch 2021/2082 - Train Loss: 1.914890170097351\nBatch 2031/2082 - Train Loss: 1.9959553480148315\nBatch 2041/2082 - Train Loss: 2.4251856803894043\nBatch 2051/2082 - Train Loss: 1.9002230167388916\nBatch 2061/2082 - Train Loss: 2.0923469066619873\nBatch 2071/2082 - Train Loss: 2.2473177909851074\nBatch 2081/2082 - Train Loss: 2.391779899597168\nEpoch 4 - Average Train Loss: 2.2822342030024094\nBatch 1/261 - Validation Loss: 1.9068851470947266\nBatch 11/261 - Validation Loss: 1.5118303298950195\nBatch 21/261 - Validation Loss: 1.6644028425216675\nBatch 31/261 - Validation Loss: 1.5812679529190063\nBatch 41/261 - Validation Loss: 1.6756240129470825\nBatch 51/261 - Validation Loss: 1.3233004808425903\nBatch 61/261 - Validation Loss: 1.8364876508712769\nBatch 71/261 - Validation Loss: 1.6969329118728638\nBatch 81/261 - Validation Loss: 1.623056173324585\nBatch 91/261 - Validation Loss: 1.6638249158859253\nBatch 101/261 - Validation Loss: 1.4600058794021606\nBatch 111/261 - Validation Loss: 1.4758129119873047\nBatch 121/261 - Validation Loss: 1.9082788228988647\nBatch 131/261 - Validation Loss: 1.68079674243927\nBatch 141/261 - Validation Loss: 1.7353708744049072\nBatch 151/261 - Validation Loss: 1.6446200609207153\nBatch 161/261 - Validation Loss: 1.8502291440963745\nBatch 171/261 - Validation Loss: 1.7371379137039185\nBatch 181/261 - Validation Loss: 1.5419745445251465\nBatch 191/261 - Validation Loss: 1.5280237197875977\nBatch 201/261 - Validation Loss: 1.8126507997512817\nBatch 211/261 - Validation Loss: 2.1389360427856445\nBatch 221/261 - Validation Loss: 1.8246227502822876\nBatch 231/261 - Validation Loss: 1.5588343143463135\nBatch 241/261 - Validation Loss: 1.896670937538147\nBatch 251/261 - Validation Loss: 1.5353554487228394\nBatch 261/261 - Validation Loss: 1.4017399549484253\nEpoch 4 - Average Validation Loss: 1.6736768918019145\nEpoch 5/10\nBatch 1/2082 - Train Loss: 2.068768262863159\nBatch 11/2082 - Train Loss: 1.8414157629013062\nBatch 21/2082 - Train Loss: 2.4630045890808105\nBatch 31/2082 - Train Loss: 1.9247632026672363\nBatch 41/2082 - Train Loss: 2.001100778579712\nBatch 51/2082 - Train Loss: 2.129908323287964\nBatch 61/2082 - Train Loss: 2.250213623046875\nBatch 71/2082 - Train Loss: 2.0972635746002197\nBatch 81/2082 - Train Loss: 2.3559157848358154\nBatch 91/2082 - Train Loss: 2.2615561485290527\nBatch 101/2082 - Train Loss: 1.9220460653305054\nBatch 111/2082 - Train Loss: 2.601976156234741\nBatch 121/2082 - Train Loss: 1.621209740638733\nBatch 131/2082 - Train Loss: 1.7697736024856567\nBatch 141/2082 - Train Loss: 2.091541290283203\nBatch 151/2082 - Train Loss: 2.2839243412017822\nBatch 161/2082 - Train Loss: 1.9046252965927124\nBatch 171/2082 - Train Loss: 2.135397434234619\nBatch 181/2082 - Train Loss: 2.456345558166504\nBatch 191/2082 - Train Loss: 2.252044677734375\nBatch 201/2082 - Train Loss: 1.8908437490463257\nBatch 211/2082 - Train Loss: 2.900588274002075\nBatch 221/2082 - Train Loss: 2.374897003173828\nBatch 231/2082 - Train Loss: 2.1987669467926025\nBatch 241/2082 - Train Loss: 1.8775594234466553\nBatch 251/2082 - Train Loss: 1.9349141120910645\nBatch 261/2082 - Train Loss: 2.074094772338867\nBatch 271/2082 - Train Loss: 2.0847761631011963\nBatch 281/2082 - Train Loss: 2.061298370361328\nBatch 291/2082 - Train Loss: 2.751450777053833\nBatch 301/2082 - Train Loss: 2.3409931659698486\nBatch 311/2082 - Train Loss: 2.0458552837371826\nBatch 321/2082 - Train Loss: 1.590454339981079\nBatch 331/2082 - Train Loss: 2.4409396648406982\nBatch 341/2082 - Train Loss: 1.9548512697219849\nBatch 351/2082 - Train Loss: 1.6829227209091187\nBatch 361/2082 - Train Loss: 1.9031426906585693\nBatch 371/2082 - Train Loss: 2.4009926319122314\nBatch 381/2082 - Train Loss: 2.123633623123169\nBatch 391/2082 - Train Loss: 2.169710397720337\nBatch 401/2082 - Train Loss: 2.068598985671997\nBatch 411/2082 - Train Loss: 1.9549212455749512\nBatch 421/2082 - Train Loss: 2.237525701522827\nBatch 431/2082 - Train Loss: 2.3051583766937256\nBatch 441/2082 - Train Loss: 2.0348851680755615\nBatch 451/2082 - Train Loss: 1.8771698474884033\nBatch 461/2082 - Train Loss: 2.286844491958618\nBatch 471/2082 - Train Loss: 2.019834280014038\nBatch 481/2082 - Train Loss: 1.8613201379776\nBatch 491/2082 - Train Loss: 2.3358826637268066\nBatch 501/2082 - Train Loss: 2.4026622772216797\nBatch 511/2082 - Train Loss: 2.1217339038848877\nBatch 521/2082 - Train Loss: 2.105717420578003\nBatch 531/2082 - Train Loss: 2.3393876552581787\nBatch 541/2082 - Train Loss: 2.0567445755004883\nBatch 551/2082 - Train Loss: 1.9136085510253906\nBatch 561/2082 - Train Loss: 1.456341028213501\nBatch 571/2082 - Train Loss: 2.1876418590545654\nBatch 581/2082 - Train Loss: 1.7797284126281738\nBatch 591/2082 - Train Loss: 1.8582814931869507\nBatch 601/2082 - Train Loss: 1.854417085647583\nBatch 611/2082 - Train Loss: 2.0934603214263916\nBatch 621/2082 - Train Loss: 2.0325374603271484\nBatch 631/2082 - Train Loss: 1.9846111536026\nBatch 641/2082 - Train Loss: 2.059647798538208\nBatch 651/2082 - Train Loss: 2.1145071983337402\nBatch 661/2082 - Train Loss: 1.9745287895202637\nBatch 671/2082 - Train Loss: 2.0777413845062256\nBatch 681/2082 - Train Loss: 2.109219551086426\nBatch 691/2082 - Train Loss: 2.1181700229644775\nBatch 701/2082 - Train Loss: 1.8202685117721558\nBatch 711/2082 - Train Loss: 2.292391777038574\nBatch 721/2082 - Train Loss: 1.9070082902908325\nBatch 731/2082 - Train Loss: 1.7533345222473145\nBatch 741/2082 - Train Loss: 1.9024255275726318\nBatch 751/2082 - Train Loss: 2.144350528717041\nBatch 761/2082 - Train Loss: 1.651731252670288\nBatch 771/2082 - Train Loss: 2.3798460960388184\nBatch 781/2082 - Train Loss: 1.9598439931869507\nBatch 791/2082 - Train Loss: 1.355973720550537\nBatch 801/2082 - Train Loss: 1.8519543409347534\nBatch 811/2082 - Train Loss: 1.8895562887191772\nBatch 821/2082 - Train Loss: 1.9347678422927856\nBatch 831/2082 - Train Loss: 2.0844132900238037\nBatch 841/2082 - Train Loss: 2.03631329536438\nBatch 851/2082 - Train Loss: 2.179771900177002\nBatch 861/2082 - Train Loss: 1.9328097105026245\nBatch 871/2082 - Train Loss: 1.738050103187561\nBatch 881/2082 - Train Loss: 1.845893383026123\nBatch 891/2082 - Train Loss: 1.8686180114746094\nBatch 901/2082 - Train Loss: 2.1825060844421387\nBatch 911/2082 - Train Loss: 2.127072334289551\nBatch 921/2082 - Train Loss: 2.038273811340332\nBatch 931/2082 - Train Loss: 1.935929536819458\nBatch 941/2082 - Train Loss: 1.7844575643539429\nBatch 951/2082 - Train Loss: 1.8983192443847656\nBatch 961/2082 - Train Loss: 1.5879321098327637\nBatch 971/2082 - Train Loss: 1.7812526226043701\nBatch 981/2082 - Train Loss: 2.043675184249878\nBatch 991/2082 - Train Loss: 2.1898481845855713\nBatch 1001/2082 - Train Loss: 1.8195542097091675\nBatch 1011/2082 - Train Loss: 1.635119915008545\nBatch 1021/2082 - Train Loss: 2.0027053356170654\nBatch 1031/2082 - Train Loss: 1.7651182413101196\nBatch 1041/2082 - Train Loss: 2.0177433490753174\nBatch 1051/2082 - Train Loss: 2.0012221336364746\nBatch 1061/2082 - Train Loss: 2.072819709777832\nBatch 1071/2082 - Train Loss: 1.6782230138778687\nBatch 1081/2082 - Train Loss: 1.8296364545822144\nBatch 1091/2082 - Train Loss: 1.9937983751296997\nBatch 1101/2082 - Train Loss: 2.0655288696289062\nBatch 1111/2082 - Train Loss: 1.975519061088562\nBatch 1121/2082 - Train Loss: 1.4478801488876343\nBatch 1131/2082 - Train Loss: 1.795945644378662\nBatch 1141/2082 - Train Loss: 1.8523789644241333\nBatch 1151/2082 - Train Loss: 1.8474526405334473\nBatch 1161/2082 - Train Loss: 2.5060646533966064\nBatch 1171/2082 - Train Loss: 1.7930413484573364\nBatch 1181/2082 - Train Loss: 2.1246137619018555\nBatch 1191/2082 - Train Loss: 1.693642020225525\nBatch 1201/2082 - Train Loss: 2.1233482360839844\nBatch 1211/2082 - Train Loss: 1.813737392425537\nBatch 1221/2082 - Train Loss: 1.986918330192566\nBatch 1231/2082 - Train Loss: 2.1981821060180664\nBatch 1241/2082 - Train Loss: 2.0093655586242676\nBatch 1251/2082 - Train Loss: 2.3905789852142334\nBatch 1261/2082 - Train Loss: 1.887993574142456\nBatch 1271/2082 - Train Loss: 2.030076503753662\nBatch 1281/2082 - Train Loss: 2.0842413902282715\nBatch 1291/2082 - Train Loss: 1.9656251668930054\nBatch 1301/2082 - Train Loss: 1.9592889547348022\nBatch 1311/2082 - Train Loss: 1.8527363538742065\nBatch 1321/2082 - Train Loss: 1.9799704551696777\nBatch 1331/2082 - Train Loss: 1.7591679096221924\nBatch 1341/2082 - Train Loss: 2.387301445007324\nBatch 1351/2082 - Train Loss: 2.2137022018432617\nBatch 1361/2082 - Train Loss: 2.112400770187378\nBatch 1371/2082 - Train Loss: 1.8536407947540283\nBatch 1381/2082 - Train Loss: 2.1092286109924316\nBatch 1391/2082 - Train Loss: 1.7695413827896118\nBatch 1401/2082 - Train Loss: 1.722300410270691\nBatch 1411/2082 - Train Loss: 2.1185543537139893\nBatch 1421/2082 - Train Loss: 1.9557353258132935\nBatch 1431/2082 - Train Loss: 1.9293938875198364\nBatch 1441/2082 - Train Loss: 1.885972261428833\nBatch 1451/2082 - Train Loss: 1.9508353471755981\nBatch 1461/2082 - Train Loss: 2.0392682552337646\nBatch 1471/2082 - Train Loss: 2.1045761108398438\nBatch 1481/2082 - Train Loss: 2.294628381729126\nBatch 1491/2082 - Train Loss: 1.9995273351669312\nBatch 1501/2082 - Train Loss: 1.911504864692688\nBatch 1511/2082 - Train Loss: 1.8616969585418701\nBatch 1521/2082 - Train Loss: 1.7866559028625488\nBatch 1531/2082 - Train Loss: 1.821807622909546\nBatch 1541/2082 - Train Loss: 1.906071424484253\nBatch 1551/2082 - Train Loss: 2.0540390014648438\nBatch 1561/2082 - Train Loss: 2.0013294219970703\nBatch 1571/2082 - Train Loss: 1.5939339399337769\nBatch 1581/2082 - Train Loss: 1.8296082019805908\nBatch 1591/2082 - Train Loss: 1.875102162361145\nBatch 1601/2082 - Train Loss: 1.7602158784866333\nBatch 1611/2082 - Train Loss: 1.847867488861084\nBatch 1621/2082 - Train Loss: 1.8088327646255493\nBatch 1631/2082 - Train Loss: 1.9517474174499512\nBatch 1641/2082 - Train Loss: 2.002232551574707\nBatch 1651/2082 - Train Loss: 1.7065393924713135\nBatch 1661/2082 - Train Loss: 1.6433234214782715\nBatch 1671/2082 - Train Loss: 1.8043466806411743\nBatch 1681/2082 - Train Loss: 1.9040515422821045\nBatch 1691/2082 - Train Loss: 1.755212664604187\nBatch 1701/2082 - Train Loss: 2.2269463539123535\nBatch 1711/2082 - Train Loss: 1.3827896118164062\nBatch 1721/2082 - Train Loss: 1.6300970315933228\nBatch 1731/2082 - Train Loss: 1.628602147102356\nBatch 1741/2082 - Train Loss: 1.9360556602478027\nBatch 1751/2082 - Train Loss: 1.8452177047729492\nBatch 1761/2082 - Train Loss: 1.5528104305267334\nBatch 1771/2082 - Train Loss: 1.8640764951705933\nBatch 1781/2082 - Train Loss: 1.8304264545440674\nBatch 1791/2082 - Train Loss: 1.8331197500228882\nBatch 1801/2082 - Train Loss: 2.2239584922790527\nBatch 1811/2082 - Train Loss: 1.4610490798950195\nBatch 1821/2082 - Train Loss: 1.8979911804199219\nBatch 1831/2082 - Train Loss: 1.9042805433273315\nBatch 1841/2082 - Train Loss: 2.3792178630828857\nBatch 1851/2082 - Train Loss: 2.785090208053589\nBatch 1861/2082 - Train Loss: 1.999475121498108\nBatch 1871/2082 - Train Loss: 1.5924676656723022\nBatch 1881/2082 - Train Loss: 2.1501755714416504\nBatch 1891/2082 - Train Loss: 1.8417415618896484\nBatch 1901/2082 - Train Loss: 1.859714388847351\nBatch 1911/2082 - Train Loss: 1.8526017665863037\nBatch 1921/2082 - Train Loss: 1.762203335762024\nBatch 1931/2082 - Train Loss: 1.985223412513733\nBatch 1941/2082 - Train Loss: 1.7169255018234253\nBatch 1951/2082 - Train Loss: 2.310559034347534\nBatch 1961/2082 - Train Loss: 1.7873600721359253\nBatch 1971/2082 - Train Loss: 1.7362691164016724\nBatch 1981/2082 - Train Loss: 1.4148402214050293\nBatch 1991/2082 - Train Loss: 1.757724404335022\nBatch 2001/2082 - Train Loss: 1.7179585695266724\nBatch 2011/2082 - Train Loss: 1.857679843902588\nBatch 2021/2082 - Train Loss: 1.9197721481323242\nBatch 2031/2082 - Train Loss: 2.2329888343811035\nBatch 2041/2082 - Train Loss: 2.267139434814453\nBatch 2051/2082 - Train Loss: 1.9943684339523315\nBatch 2061/2082 - Train Loss: 1.8629631996154785\nBatch 2071/2082 - Train Loss: 1.706977128982544\nBatch 2081/2082 - Train Loss: 1.8483498096466064\nEpoch 5 - Average Train Loss: 1.9784435945903878\nBatch 1/261 - Validation Loss: 1.7796895503997803\nBatch 11/261 - Validation Loss: 1.4215023517608643\nBatch 21/261 - Validation Loss: 1.527785301208496\nBatch 31/261 - Validation Loss: 1.5454895496368408\nBatch 41/261 - Validation Loss: 1.5965824127197266\nBatch 51/261 - Validation Loss: 1.2357540130615234\nBatch 61/261 - Validation Loss: 1.7408006191253662\nBatch 71/261 - Validation Loss: 1.6354360580444336\nBatch 81/261 - Validation Loss: 1.5535756349563599\nBatch 91/261 - Validation Loss: 1.5872019529342651\nBatch 101/261 - Validation Loss: 1.4164799451828003\nBatch 111/261 - Validation Loss: 1.3399120569229126\nBatch 121/261 - Validation Loss: 1.7216770648956299\nBatch 131/261 - Validation Loss: 1.5705091953277588\nBatch 141/261 - Validation Loss: 1.5881025791168213\nBatch 151/261 - Validation Loss: 1.5719337463378906\nBatch 161/261 - Validation Loss: 1.755886197090149\nBatch 171/261 - Validation Loss: 1.6187474727630615\nBatch 181/261 - Validation Loss: 1.4957972764968872\nBatch 191/261 - Validation Loss: 1.546805739402771\nBatch 201/261 - Validation Loss: 1.773231029510498\nBatch 211/261 - Validation Loss: 1.998407006263733\nBatch 221/261 - Validation Loss: 1.7295218706130981\nBatch 231/261 - Validation Loss: 1.4952466487884521\nBatch 241/261 - Validation Loss: 1.8083444833755493\nBatch 251/261 - Validation Loss: 1.4177415370941162\nBatch 261/261 - Validation Loss: 1.2385610342025757\nEpoch 5 - Average Validation Loss: 1.5729601479124748\nEpoch 6/10\nBatch 1/2082 - Train Loss: 1.7379764318466187\nBatch 11/2082 - Train Loss: 1.750646710395813\nBatch 21/2082 - Train Loss: 2.0723984241485596\nBatch 31/2082 - Train Loss: 2.055957078933716\nBatch 41/2082 - Train Loss: 1.8733351230621338\nBatch 51/2082 - Train Loss: 1.9632067680358887\nBatch 61/2082 - Train Loss: 1.6078177690505981\nBatch 71/2082 - Train Loss: 2.1630756855010986\nBatch 81/2082 - Train Loss: 1.9773380756378174\nBatch 91/2082 - Train Loss: 1.5600612163543701\nBatch 101/2082 - Train Loss: 2.113370895385742\nBatch 111/2082 - Train Loss: 2.2639708518981934\nBatch 121/2082 - Train Loss: 1.9433999061584473\nBatch 131/2082 - Train Loss: 1.8898972272872925\nBatch 141/2082 - Train Loss: 1.8402612209320068\nBatch 151/2082 - Train Loss: 2.561356782913208\nBatch 161/2082 - Train Loss: 2.264450788497925\nBatch 171/2082 - Train Loss: 1.654365062713623\nBatch 181/2082 - Train Loss: 1.772362232208252\nBatch 191/2082 - Train Loss: 1.5615959167480469\nBatch 201/2082 - Train Loss: 1.722223162651062\nBatch 211/2082 - Train Loss: 1.9358839988708496\nBatch 221/2082 - Train Loss: 1.8480092287063599\nBatch 231/2082 - Train Loss: 1.9035109281539917\nBatch 241/2082 - Train Loss: 1.9142706394195557\nBatch 251/2082 - Train Loss: 1.3555896282196045\nBatch 261/2082 - Train Loss: 1.8532875776290894\nBatch 271/2082 - Train Loss: 1.7285308837890625\nBatch 281/2082 - Train Loss: 1.4696351289749146\nBatch 291/2082 - Train Loss: 1.9313279390335083\nBatch 301/2082 - Train Loss: 1.9776170253753662\nBatch 311/2082 - Train Loss: 1.8294677734375\nBatch 321/2082 - Train Loss: 2.016806125640869\nBatch 331/2082 - Train Loss: 1.4162603616714478\nBatch 341/2082 - Train Loss: 1.6244345903396606\nBatch 351/2082 - Train Loss: 2.0412206649780273\nBatch 361/2082 - Train Loss: 1.7528393268585205\nBatch 371/2082 - Train Loss: 2.0035829544067383\nBatch 381/2082 - Train Loss: 1.7200099229812622\nBatch 391/2082 - Train Loss: 1.8806132078170776\nBatch 401/2082 - Train Loss: 1.6429957151412964\nBatch 411/2082 - Train Loss: 1.4933170080184937\nBatch 421/2082 - Train Loss: 1.8957041501998901\nBatch 431/2082 - Train Loss: 1.6680247783660889\nBatch 441/2082 - Train Loss: 1.7712949514389038\nBatch 451/2082 - Train Loss: 1.4308733940124512\nBatch 461/2082 - Train Loss: 1.7686045169830322\nBatch 471/2082 - Train Loss: 1.6484791040420532\nBatch 481/2082 - Train Loss: 2.0249245166778564\nBatch 491/2082 - Train Loss: 1.6542068719863892\nBatch 501/2082 - Train Loss: 1.9130340814590454\nBatch 511/2082 - Train Loss: 1.5557621717453003\nBatch 521/2082 - Train Loss: 1.7402360439300537\nBatch 531/2082 - Train Loss: 1.9048266410827637\nBatch 541/2082 - Train Loss: 1.7545260190963745\nBatch 551/2082 - Train Loss: 2.1007676124572754\nBatch 561/2082 - Train Loss: 1.7791615724563599\nBatch 571/2082 - Train Loss: 2.11257266998291\nBatch 581/2082 - Train Loss: 1.6477454900741577\nBatch 591/2082 - Train Loss: 2.4981768131256104\nBatch 601/2082 - Train Loss: 2.0945234298706055\nBatch 611/2082 - Train Loss: 2.24324369430542\nBatch 621/2082 - Train Loss: 1.570832371711731\nBatch 631/2082 - Train Loss: 1.448331356048584\nBatch 641/2082 - Train Loss: 1.9008445739746094\nBatch 651/2082 - Train Loss: 1.8006376028060913\nBatch 661/2082 - Train Loss: 1.6024340391159058\nBatch 671/2082 - Train Loss: 1.8440834283828735\nBatch 681/2082 - Train Loss: 1.9689791202545166\nBatch 691/2082 - Train Loss: 1.982212781906128\nBatch 701/2082 - Train Loss: 1.9537557363510132\nBatch 711/2082 - Train Loss: 2.0045857429504395\nBatch 721/2082 - Train Loss: 1.536292552947998\nBatch 731/2082 - Train Loss: 1.9185760021209717\nBatch 741/2082 - Train Loss: 1.713693618774414\nBatch 751/2082 - Train Loss: 1.9772013425827026\nBatch 761/2082 - Train Loss: 2.1041100025177\nBatch 771/2082 - Train Loss: 1.7374056577682495\nBatch 781/2082 - Train Loss: 1.7894384860992432\nBatch 791/2082 - Train Loss: 1.8727868795394897\nBatch 801/2082 - Train Loss: 1.729923129081726\nBatch 811/2082 - Train Loss: 2.241266965866089\nBatch 821/2082 - Train Loss: 2.0259850025177\nBatch 831/2082 - Train Loss: 1.633895993232727\nBatch 841/2082 - Train Loss: 2.075802803039551\nBatch 851/2082 - Train Loss: 2.0390923023223877\nBatch 861/2082 - Train Loss: 1.9011633396148682\nBatch 871/2082 - Train Loss: 2.0333974361419678\nBatch 881/2082 - Train Loss: 1.884435772895813\nBatch 891/2082 - Train Loss: 1.498388409614563\nBatch 901/2082 - Train Loss: 1.5760096311569214\nBatch 911/2082 - Train Loss: 1.4568098783493042\nBatch 921/2082 - Train Loss: 1.9083726406097412\nBatch 931/2082 - Train Loss: 1.575312852859497\nBatch 941/2082 - Train Loss: 1.8703385591506958\nBatch 951/2082 - Train Loss: 1.6844478845596313\nBatch 961/2082 - Train Loss: 1.8516650199890137\nBatch 971/2082 - Train Loss: 1.8638875484466553\nBatch 981/2082 - Train Loss: 1.704025387763977\nBatch 991/2082 - Train Loss: 1.5865280628204346\nBatch 1001/2082 - Train Loss: 1.749216079711914\nBatch 1011/2082 - Train Loss: 1.715023159980774\nBatch 1021/2082 - Train Loss: 1.9014910459518433\nBatch 1031/2082 - Train Loss: 1.6780033111572266\nBatch 1041/2082 - Train Loss: 1.6787424087524414\nBatch 1051/2082 - Train Loss: 1.8029437065124512\nBatch 1061/2082 - Train Loss: 1.999843955039978\nBatch 1071/2082 - Train Loss: 2.104863405227661\nBatch 1081/2082 - Train Loss: 1.7327420711517334\nBatch 1091/2082 - Train Loss: 2.0337421894073486\nBatch 1101/2082 - Train Loss: 1.3792533874511719\nBatch 1111/2082 - Train Loss: 1.878754734992981\nBatch 1121/2082 - Train Loss: 1.7993137836456299\nBatch 1131/2082 - Train Loss: 1.8092135190963745\nBatch 1141/2082 - Train Loss: 1.756279706954956\nBatch 1151/2082 - Train Loss: 1.9600826501846313\nBatch 1161/2082 - Train Loss: 1.852510929107666\nBatch 1171/2082 - Train Loss: 1.8761521577835083\nBatch 1181/2082 - Train Loss: 1.952123999595642\nBatch 1191/2082 - Train Loss: 1.6618598699569702\nBatch 1201/2082 - Train Loss: 1.9116196632385254\nBatch 1211/2082 - Train Loss: 2.0108299255371094\nBatch 1221/2082 - Train Loss: 1.7506431341171265\nBatch 1231/2082 - Train Loss: 1.5563898086547852\nBatch 1241/2082 - Train Loss: 1.7202852964401245\nBatch 1251/2082 - Train Loss: 1.7078299522399902\nBatch 1261/2082 - Train Loss: 1.9165657758712769\nBatch 1271/2082 - Train Loss: 1.7864218950271606\nBatch 1281/2082 - Train Loss: 1.6133794784545898\nBatch 1291/2082 - Train Loss: 1.4118257761001587\nBatch 1301/2082 - Train Loss: 1.9169600009918213\nBatch 1311/2082 - Train Loss: 1.9685717821121216\nBatch 1321/2082 - Train Loss: 1.5553710460662842\nBatch 1331/2082 - Train Loss: 2.126948356628418\nBatch 1341/2082 - Train Loss: 2.004045009613037\nBatch 1351/2082 - Train Loss: 2.0006651878356934\nBatch 1361/2082 - Train Loss: 1.7797008752822876\nBatch 1371/2082 - Train Loss: 2.3846590518951416\nBatch 1381/2082 - Train Loss: 1.4550031423568726\nBatch 1391/2082 - Train Loss: 1.5823721885681152\nBatch 1401/2082 - Train Loss: 1.8827370405197144\nBatch 1411/2082 - Train Loss: 1.8322736024856567\nBatch 1421/2082 - Train Loss: 1.7864727973937988\nBatch 1431/2082 - Train Loss: 1.6665363311767578\nBatch 1441/2082 - Train Loss: 1.9371548891067505\nBatch 1451/2082 - Train Loss: 1.6040291786193848\nBatch 1461/2082 - Train Loss: 1.9812512397766113\nBatch 1471/2082 - Train Loss: 1.7125710248947144\nBatch 1481/2082 - Train Loss: 1.5731666088104248\nBatch 1491/2082 - Train Loss: 2.099522352218628\nBatch 1501/2082 - Train Loss: 1.6476153135299683\nBatch 1511/2082 - Train Loss: 2.130009889602661\nBatch 1521/2082 - Train Loss: 1.6139453649520874\nBatch 1531/2082 - Train Loss: 1.9215140342712402\nBatch 1541/2082 - Train Loss: 1.7759623527526855\nBatch 1551/2082 - Train Loss: 1.7258994579315186\nBatch 1561/2082 - Train Loss: 2.044318675994873\nBatch 1571/2082 - Train Loss: 1.8913092613220215\nBatch 1581/2082 - Train Loss: 1.9639434814453125\nBatch 1591/2082 - Train Loss: 7.232812404632568\nBatch 1601/2082 - Train Loss: 1.5624324083328247\nBatch 1611/2082 - Train Loss: 2.011533737182617\nBatch 1621/2082 - Train Loss: 1.5229655504226685\nBatch 1631/2082 - Train Loss: 1.9181331396102905\nBatch 1641/2082 - Train Loss: 1.4989793300628662\nBatch 1651/2082 - Train Loss: 1.7235426902770996\nBatch 1661/2082 - Train Loss: 1.9110383987426758\nBatch 1671/2082 - Train Loss: 1.8515244722366333\nBatch 1681/2082 - Train Loss: 1.7483834028244019\nBatch 1691/2082 - Train Loss: 1.6951698064804077\nBatch 1701/2082 - Train Loss: 1.7430267333984375\nBatch 1711/2082 - Train Loss: 1.8404301404953003\nBatch 1721/2082 - Train Loss: 1.6950185298919678\nBatch 1731/2082 - Train Loss: 1.8143805265426636\nBatch 1741/2082 - Train Loss: 1.6871989965438843\nBatch 1751/2082 - Train Loss: 1.9246063232421875\nBatch 1761/2082 - Train Loss: 1.6321924924850464\nBatch 1771/2082 - Train Loss: 1.829026460647583\nBatch 1781/2082 - Train Loss: 1.7176055908203125\nBatch 1791/2082 - Train Loss: 1.7783615589141846\nBatch 1801/2082 - Train Loss: 1.6627200841903687\nBatch 1811/2082 - Train Loss: 1.5516941547393799\nBatch 1821/2082 - Train Loss: 1.6579543352127075\nBatch 1831/2082 - Train Loss: 1.6569406986236572\nBatch 1841/2082 - Train Loss: 1.688623309135437\nBatch 1851/2082 - Train Loss: 1.9707852602005005\nBatch 1861/2082 - Train Loss: 2.029592275619507\nBatch 1871/2082 - Train Loss: 1.872435450553894\nBatch 1881/2082 - Train Loss: 1.6778523921966553\nBatch 1891/2082 - Train Loss: 1.435063362121582\nBatch 1901/2082 - Train Loss: 1.921869158744812\nBatch 1911/2082 - Train Loss: 1.6521371603012085\nBatch 1921/2082 - Train Loss: 1.3764339685440063\nBatch 1931/2082 - Train Loss: 1.5036109685897827\nBatch 1941/2082 - Train Loss: 1.5184231996536255\nBatch 1951/2082 - Train Loss: 1.770171880722046\nBatch 1961/2082 - Train Loss: 1.6727794408798218\nBatch 1971/2082 - Train Loss: 1.5577449798583984\nBatch 1981/2082 - Train Loss: 1.5437979698181152\nBatch 1991/2082 - Train Loss: 1.3256895542144775\nBatch 2001/2082 - Train Loss: 1.6869229078292847\nBatch 2011/2082 - Train Loss: 1.9229557514190674\nBatch 2021/2082 - Train Loss: 1.757348656654358\nBatch 2031/2082 - Train Loss: 1.8001519441604614\nBatch 2041/2082 - Train Loss: 1.3011832237243652\nBatch 2051/2082 - Train Loss: 1.7101035118103027\nBatch 2061/2082 - Train Loss: 2.1355133056640625\nBatch 2071/2082 - Train Loss: 1.7494791746139526\nBatch 2081/2082 - Train Loss: 2.0934343338012695\nEpoch 6 - Average Train Loss: 1.8063163468175847\nBatch 1/261 - Validation Loss: 1.7167006731033325\nBatch 11/261 - Validation Loss: 1.2149564027786255\nBatch 21/261 - Validation Loss: 1.4618582725524902\nBatch 31/261 - Validation Loss: 1.4857590198516846\nBatch 41/261 - Validation Loss: 1.4911326169967651\nBatch 51/261 - Validation Loss: 1.155395269393921\nBatch 61/261 - Validation Loss: 1.6433334350585938\nBatch 71/261 - Validation Loss: 1.4953089952468872\nBatch 81/261 - Validation Loss: 1.4606232643127441\nBatch 91/261 - Validation Loss: 1.5027676820755005\nBatch 101/261 - Validation Loss: 1.323278546333313\nBatch 111/261 - Validation Loss: 1.2714416980743408\nBatch 121/261 - Validation Loss: 1.6192408800125122\nBatch 131/261 - Validation Loss: 1.4701286554336548\nBatch 141/261 - Validation Loss: 1.5341640710830688\nBatch 151/261 - Validation Loss: 1.5043020248413086\nBatch 161/261 - Validation Loss: 1.5841656923294067\nBatch 171/261 - Validation Loss: 1.5698007345199585\nBatch 181/261 - Validation Loss: 1.4152761697769165\nBatch 191/261 - Validation Loss: 1.290888786315918\nBatch 201/261 - Validation Loss: 1.6120907068252563\nBatch 211/261 - Validation Loss: 1.9103131294250488\nBatch 221/261 - Validation Loss: 1.5101983547210693\nBatch 231/261 - Validation Loss: 1.3833295106887817\nBatch 241/261 - Validation Loss: 1.6805630922317505\nBatch 251/261 - Validation Loss: 1.3156511783599854\nBatch 261/261 - Validation Loss: 1.1891050338745117\nEpoch 6 - Average Validation Loss: 1.4736518480768606\nEpoch 7/10\nBatch 1/2082 - Train Loss: 1.509984016418457\nBatch 11/2082 - Train Loss: 1.6400989294052124\nBatch 21/2082 - Train Loss: 1.6321442127227783\nBatch 31/2082 - Train Loss: 1.3914437294006348\nBatch 41/2082 - Train Loss: 1.8332427740097046\nBatch 51/2082 - Train Loss: 1.8414009809494019\nBatch 61/2082 - Train Loss: 2.0370466709136963\nBatch 71/2082 - Train Loss: 1.5758510828018188\nBatch 81/2082 - Train Loss: 1.6047080755233765\nBatch 91/2082 - Train Loss: 1.9366633892059326\nBatch 101/2082 - Train Loss: 1.707274317741394\nBatch 111/2082 - Train Loss: 1.5206005573272705\nBatch 121/2082 - Train Loss: 2.243574380874634\nBatch 131/2082 - Train Loss: 1.7616361379623413\nBatch 141/2082 - Train Loss: 1.6808327436447144\nBatch 151/2082 - Train Loss: 1.7510290145874023\nBatch 161/2082 - Train Loss: 1.6634362936019897\nBatch 171/2082 - Train Loss: 1.7005244493484497\nBatch 181/2082 - Train Loss: 1.8878179788589478\nBatch 191/2082 - Train Loss: 1.5227097272872925\nBatch 201/2082 - Train Loss: 1.4094282388687134\nBatch 211/2082 - Train Loss: 1.9217675924301147\nBatch 221/2082 - Train Loss: 1.4464287757873535\nBatch 231/2082 - Train Loss: 1.836737036705017\nBatch 241/2082 - Train Loss: 1.5972185134887695\nBatch 251/2082 - Train Loss: 1.6664557456970215\nBatch 261/2082 - Train Loss: 1.754910945892334\nBatch 271/2082 - Train Loss: 1.622306227684021\nBatch 281/2082 - Train Loss: 1.781775712966919\nBatch 291/2082 - Train Loss: 1.7581793069839478\nBatch 301/2082 - Train Loss: 2.550967216491699\nBatch 311/2082 - Train Loss: 1.5658432245254517\nBatch 321/2082 - Train Loss: 1.7399810552597046\nBatch 331/2082 - Train Loss: 1.5064775943756104\nBatch 341/2082 - Train Loss: 1.8680698871612549\nBatch 351/2082 - Train Loss: 1.359113335609436\nBatch 361/2082 - Train Loss: 1.4013930559158325\nBatch 371/2082 - Train Loss: 1.727599859237671\nBatch 381/2082 - Train Loss: 1.7432032823562622\nBatch 391/2082 - Train Loss: 2.1769015789031982\nBatch 401/2082 - Train Loss: 1.5225991010665894\nBatch 411/2082 - Train Loss: 1.754717230796814\nBatch 421/2082 - Train Loss: 1.6061455011367798\nBatch 431/2082 - Train Loss: 1.8121012449264526\nBatch 441/2082 - Train Loss: 1.5810680389404297\nBatch 451/2082 - Train Loss: 1.697230577468872\nBatch 461/2082 - Train Loss: 2.3939666748046875\nBatch 471/2082 - Train Loss: 1.7040822505950928\nBatch 481/2082 - Train Loss: 1.9102981090545654\nBatch 491/2082 - Train Loss: 1.7075738906860352\nBatch 501/2082 - Train Loss: 1.9885069131851196\nBatch 511/2082 - Train Loss: 1.9864081144332886\nBatch 521/2082 - Train Loss: 1.5649856328964233\nBatch 531/2082 - Train Loss: 1.5140411853790283\nBatch 541/2082 - Train Loss: 1.825165867805481\nBatch 551/2082 - Train Loss: 1.5466901063919067\nBatch 561/2082 - Train Loss: 1.6537468433380127\nBatch 571/2082 - Train Loss: 1.3946255445480347\nBatch 581/2082 - Train Loss: 1.561289668083191\nBatch 591/2082 - Train Loss: 1.7791404724121094\nBatch 601/2082 - Train Loss: 1.5970457792282104\nBatch 611/2082 - Train Loss: 1.6694248914718628\nBatch 621/2082 - Train Loss: 1.5366106033325195\nBatch 631/2082 - Train Loss: 1.809444785118103\nBatch 641/2082 - Train Loss: 1.9592725038528442\nBatch 651/2082 - Train Loss: 1.6406110525131226\nBatch 661/2082 - Train Loss: 1.6658600568771362\nBatch 671/2082 - Train Loss: 1.8248518705368042\nBatch 681/2082 - Train Loss: 1.7561067342758179\nBatch 691/2082 - Train Loss: 1.6415432691574097\nBatch 701/2082 - Train Loss: 2.1034598350524902\nBatch 711/2082 - Train Loss: 1.4748464822769165\nBatch 721/2082 - Train Loss: 1.7963037490844727\nBatch 731/2082 - Train Loss: 1.6248685121536255\nBatch 741/2082 - Train Loss: 1.634806752204895\nBatch 751/2082 - Train Loss: 1.9175118207931519\nBatch 761/2082 - Train Loss: 1.6292979717254639\nBatch 771/2082 - Train Loss: 1.9908182621002197\nBatch 781/2082 - Train Loss: 1.950771450996399\nBatch 791/2082 - Train Loss: 1.9666633605957031\nBatch 801/2082 - Train Loss: 1.8381131887435913\nBatch 811/2082 - Train Loss: 1.7064765691757202\nBatch 821/2082 - Train Loss: 1.848845362663269\nBatch 831/2082 - Train Loss: 1.5542441606521606\nBatch 841/2082 - Train Loss: 1.878861904144287\nBatch 851/2082 - Train Loss: 1.5567256212234497\nBatch 861/2082 - Train Loss: 1.8844480514526367\nBatch 871/2082 - Train Loss: 1.3668125867843628\nBatch 881/2082 - Train Loss: 1.7564150094985962\nBatch 891/2082 - Train Loss: 1.9508235454559326\nBatch 901/2082 - Train Loss: 1.3788959980010986\nBatch 911/2082 - Train Loss: 1.580421805381775\nBatch 921/2082 - Train Loss: 1.8698770999908447\nBatch 931/2082 - Train Loss: 1.7131016254425049\nBatch 941/2082 - Train Loss: 1.3578757047653198\nBatch 951/2082 - Train Loss: 1.6872293949127197\nBatch 961/2082 - Train Loss: 1.4930388927459717\nBatch 971/2082 - Train Loss: 1.3986996412277222\nBatch 981/2082 - Train Loss: 1.7078629732131958\nBatch 991/2082 - Train Loss: 1.6295812129974365\nBatch 1001/2082 - Train Loss: 1.6516026258468628\nBatch 1011/2082 - Train Loss: 1.5227831602096558\nBatch 1021/2082 - Train Loss: 1.5969411134719849\nBatch 1031/2082 - Train Loss: 1.5970704555511475\nBatch 1041/2082 - Train Loss: 1.3534563779830933\nBatch 1051/2082 - Train Loss: 1.4853861331939697\nBatch 1061/2082 - Train Loss: 1.7535858154296875\nBatch 1071/2082 - Train Loss: 1.4375009536743164\nBatch 1081/2082 - Train Loss: 1.579507827758789\nBatch 1091/2082 - Train Loss: 1.433768630027771\nBatch 1101/2082 - Train Loss: 1.8957220315933228\nBatch 1111/2082 - Train Loss: 1.5999552011489868\nBatch 1121/2082 - Train Loss: 1.6135796308517456\nBatch 1131/2082 - Train Loss: 1.758297085762024\nBatch 1141/2082 - Train Loss: 1.6130508184432983\nBatch 1151/2082 - Train Loss: 1.8212347030639648\nBatch 1161/2082 - Train Loss: 1.620317816734314\nBatch 1171/2082 - Train Loss: 1.5982359647750854\nBatch 1181/2082 - Train Loss: 1.3753407001495361\nBatch 1191/2082 - Train Loss: 1.3676656484603882\nBatch 1201/2082 - Train Loss: 1.2759100198745728\nBatch 1211/2082 - Train Loss: 1.5550153255462646\nBatch 1221/2082 - Train Loss: 1.6129704713821411\nBatch 1231/2082 - Train Loss: 1.723626732826233\nBatch 1241/2082 - Train Loss: 1.5400240421295166\nBatch 1251/2082 - Train Loss: 1.7078520059585571\nBatch 1261/2082 - Train Loss: 1.56525456905365\nBatch 1271/2082 - Train Loss: 1.7770774364471436\nBatch 1281/2082 - Train Loss: 1.8493900299072266\nBatch 1291/2082 - Train Loss: 1.7291918992996216\nBatch 1301/2082 - Train Loss: 1.3369812965393066\nBatch 1311/2082 - Train Loss: 1.8072293996810913\nBatch 1321/2082 - Train Loss: 1.4248926639556885\nBatch 1331/2082 - Train Loss: 1.9712581634521484\nBatch 1341/2082 - Train Loss: 1.4889658689498901\nBatch 1351/2082 - Train Loss: 1.3131765127182007\nBatch 1361/2082 - Train Loss: 1.563759684562683\nBatch 1371/2082 - Train Loss: 1.4761484861373901\nBatch 1381/2082 - Train Loss: 1.310297966003418\nBatch 1391/2082 - Train Loss: 1.5539162158966064\nBatch 1401/2082 - Train Loss: 1.609961986541748\nBatch 1411/2082 - Train Loss: 1.6944023370742798\nBatch 1421/2082 - Train Loss: 1.655614972114563\nBatch 1431/2082 - Train Loss: 1.8648433685302734\nBatch 1441/2082 - Train Loss: 1.427485704421997\nBatch 1451/2082 - Train Loss: 1.667847752571106\nBatch 1461/2082 - Train Loss: 1.556389331817627\nBatch 1471/2082 - Train Loss: 1.6072627305984497\nBatch 1481/2082 - Train Loss: 1.314850091934204\nBatch 1491/2082 - Train Loss: 1.4201425313949585\nBatch 1501/2082 - Train Loss: 1.6951228380203247\nBatch 1511/2082 - Train Loss: 1.348298192024231\nBatch 1521/2082 - Train Loss: 1.535695195198059\nBatch 1531/2082 - Train Loss: 1.308904767036438\nBatch 1541/2082 - Train Loss: 1.5534392595291138\nBatch 1551/2082 - Train Loss: 1.49250066280365\nBatch 1561/2082 - Train Loss: 2.0584287643432617\nBatch 1571/2082 - Train Loss: 1.5970473289489746\nBatch 1581/2082 - Train Loss: 1.565887212753296\nBatch 1591/2082 - Train Loss: 1.4609296321868896\nBatch 1601/2082 - Train Loss: 1.609779715538025\nBatch 1611/2082 - Train Loss: 1.2940319776535034\nBatch 1621/2082 - Train Loss: 1.4480440616607666\nBatch 1631/2082 - Train Loss: 1.344306468963623\nBatch 1641/2082 - Train Loss: 1.3167390823364258\nBatch 1651/2082 - Train Loss: 1.344842791557312\nBatch 1661/2082 - Train Loss: 1.451761245727539\nBatch 1671/2082 - Train Loss: 1.529474139213562\nBatch 1681/2082 - Train Loss: 1.7444953918457031\nBatch 1691/2082 - Train Loss: 1.3383280038833618\nBatch 1701/2082 - Train Loss: 1.4679325819015503\nBatch 1711/2082 - Train Loss: 1.8092018365859985\nBatch 1721/2082 - Train Loss: 1.6585863828659058\nBatch 1731/2082 - Train Loss: 1.4204509258270264\nBatch 1741/2082 - Train Loss: 1.5270758867263794\nBatch 1751/2082 - Train Loss: 1.571398377418518\nBatch 1761/2082 - Train Loss: 1.5550732612609863\nBatch 1771/2082 - Train Loss: 1.8149465322494507\nBatch 1781/2082 - Train Loss: 1.4537367820739746\nBatch 1791/2082 - Train Loss: 1.52139413356781\nBatch 1801/2082 - Train Loss: 1.4807653427124023\nBatch 1811/2082 - Train Loss: 1.5222253799438477\nBatch 1821/2082 - Train Loss: 1.5562814474105835\nBatch 1831/2082 - Train Loss: 1.646337866783142\nBatch 1841/2082 - Train Loss: 1.7582792043685913\nBatch 1851/2082 - Train Loss: 1.2860187292099\nBatch 1861/2082 - Train Loss: 1.406611680984497\nBatch 1871/2082 - Train Loss: 1.7089682817459106\nBatch 1881/2082 - Train Loss: 1.5406116247177124\nBatch 1891/2082 - Train Loss: 1.5635929107666016\nBatch 1901/2082 - Train Loss: 1.3226264715194702\nBatch 1911/2082 - Train Loss: 1.5204031467437744\nBatch 1921/2082 - Train Loss: 1.7137566804885864\nBatch 1931/2082 - Train Loss: 1.5293346643447876\nBatch 1941/2082 - Train Loss: 1.5462576150894165\nBatch 1951/2082 - Train Loss: 1.57162344455719\nBatch 1961/2082 - Train Loss: 1.6010963916778564\nBatch 1971/2082 - Train Loss: 1.5906100273132324\nBatch 1981/2082 - Train Loss: 1.6008175611495972\nBatch 1991/2082 - Train Loss: 1.538195013999939\nBatch 2001/2082 - Train Loss: 1.5514087677001953\nBatch 2011/2082 - Train Loss: 1.3369032144546509\nBatch 2021/2082 - Train Loss: 1.7975823879241943\nBatch 2031/2082 - Train Loss: 1.7043691873550415\nBatch 2041/2082 - Train Loss: 1.3176640272140503\nBatch 2051/2082 - Train Loss: 1.5563995838165283\nBatch 2061/2082 - Train Loss: 1.3668328523635864\nBatch 2071/2082 - Train Loss: 1.4066828489303589\nBatch 2081/2082 - Train Loss: 1.4167941808700562\nEpoch 7 - Average Train Loss: 1.6296302681354007\nBatch 1/261 - Validation Loss: 1.0416717529296875\nBatch 11/261 - Validation Loss: 0.7952151894569397\nBatch 21/261 - Validation Loss: 0.929245114326477\nBatch 31/261 - Validation Loss: 0.9241331219673157\nBatch 41/261 - Validation Loss: 0.996917188167572\nBatch 51/261 - Validation Loss: 0.7176872491836548\nBatch 61/261 - Validation Loss: 1.079217791557312\nBatch 71/261 - Validation Loss: 1.0304845571517944\nBatch 81/261 - Validation Loss: 0.9816057085990906\nBatch 91/261 - Validation Loss: 0.9840980172157288\nBatch 101/261 - Validation Loss: 0.8038243651390076\nBatch 111/261 - Validation Loss: 0.7833141684532166\nBatch 121/261 - Validation Loss: 1.0625284910202026\nBatch 131/261 - Validation Loss: 0.9239431619644165\nBatch 141/261 - Validation Loss: 0.976449191570282\nBatch 151/261 - Validation Loss: 0.9656346440315247\nBatch 161/261 - Validation Loss: 0.9960266351699829\nBatch 171/261 - Validation Loss: 1.0585395097732544\nBatch 181/261 - Validation Loss: 0.887049674987793\nBatch 191/261 - Validation Loss: 0.8449772596359253\nBatch 201/261 - Validation Loss: 1.0714514255523682\nBatch 211/261 - Validation Loss: 1.1135923862457275\nBatch 221/261 - Validation Loss: 0.9530816674232483\nBatch 231/261 - Validation Loss: 0.7798629999160767\nBatch 241/261 - Validation Loss: 1.0866810083389282\nBatch 251/261 - Validation Loss: 0.8442291617393494\nBatch 261/261 - Validation Loss: 0.6984446048736572\nEpoch 7 - Average Validation Loss: 0.9301927169620763\nEpoch 8/10\nBatch 1/2082 - Train Loss: 1.3585567474365234\nBatch 11/2082 - Train Loss: 1.3898158073425293\nBatch 21/2082 - Train Loss: 1.412279725074768\nBatch 31/2082 - Train Loss: 1.4154736995697021\nBatch 41/2082 - Train Loss: 1.5444681644439697\nBatch 51/2082 - Train Loss: 1.43842613697052\nBatch 61/2082 - Train Loss: 1.5618358850479126\nBatch 71/2082 - Train Loss: 1.263352870941162\nBatch 81/2082 - Train Loss: 1.5464924573898315\nBatch 91/2082 - Train Loss: 1.4678330421447754\nBatch 101/2082 - Train Loss: 1.8208192586898804\nBatch 111/2082 - Train Loss: 1.3154079914093018\nBatch 121/2082 - Train Loss: 1.3624053001403809\nBatch 131/2082 - Train Loss: 0.9984545707702637\nBatch 141/2082 - Train Loss: 1.7316125631332397\nBatch 151/2082 - Train Loss: 1.2264968156814575\nBatch 161/2082 - Train Loss: 1.7481372356414795\nBatch 171/2082 - Train Loss: 1.4953254461288452\nBatch 181/2082 - Train Loss: 1.356542706489563\nBatch 191/2082 - Train Loss: 1.2763065099716187\nBatch 201/2082 - Train Loss: 1.3740315437316895\nBatch 211/2082 - Train Loss: 1.4093018770217896\nBatch 221/2082 - Train Loss: 1.5232329368591309\nBatch 231/2082 - Train Loss: 1.145501732826233\nBatch 241/2082 - Train Loss: 1.329726219177246\nBatch 251/2082 - Train Loss: 1.503948450088501\nBatch 261/2082 - Train Loss: 1.574894666671753\nBatch 271/2082 - Train Loss: 1.2293168306350708\nBatch 281/2082 - Train Loss: 1.8706696033477783\nBatch 291/2082 - Train Loss: 1.267418622970581\nBatch 301/2082 - Train Loss: 1.315854549407959\nBatch 311/2082 - Train Loss: 1.4000041484832764\nBatch 321/2082 - Train Loss: 1.471557855606079\nBatch 331/2082 - Train Loss: 1.8044315576553345\nBatch 341/2082 - Train Loss: 1.8631036281585693\nBatch 351/2082 - Train Loss: 1.490849494934082\nBatch 361/2082 - Train Loss: 1.1348226070404053\nBatch 371/2082 - Train Loss: 1.4345693588256836\nBatch 381/2082 - Train Loss: 1.698773980140686\nBatch 391/2082 - Train Loss: 1.4046419858932495\nBatch 401/2082 - Train Loss: 1.1668814420700073\nBatch 411/2082 - Train Loss: 1.4024008512496948\nBatch 421/2082 - Train Loss: 1.4991779327392578\nBatch 431/2082 - Train Loss: 1.5786597728729248\nBatch 441/2082 - Train Loss: 1.3217971324920654\nBatch 451/2082 - Train Loss: 1.63956618309021\nBatch 461/2082 - Train Loss: 1.4205429553985596\nBatch 471/2082 - Train Loss: 1.5983426570892334\nBatch 481/2082 - Train Loss: 1.2614336013793945\nBatch 491/2082 - Train Loss: 1.2155355215072632\nBatch 501/2082 - Train Loss: 1.1505876779556274\nBatch 511/2082 - Train Loss: 1.4590861797332764\nBatch 521/2082 - Train Loss: 1.2402243614196777\nBatch 531/2082 - Train Loss: 1.5999993085861206\nBatch 541/2082 - Train Loss: 1.2608639001846313\nBatch 551/2082 - Train Loss: 1.216161847114563\nBatch 561/2082 - Train Loss: 1.4489375352859497\nBatch 571/2082 - Train Loss: 1.3481805324554443\nBatch 581/2082 - Train Loss: 1.1444603204727173\nBatch 591/2082 - Train Loss: 1.5832009315490723\nBatch 601/2082 - Train Loss: 1.2578294277191162\nBatch 611/2082 - Train Loss: 1.3905386924743652\nBatch 621/2082 - Train Loss: 1.4720923900604248\nBatch 631/2082 - Train Loss: 1.0682233572006226\nBatch 641/2082 - Train Loss: 1.2763397693634033\nBatch 651/2082 - Train Loss: 1.2420207262039185\nBatch 661/2082 - Train Loss: 1.5673960447311401\nBatch 671/2082 - Train Loss: 1.1847574710845947\nBatch 681/2082 - Train Loss: 1.4850118160247803\nBatch 691/2082 - Train Loss: 1.5461660623550415\nBatch 701/2082 - Train Loss: 1.237319827079773\nBatch 711/2082 - Train Loss: 1.263251543045044\nBatch 721/2082 - Train Loss: 1.4445966482162476\nBatch 731/2082 - Train Loss: 1.251355767250061\nBatch 741/2082 - Train Loss: 1.4399430751800537\nBatch 751/2082 - Train Loss: 1.3247302770614624\nBatch 761/2082 - Train Loss: 1.281890869140625\nBatch 771/2082 - Train Loss: 1.6297836303710938\nBatch 781/2082 - Train Loss: 1.3739120960235596\nBatch 791/2082 - Train Loss: 1.2997325658798218\nBatch 801/2082 - Train Loss: 1.629250407218933\nBatch 811/2082 - Train Loss: 1.7392065525054932\nBatch 821/2082 - Train Loss: 1.3796157836914062\nBatch 831/2082 - Train Loss: 1.3480497598648071\nBatch 841/2082 - Train Loss: 1.2981535196304321\nBatch 851/2082 - Train Loss: 1.2817249298095703\nBatch 861/2082 - Train Loss: 1.3337455987930298\nBatch 871/2082 - Train Loss: 1.387539029121399\nBatch 881/2082 - Train Loss: 1.0670521259307861\nBatch 891/2082 - Train Loss: 1.591415286064148\nBatch 901/2082 - Train Loss: 1.3210729360580444\nBatch 911/2082 - Train Loss: 1.2666642665863037\nBatch 921/2082 - Train Loss: 1.3044511079788208\nBatch 931/2082 - Train Loss: 1.508065104484558\nBatch 941/2082 - Train Loss: 1.5151296854019165\nBatch 951/2082 - Train Loss: 1.2283297777175903\nBatch 961/2082 - Train Loss: 1.405577540397644\nBatch 971/2082 - Train Loss: 1.3572748899459839\nBatch 981/2082 - Train Loss: 1.2894805669784546\nBatch 991/2082 - Train Loss: 1.3063260316848755\nBatch 1001/2082 - Train Loss: 1.2895363569259644\nBatch 1011/2082 - Train Loss: 1.4102119207382202\nBatch 1021/2082 - Train Loss: 1.059638261795044\nBatch 1031/2082 - Train Loss: 1.3477342128753662\nBatch 1041/2082 - Train Loss: 1.1899174451828003\nBatch 1051/2082 - Train Loss: 1.1537152528762817\nBatch 1061/2082 - Train Loss: 1.4692000150680542\nBatch 1071/2082 - Train Loss: 1.2573606967926025\nBatch 1081/2082 - Train Loss: 1.136376976966858\nBatch 1091/2082 - Train Loss: 1.3329715728759766\nBatch 1101/2082 - Train Loss: 1.3878381252288818\nBatch 1111/2082 - Train Loss: 1.1238795518875122\nBatch 1121/2082 - Train Loss: 1.4218995571136475\nBatch 1131/2082 - Train Loss: 1.2092208862304688\nBatch 1141/2082 - Train Loss: 1.2073173522949219\nBatch 1151/2082 - Train Loss: 1.1951271295547485\nBatch 1161/2082 - Train Loss: 1.0743669271469116\nBatch 1171/2082 - Train Loss: 1.2593014240264893\nBatch 1181/2082 - Train Loss: 1.0312919616699219\nBatch 1191/2082 - Train Loss: 1.1983306407928467\nBatch 1201/2082 - Train Loss: 1.2282874584197998\nBatch 1211/2082 - Train Loss: 1.3166838884353638\nBatch 1221/2082 - Train Loss: 1.317136526107788\nBatch 1231/2082 - Train Loss: 1.2722206115722656\nBatch 1241/2082 - Train Loss: 1.0074068307876587\nBatch 1251/2082 - Train Loss: 1.3001857995986938\nBatch 1261/2082 - Train Loss: 1.130653738975525\nBatch 1271/2082 - Train Loss: 1.323164939880371\nBatch 1281/2082 - Train Loss: 1.3114179372787476\nBatch 1291/2082 - Train Loss: 1.1735084056854248\nBatch 1301/2082 - Train Loss: 0.92862468957901\nBatch 1311/2082 - Train Loss: 1.0510773658752441\nBatch 1321/2082 - Train Loss: 1.3012075424194336\nBatch 1331/2082 - Train Loss: 1.2569770812988281\nBatch 1341/2082 - Train Loss: 1.070289969444275\nBatch 1351/2082 - Train Loss: 1.0958166122436523\nBatch 1361/2082 - Train Loss: 1.009248971939087\nBatch 1371/2082 - Train Loss: 1.0701475143432617\nBatch 1381/2082 - Train Loss: 1.0440860986709595\nBatch 1391/2082 - Train Loss: 1.1108438968658447\nBatch 1401/2082 - Train Loss: 1.4868799448013306\nBatch 1411/2082 - Train Loss: 1.1954634189605713\nBatch 1421/2082 - Train Loss: 1.2688360214233398\nBatch 1431/2082 - Train Loss: 1.3920490741729736\nBatch 1441/2082 - Train Loss: 1.1268486976623535\nBatch 1451/2082 - Train Loss: 1.2043999433517456\nBatch 1461/2082 - Train Loss: 1.111791729927063\nBatch 1471/2082 - Train Loss: 1.2660300731658936\nBatch 1481/2082 - Train Loss: 1.0116584300994873\nBatch 1491/2082 - Train Loss: 1.3402687311172485\nBatch 1501/2082 - Train Loss: 1.2965928316116333\nBatch 1511/2082 - Train Loss: 1.2035973072052002\nBatch 1521/2082 - Train Loss: 0.9621917605400085\nBatch 1531/2082 - Train Loss: 1.1823238134384155\nBatch 1541/2082 - Train Loss: 0.9965161085128784\nBatch 1551/2082 - Train Loss: 1.441217303276062\nBatch 1561/2082 - Train Loss: 1.176429033279419\nBatch 1571/2082 - Train Loss: 1.1801211833953857\nBatch 1581/2082 - Train Loss: 1.3023566007614136\nBatch 1591/2082 - Train Loss: 1.2852658033370972\nBatch 1601/2082 - Train Loss: 1.2123900651931763\nBatch 1611/2082 - Train Loss: 1.2033112049102783\nBatch 1621/2082 - Train Loss: 1.379512071609497\nBatch 1631/2082 - Train Loss: 1.036252498626709\nBatch 1641/2082 - Train Loss: 2.087867259979248\nBatch 1651/2082 - Train Loss: 1.3167901039123535\nBatch 1661/2082 - Train Loss: 1.1780625581741333\nBatch 1671/2082 - Train Loss: 0.9044897556304932\nBatch 1681/2082 - Train Loss: 1.5720126628875732\nBatch 1691/2082 - Train Loss: 1.0251808166503906\nBatch 1701/2082 - Train Loss: 1.068350076675415\nBatch 1711/2082 - Train Loss: 1.2956335544586182\nBatch 1721/2082 - Train Loss: 1.164857268333435\nBatch 1731/2082 - Train Loss: 1.1830251216888428\nBatch 1741/2082 - Train Loss: 1.429988980293274\nBatch 1751/2082 - Train Loss: 1.3843564987182617\nBatch 1761/2082 - Train Loss: 0.9711840748786926\nBatch 1771/2082 - Train Loss: 1.2911900281906128\nBatch 1781/2082 - Train Loss: 1.0662287473678589\nBatch 1791/2082 - Train Loss: 1.1592098474502563\nBatch 1801/2082 - Train Loss: 1.1872988939285278\nBatch 1811/2082 - Train Loss: 1.0601073503494263\nBatch 1821/2082 - Train Loss: 1.0832388401031494\nBatch 1831/2082 - Train Loss: 1.1856133937835693\nBatch 1841/2082 - Train Loss: 1.1854491233825684\nBatch 1851/2082 - Train Loss: 1.0621376037597656\nBatch 1861/2082 - Train Loss: 1.209869146347046\nBatch 1871/2082 - Train Loss: 0.9981132745742798\nBatch 1881/2082 - Train Loss: 1.0892815589904785\nBatch 1891/2082 - Train Loss: 0.9936515092849731\nBatch 1901/2082 - Train Loss: 1.2343412637710571\nBatch 1911/2082 - Train Loss: 1.1709444522857666\nBatch 1921/2082 - Train Loss: 1.2564210891723633\nBatch 1931/2082 - Train Loss: 1.1995786428451538\nBatch 1941/2082 - Train Loss: 1.117903232574463\nBatch 1951/2082 - Train Loss: 1.1133995056152344\nBatch 1961/2082 - Train Loss: 0.9185022115707397\nBatch 1971/2082 - Train Loss: 1.3750181198120117\nBatch 1981/2082 - Train Loss: 1.1803045272827148\nBatch 1991/2082 - Train Loss: 0.927693784236908\nBatch 2001/2082 - Train Loss: 1.0913283824920654\nBatch 2011/2082 - Train Loss: 1.1036192178726196\nBatch 2021/2082 - Train Loss: 1.2374467849731445\nBatch 2031/2082 - Train Loss: 1.1967016458511353\nBatch 2041/2082 - Train Loss: 1.0371979475021362\nBatch 2051/2082 - Train Loss: 1.1701580286026\nBatch 2061/2082 - Train Loss: 1.0772597789764404\nBatch 2071/2082 - Train Loss: 1.112751841545105\nBatch 2081/2082 - Train Loss: 1.1589933633804321\nEpoch 8 - Average Train Loss: 1.3087387153383176\nBatch 1/261 - Validation Loss: 0.4383077621459961\nBatch 11/261 - Validation Loss: 0.5752964019775391\nBatch 21/261 - Validation Loss: 0.5142143964767456\nBatch 31/261 - Validation Loss: 0.5110676884651184\nBatch 41/261 - Validation Loss: 0.588358461856842\nBatch 51/261 - Validation Loss: 0.404384046792984\nBatch 61/261 - Validation Loss: 0.4810541868209839\nBatch 71/261 - Validation Loss: 0.49622243642807007\nBatch 81/261 - Validation Loss: 0.6056463718414307\nBatch 91/261 - Validation Loss: 0.6795563101768494\nBatch 101/261 - Validation Loss: 0.46072763204574585\nBatch 111/261 - Validation Loss: 0.5453972816467285\nBatch 121/261 - Validation Loss: 0.5312146544456482\nBatch 131/261 - Validation Loss: 0.6731491088867188\nBatch 141/261 - Validation Loss: 0.736537754535675\nBatch 151/261 - Validation Loss: 0.6308318972587585\nBatch 161/261 - Validation Loss: 0.6273736357688904\nBatch 171/261 - Validation Loss: 0.7127915620803833\nBatch 181/261 - Validation Loss: 0.5371239185333252\nBatch 191/261 - Validation Loss: 0.4822934567928314\nBatch 201/261 - Validation Loss: 0.8110599517822266\nBatch 211/261 - Validation Loss: 0.623186469078064\nBatch 221/261 - Validation Loss: 0.4547267258167267\nBatch 231/261 - Validation Loss: 0.465654194355011\nBatch 241/261 - Validation Loss: 0.5078760981559753\nBatch 251/261 - Validation Loss: 0.614113986492157\nBatch 261/261 - Validation Loss: 0.32311156392097473\nEpoch 8 - Average Validation Loss: 0.5459973782415134\nEpoch 9/10\nBatch 1/2082 - Train Loss: 1.2938553094863892\nBatch 11/2082 - Train Loss: 1.379488468170166\nBatch 21/2082 - Train Loss: 1.0000879764556885\nBatch 31/2082 - Train Loss: 0.957518994808197\nBatch 41/2082 - Train Loss: 1.0452135801315308\nBatch 51/2082 - Train Loss: 0.8239662051200867\nBatch 61/2082 - Train Loss: 1.3456625938415527\nBatch 71/2082 - Train Loss: 1.0819841623306274\nBatch 81/2082 - Train Loss: 1.2490369081497192\nBatch 91/2082 - Train Loss: 1.1678211688995361\nBatch 101/2082 - Train Loss: 1.1998982429504395\nBatch 111/2082 - Train Loss: 1.1754074096679688\nBatch 121/2082 - Train Loss: 1.0827620029449463\nBatch 131/2082 - Train Loss: 1.0899373292922974\nBatch 141/2082 - Train Loss: 1.0279204845428467\nBatch 151/2082 - Train Loss: 1.0400351285934448\nBatch 161/2082 - Train Loss: 1.360129952430725\nBatch 171/2082 - Train Loss: 1.0097367763519287\nBatch 181/2082 - Train Loss: 1.1021171808242798\nBatch 191/2082 - Train Loss: 1.1268879175186157\nBatch 201/2082 - Train Loss: 1.089903712272644\nBatch 211/2082 - Train Loss: 1.662578821182251\nBatch 221/2082 - Train Loss: 1.2641808986663818\nBatch 231/2082 - Train Loss: 1.1785982847213745\nBatch 241/2082 - Train Loss: 1.4451545476913452\nBatch 251/2082 - Train Loss: 0.9496639966964722\nBatch 261/2082 - Train Loss: 0.9597916603088379\nBatch 271/2082 - Train Loss: 0.8577611446380615\nBatch 281/2082 - Train Loss: 1.1252933740615845\nBatch 291/2082 - Train Loss: 1.1696699857711792\nBatch 301/2082 - Train Loss: 1.1595216989517212\nBatch 311/2082 - Train Loss: 0.9173847436904907\nBatch 321/2082 - Train Loss: 1.1238378286361694\nBatch 331/2082 - Train Loss: 1.2972049713134766\nBatch 341/2082 - Train Loss: 0.9771839380264282\nBatch 351/2082 - Train Loss: 1.1575267314910889\nBatch 361/2082 - Train Loss: 1.0342270135879517\nBatch 371/2082 - Train Loss: 1.199301838874817\nBatch 381/2082 - Train Loss: 0.7765479683876038\nBatch 391/2082 - Train Loss: 0.997384250164032\nBatch 401/2082 - Train Loss: 1.2319040298461914\nBatch 411/2082 - Train Loss: 1.3180122375488281\nBatch 421/2082 - Train Loss: 1.141584038734436\nBatch 431/2082 - Train Loss: 1.0993781089782715\nBatch 441/2082 - Train Loss: 1.332030177116394\nBatch 451/2082 - Train Loss: 1.0370389223098755\nBatch 461/2082 - Train Loss: 1.0156737565994263\nBatch 471/2082 - Train Loss: 1.2073581218719482\nBatch 481/2082 - Train Loss: 0.8745881915092468\nBatch 491/2082 - Train Loss: 1.2132675647735596\nBatch 501/2082 - Train Loss: 1.0791555643081665\nBatch 511/2082 - Train Loss: 0.8410065770149231\nBatch 521/2082 - Train Loss: 1.0141915082931519\nBatch 531/2082 - Train Loss: 1.172095537185669\nBatch 541/2082 - Train Loss: 1.1278705596923828\nBatch 551/2082 - Train Loss: 0.9374514818191528\nBatch 561/2082 - Train Loss: 1.1659400463104248\nBatch 571/2082 - Train Loss: 1.0983405113220215\nBatch 581/2082 - Train Loss: 0.835523247718811\nBatch 591/2082 - Train Loss: 1.1399812698364258\nBatch 601/2082 - Train Loss: 0.968069851398468\nBatch 611/2082 - Train Loss: 1.0375896692276\nBatch 621/2082 - Train Loss: 1.2121670246124268\nBatch 631/2082 - Train Loss: 1.2829066514968872\nBatch 641/2082 - Train Loss: 0.6760265231132507\nBatch 651/2082 - Train Loss: 1.0696622133255005\nBatch 661/2082 - Train Loss: 0.9990026950836182\nBatch 671/2082 - Train Loss: 0.8989421725273132\nBatch 681/2082 - Train Loss: 1.0797375440597534\nBatch 691/2082 - Train Loss: 1.1172599792480469\nBatch 701/2082 - Train Loss: 0.9176725149154663\nBatch 711/2082 - Train Loss: 1.0913461446762085\nBatch 721/2082 - Train Loss: 1.3155375719070435\nBatch 731/2082 - Train Loss: 1.052152395248413\nBatch 741/2082 - Train Loss: 1.1047035455703735\nBatch 751/2082 - Train Loss: 0.9306342601776123\nBatch 761/2082 - Train Loss: 1.1478502750396729\nBatch 771/2082 - Train Loss: 0.9046436548233032\nBatch 781/2082 - Train Loss: 0.877119243144989\nBatch 791/2082 - Train Loss: 1.090805172920227\nBatch 801/2082 - Train Loss: 0.9222123026847839\nBatch 811/2082 - Train Loss: 1.1313241720199585\nBatch 821/2082 - Train Loss: 0.8329124450683594\nBatch 831/2082 - Train Loss: 1.4342728853225708\nBatch 841/2082 - Train Loss: 0.9990540742874146\nBatch 851/2082 - Train Loss: 1.0482145547866821\nBatch 861/2082 - Train Loss: 1.1402077674865723\nBatch 871/2082 - Train Loss: 0.9398825168609619\nBatch 881/2082 - Train Loss: 1.1008861064910889\nBatch 891/2082 - Train Loss: 1.3035142421722412\nBatch 901/2082 - Train Loss: 1.121593713760376\nBatch 911/2082 - Train Loss: 0.9652764797210693\nBatch 921/2082 - Train Loss: 1.4225707054138184\nBatch 931/2082 - Train Loss: 1.1777790784835815\nBatch 941/2082 - Train Loss: 1.1202574968338013\nBatch 951/2082 - Train Loss: 1.197211742401123\nBatch 961/2082 - Train Loss: 0.927362859249115\nBatch 971/2082 - Train Loss: 1.1516269445419312\nBatch 981/2082 - Train Loss: 0.9364411234855652\nBatch 991/2082 - Train Loss: 1.0161725282669067\nBatch 1001/2082 - Train Loss: 1.0321186780929565\nBatch 1011/2082 - Train Loss: 1.108396291732788\nBatch 1021/2082 - Train Loss: 1.1191208362579346\nBatch 1031/2082 - Train Loss: 0.9409323334693909\nBatch 1041/2082 - Train Loss: 1.2108629941940308\nBatch 1051/2082 - Train Loss: 1.0066455602645874\nBatch 1061/2082 - Train Loss: 1.242838978767395\nBatch 1071/2082 - Train Loss: 0.9941373467445374\nBatch 1081/2082 - Train Loss: 1.0492430925369263\nBatch 1091/2082 - Train Loss: 1.3282628059387207\nBatch 1101/2082 - Train Loss: 0.8524495959281921\nBatch 1111/2082 - Train Loss: 0.9712126851081848\nBatch 1121/2082 - Train Loss: 0.8209407925605774\nBatch 1131/2082 - Train Loss: 0.9371235370635986\nBatch 1141/2082 - Train Loss: 1.0411086082458496\nBatch 1151/2082 - Train Loss: 1.177178144454956\nBatch 1161/2082 - Train Loss: 1.010805606842041\nBatch 1171/2082 - Train Loss: 1.2470616102218628\nBatch 1181/2082 - Train Loss: 0.8441276550292969\nBatch 1191/2082 - Train Loss: 0.8875157833099365\nBatch 1201/2082 - Train Loss: 1.4078928232192993\nBatch 1211/2082 - Train Loss: 0.9904348850250244\nBatch 1221/2082 - Train Loss: 1.0331432819366455\nBatch 1231/2082 - Train Loss: 1.2389092445373535\nBatch 1241/2082 - Train Loss: 1.1763277053833008\nBatch 1251/2082 - Train Loss: 0.9506844282150269\nBatch 1261/2082 - Train Loss: 1.1990984678268433\nBatch 1271/2082 - Train Loss: 1.0633536577224731\nBatch 1281/2082 - Train Loss: 0.8959230780601501\nBatch 1291/2082 - Train Loss: 1.1436488628387451\nBatch 1301/2082 - Train Loss: 1.0410020351409912\nBatch 1311/2082 - Train Loss: 1.1021742820739746\nBatch 1321/2082 - Train Loss: 1.0101853609085083\nBatch 1331/2082 - Train Loss: 0.988560676574707\nBatch 1341/2082 - Train Loss: 1.1388014554977417\nBatch 1351/2082 - Train Loss: 1.1442121267318726\nBatch 1361/2082 - Train Loss: 0.9951301217079163\nBatch 1371/2082 - Train Loss: 1.0160863399505615\nBatch 1381/2082 - Train Loss: 0.9302142262458801\nBatch 1391/2082 - Train Loss: 1.0288833379745483\nBatch 1401/2082 - Train Loss: 0.9255887866020203\nBatch 1411/2082 - Train Loss: 0.9372254610061646\nBatch 1421/2082 - Train Loss: 0.9742588400840759\nBatch 1431/2082 - Train Loss: 1.1009602546691895\nBatch 1441/2082 - Train Loss: 1.1152822971343994\nBatch 1451/2082 - Train Loss: 1.0224311351776123\nBatch 1461/2082 - Train Loss: 0.8215748071670532\nBatch 1471/2082 - Train Loss: 0.9032317996025085\nBatch 1481/2082 - Train Loss: 1.019017219543457\nBatch 1491/2082 - Train Loss: 0.7537385821342468\nBatch 1501/2082 - Train Loss: 1.1122488975524902\nBatch 1511/2082 - Train Loss: 1.0953434705734253\nBatch 1521/2082 - Train Loss: 0.9530351758003235\nBatch 1531/2082 - Train Loss: 1.0308440923690796\nBatch 1541/2082 - Train Loss: 0.9417175054550171\nBatch 1551/2082 - Train Loss: 1.062150239944458\nBatch 1561/2082 - Train Loss: 1.1544989347457886\nBatch 1571/2082 - Train Loss: 0.8582243919372559\nBatch 1581/2082 - Train Loss: 0.9555180072784424\nBatch 1591/2082 - Train Loss: 1.0491993427276611\nBatch 1601/2082 - Train Loss: 1.1832594871520996\nBatch 1611/2082 - Train Loss: 1.3541194200515747\nBatch 1621/2082 - Train Loss: 1.0666905641555786\nBatch 1631/2082 - Train Loss: 0.7490658760070801\nBatch 1641/2082 - Train Loss: 1.1278647184371948\nBatch 1651/2082 - Train Loss: 0.8036836981773376\nBatch 1661/2082 - Train Loss: 1.0344057083129883\nBatch 1671/2082 - Train Loss: 0.9642025828361511\nBatch 1681/2082 - Train Loss: 1.3013129234313965\nBatch 1691/2082 - Train Loss: 0.9856929779052734\nBatch 1701/2082 - Train Loss: 0.9140311479568481\nBatch 1711/2082 - Train Loss: 0.6983230710029602\nBatch 1721/2082 - Train Loss: 0.88796466588974\nBatch 1731/2082 - Train Loss: 0.8481186032295227\nBatch 1741/2082 - Train Loss: 0.8419956564903259\nBatch 1751/2082 - Train Loss: 1.0207723379135132\nBatch 1761/2082 - Train Loss: 1.399460792541504\nBatch 1771/2082 - Train Loss: 0.9531931281089783\nBatch 1781/2082 - Train Loss: 0.9789791703224182\nBatch 1791/2082 - Train Loss: 1.0631842613220215\nBatch 1801/2082 - Train Loss: 1.1433101892471313\nBatch 1811/2082 - Train Loss: 0.986085832118988\nBatch 1821/2082 - Train Loss: 1.5320041179656982\nBatch 1831/2082 - Train Loss: 0.9272124171257019\nBatch 1841/2082 - Train Loss: 1.0609968900680542\nBatch 1851/2082 - Train Loss: 1.2004292011260986\nBatch 1861/2082 - Train Loss: 1.0269147157669067\nBatch 1871/2082 - Train Loss: 1.0315722227096558\nBatch 1881/2082 - Train Loss: 0.8736396431922913\nBatch 1891/2082 - Train Loss: 1.0789594650268555\nBatch 1901/2082 - Train Loss: 0.7270053029060364\nBatch 1911/2082 - Train Loss: 1.1118513345718384\nBatch 1921/2082 - Train Loss: 0.9586510062217712\nBatch 1931/2082 - Train Loss: 1.0438742637634277\nBatch 1941/2082 - Train Loss: 1.0336737632751465\nBatch 1951/2082 - Train Loss: 0.8171945214271545\nBatch 1961/2082 - Train Loss: 1.1915079355239868\nBatch 1971/2082 - Train Loss: 1.0828392505645752\nBatch 1981/2082 - Train Loss: 1.0579628944396973\nBatch 1991/2082 - Train Loss: 0.875062882900238\nBatch 2001/2082 - Train Loss: 0.9467381834983826\nBatch 2011/2082 - Train Loss: 1.0815324783325195\nBatch 2021/2082 - Train Loss: 0.9548792243003845\nBatch 2031/2082 - Train Loss: 1.0521622896194458\nBatch 2041/2082 - Train Loss: 0.6780664324760437\nBatch 2051/2082 - Train Loss: 1.1428782939910889\nBatch 2061/2082 - Train Loss: 1.055609107017517\nBatch 2071/2082 - Train Loss: 1.0592023134231567\nBatch 2081/2082 - Train Loss: 0.7498040199279785\nEpoch 9 - Average Train Loss: 1.0462484627704456\nBatch 1/261 - Validation Loss: 0.2566434144973755\nBatch 11/261 - Validation Loss: 0.5295827984809875\nBatch 21/261 - Validation Loss: 0.39281922578811646\nBatch 31/261 - Validation Loss: 0.4518981873989105\nBatch 41/261 - Validation Loss: 0.5328264236450195\nBatch 51/261 - Validation Loss: 0.32729217410087585\nBatch 61/261 - Validation Loss: 0.34321948885917664\nBatch 71/261 - Validation Loss: 0.37699174880981445\nBatch 81/261 - Validation Loss: 0.5203591585159302\nBatch 91/261 - Validation Loss: 0.5798755884170532\nBatch 101/261 - Validation Loss: 0.3661613464355469\nBatch 111/261 - Validation Loss: 0.5017997622489929\nBatch 121/261 - Validation Loss: 0.3769720196723938\nBatch 131/261 - Validation Loss: 0.6594300270080566\nBatch 141/261 - Validation Loss: 0.6891260147094727\nBatch 151/261 - Validation Loss: 0.5601024627685547\nBatch 161/261 - Validation Loss: 0.5022948384284973\nBatch 171/261 - Validation Loss: 0.6885947585105896\nBatch 181/261 - Validation Loss: 0.46579691767692566\nBatch 191/261 - Validation Loss: 0.41072165966033936\nBatch 201/261 - Validation Loss: 0.7689158916473389\nBatch 211/261 - Validation Loss: 0.4704020619392395\nBatch 221/261 - Validation Loss: 0.28246456384658813\nBatch 231/261 - Validation Loss: 0.32513993978500366\nBatch 241/261 - Validation Loss: 0.36727145314216614\nBatch 251/261 - Validation Loss: 0.5568159222602844\nBatch 261/261 - Validation Loss: 0.18451350927352905\nEpoch 9 - Average Validation Loss: 0.4550963509471024\nEpoch 10/10\nBatch 1/2082 - Train Loss: 0.9434010982513428\nBatch 11/2082 - Train Loss: 1.2141470909118652\nBatch 21/2082 - Train Loss: 0.8924777507781982\nBatch 31/2082 - Train Loss: 0.9743990302085876\nBatch 41/2082 - Train Loss: 0.6674397587776184\nBatch 51/2082 - Train Loss: 0.8565093874931335\nBatch 61/2082 - Train Loss: 1.0498526096343994\nBatch 71/2082 - Train Loss: 0.7538876533508301\nBatch 81/2082 - Train Loss: 1.108465313911438\nBatch 91/2082 - Train Loss: 0.8188344836235046\nBatch 101/2082 - Train Loss: 0.9421380758285522\nBatch 111/2082 - Train Loss: 0.975817859172821\nBatch 121/2082 - Train Loss: 0.7900856733322144\nBatch 131/2082 - Train Loss: 0.6724316477775574\nBatch 141/2082 - Train Loss: 1.0676785707473755\nBatch 151/2082 - Train Loss: 0.9572585821151733\nBatch 161/2082 - Train Loss: 0.8972958326339722\nBatch 171/2082 - Train Loss: 0.9880769848823547\nBatch 181/2082 - Train Loss: 0.7174585461616516\nBatch 191/2082 - Train Loss: 0.9845929145812988\nBatch 201/2082 - Train Loss: 1.0447304248809814\nBatch 211/2082 - Train Loss: 0.7878010272979736\nBatch 221/2082 - Train Loss: 1.0315672159194946\nBatch 231/2082 - Train Loss: 0.9043231010437012\nBatch 241/2082 - Train Loss: 0.8737538456916809\nBatch 251/2082 - Train Loss: 0.8562793731689453\nBatch 261/2082 - Train Loss: 1.151475191116333\nBatch 271/2082 - Train Loss: 0.8530534505844116\nBatch 281/2082 - Train Loss: 1.1167267560958862\nBatch 291/2082 - Train Loss: 0.9347705841064453\nBatch 301/2082 - Train Loss: 1.1842702627182007\nBatch 311/2082 - Train Loss: 0.8853530883789062\nBatch 321/2082 - Train Loss: 0.8288455009460449\nBatch 331/2082 - Train Loss: 0.9098471999168396\nBatch 341/2082 - Train Loss: 1.1353373527526855\nBatch 351/2082 - Train Loss: 0.8356356620788574\nBatch 361/2082 - Train Loss: 0.8673641681671143\nBatch 371/2082 - Train Loss: 0.8942179083824158\nBatch 381/2082 - Train Loss: 0.959916889667511\nBatch 391/2082 - Train Loss: 0.8635568022727966\nBatch 401/2082 - Train Loss: 0.7780659198760986\nBatch 411/2082 - Train Loss: 0.9166410565376282\nBatch 421/2082 - Train Loss: 0.9285739064216614\nBatch 431/2082 - Train Loss: 0.9001444578170776\nBatch 441/2082 - Train Loss: 0.822844922542572\nBatch 451/2082 - Train Loss: 0.9311647415161133\nBatch 461/2082 - Train Loss: 1.0062692165374756\nBatch 471/2082 - Train Loss: 0.8391396999359131\nBatch 481/2082 - Train Loss: 0.8534999489784241\nBatch 491/2082 - Train Loss: 0.5487112402915955\nBatch 501/2082 - Train Loss: 1.1089286804199219\nBatch 511/2082 - Train Loss: 1.1504312753677368\nBatch 521/2082 - Train Loss: 0.9458472728729248\nBatch 531/2082 - Train Loss: 0.7492753267288208\nBatch 541/2082 - Train Loss: 1.145226001739502\nBatch 551/2082 - Train Loss: 0.723520815372467\nBatch 561/2082 - Train Loss: 0.7216355204582214\nBatch 571/2082 - Train Loss: 0.7986487746238708\nBatch 581/2082 - Train Loss: 0.8021376729011536\nBatch 591/2082 - Train Loss: 0.9914896488189697\nBatch 601/2082 - Train Loss: 1.0159752368927002\nBatch 611/2082 - Train Loss: 0.5913797616958618\nBatch 621/2082 - Train Loss: 0.8016035556793213\nBatch 631/2082 - Train Loss: 0.9891647100448608\nBatch 641/2082 - Train Loss: 0.7400656342506409\nBatch 651/2082 - Train Loss: 0.9283505082130432\nBatch 661/2082 - Train Loss: 0.855851411819458\nBatch 671/2082 - Train Loss: 0.727507472038269\nBatch 681/2082 - Train Loss: 0.9436379075050354\nBatch 691/2082 - Train Loss: 1.0385921001434326\nBatch 701/2082 - Train Loss: 0.8792548775672913\nBatch 711/2082 - Train Loss: 0.854095995426178\nBatch 721/2082 - Train Loss: 0.8101646900177002\nBatch 731/2082 - Train Loss: 0.8031530976295471\nBatch 741/2082 - Train Loss: 1.0398895740509033\nBatch 751/2082 - Train Loss: 0.9406152367591858\nBatch 761/2082 - Train Loss: 0.8616190552711487\nBatch 771/2082 - Train Loss: 0.9459110498428345\nBatch 781/2082 - Train Loss: 0.8605650663375854\nBatch 791/2082 - Train Loss: 0.7332626581192017\nBatch 801/2082 - Train Loss: 1.175689697265625\nBatch 811/2082 - Train Loss: 0.9831352829933167\nBatch 821/2082 - Train Loss: 0.872326672077179\nBatch 831/2082 - Train Loss: 1.195621371269226\nBatch 841/2082 - Train Loss: 0.9984517693519592\nBatch 851/2082 - Train Loss: 0.7781274914741516\nBatch 861/2082 - Train Loss: 0.8642065525054932\nBatch 871/2082 - Train Loss: 0.9853485226631165\nBatch 881/2082 - Train Loss: 1.011672019958496\nBatch 891/2082 - Train Loss: 0.9850999712944031\nBatch 901/2082 - Train Loss: 0.9822577834129333\nBatch 911/2082 - Train Loss: 0.8496732115745544\nBatch 921/2082 - Train Loss: 0.9704321026802063\nBatch 931/2082 - Train Loss: 0.9549826979637146\nBatch 941/2082 - Train Loss: 0.8108276724815369\nBatch 951/2082 - Train Loss: 0.9101404547691345\nBatch 961/2082 - Train Loss: 0.9238691329956055\nBatch 971/2082 - Train Loss: 0.684292733669281\nBatch 981/2082 - Train Loss: 0.7490761876106262\nBatch 991/2082 - Train Loss: 0.8853535056114197\nBatch 1001/2082 - Train Loss: 0.898000180721283\nBatch 1011/2082 - Train Loss: 0.9607617259025574\nBatch 1021/2082 - Train Loss: 0.7396266460418701\nBatch 1031/2082 - Train Loss: 1.1067830324172974\nBatch 1041/2082 - Train Loss: 0.9068907499313354\nBatch 1051/2082 - Train Loss: 0.9130852222442627\nBatch 1061/2082 - Train Loss: 0.692129909992218\nBatch 1071/2082 - Train Loss: 0.8027122616767883\nBatch 1081/2082 - Train Loss: 0.8853310346603394\nBatch 1091/2082 - Train Loss: 0.8166559338569641\nBatch 1101/2082 - Train Loss: 0.8602428436279297\nBatch 1111/2082 - Train Loss: 0.862521231174469\nBatch 1121/2082 - Train Loss: 0.9865253567695618\nBatch 1131/2082 - Train Loss: 0.8377054929733276\nBatch 1141/2082 - Train Loss: 0.9104067087173462\nBatch 1151/2082 - Train Loss: 0.9960780739784241\nBatch 1161/2082 - Train Loss: 0.8611520528793335\nBatch 1171/2082 - Train Loss: 0.8547900319099426\nBatch 1181/2082 - Train Loss: 0.9483458399772644\nBatch 1191/2082 - Train Loss: 0.8707810640335083\nBatch 1201/2082 - Train Loss: 0.9914448857307434\nBatch 1211/2082 - Train Loss: 0.8578676581382751\nBatch 1221/2082 - Train Loss: 0.8484383225440979\nBatch 1231/2082 - Train Loss: 0.8873981833457947\nBatch 1241/2082 - Train Loss: 0.7720903158187866\nBatch 1251/2082 - Train Loss: 0.7668656706809998\nBatch 1261/2082 - Train Loss: 0.637270987033844\nBatch 1271/2082 - Train Loss: 0.9205015301704407\nBatch 1281/2082 - Train Loss: 0.8132059574127197\nBatch 1291/2082 - Train Loss: 0.7223545908927917\nBatch 1301/2082 - Train Loss: 0.955439567565918\nBatch 1311/2082 - Train Loss: 1.0342364311218262\nBatch 1321/2082 - Train Loss: 0.9607775807380676\nBatch 1331/2082 - Train Loss: 0.6460690498352051\nBatch 1341/2082 - Train Loss: 0.8949757814407349\nBatch 1351/2082 - Train Loss: 0.7169910669326782\nBatch 1361/2082 - Train Loss: 0.841329038143158\nBatch 1371/2082 - Train Loss: 0.8422694206237793\nBatch 1381/2082 - Train Loss: 0.9280838966369629\nBatch 1391/2082 - Train Loss: 0.9989932179450989\nBatch 1401/2082 - Train Loss: 0.7818207144737244\nBatch 1411/2082 - Train Loss: 0.9465168118476868\nBatch 1421/2082 - Train Loss: 0.6297688484191895\nBatch 1431/2082 - Train Loss: 0.9001615643501282\nBatch 1441/2082 - Train Loss: 0.7872784733772278\nBatch 1451/2082 - Train Loss: 0.9766708612442017\nBatch 1461/2082 - Train Loss: 0.9759773015975952\nBatch 1471/2082 - Train Loss: 0.6989091634750366\nBatch 1481/2082 - Train Loss: 0.782896101474762\nBatch 1491/2082 - Train Loss: 0.7764078378677368\nBatch 1501/2082 - Train Loss: 0.6685499548912048\nBatch 1511/2082 - Train Loss: 0.9869511723518372\nBatch 1521/2082 - Train Loss: 0.8706457614898682\nBatch 1531/2082 - Train Loss: 0.6886729001998901\nBatch 1541/2082 - Train Loss: 0.9107781052589417\nBatch 1551/2082 - Train Loss: 0.622643232345581\nBatch 1561/2082 - Train Loss: 0.9836214184761047\nBatch 1571/2082 - Train Loss: 0.6964377164840698\nBatch 1581/2082 - Train Loss: 0.7134678959846497\nBatch 1591/2082 - Train Loss: 0.9389781951904297\nBatch 1601/2082 - Train Loss: 0.6277477741241455\nBatch 1611/2082 - Train Loss: 0.8251062035560608\nBatch 1621/2082 - Train Loss: 0.771329402923584\nBatch 1631/2082 - Train Loss: 0.8345158696174622\nBatch 1641/2082 - Train Loss: 0.8775250315666199\nBatch 1651/2082 - Train Loss: 0.7766536474227905\nBatch 1661/2082 - Train Loss: 0.5335674285888672\nBatch 1671/2082 - Train Loss: 0.9956757426261902\nBatch 1681/2082 - Train Loss: 1.2236608266830444\nBatch 1691/2082 - Train Loss: 0.7382421493530273\nBatch 1701/2082 - Train Loss: 0.7895249724388123\nBatch 1711/2082 - Train Loss: 0.9055512547492981\nBatch 1721/2082 - Train Loss: 0.9182959794998169\nBatch 1731/2082 - Train Loss: 0.8440510034561157\nBatch 1741/2082 - Train Loss: 0.814439058303833\nBatch 1751/2082 - Train Loss: 0.7620826959609985\nBatch 1761/2082 - Train Loss: 0.8873796463012695\nBatch 1771/2082 - Train Loss: 0.8111089468002319\nBatch 1781/2082 - Train Loss: 0.7582849860191345\nBatch 1791/2082 - Train Loss: 0.7595807909965515\nBatch 1801/2082 - Train Loss: 0.9905493259429932\nBatch 1811/2082 - Train Loss: 0.6176392436027527\nBatch 1821/2082 - Train Loss: 0.6063438653945923\nBatch 1831/2082 - Train Loss: 1.1796435117721558\nBatch 1841/2082 - Train Loss: 0.6731137633323669\nBatch 1851/2082 - Train Loss: 0.579433262348175\nBatch 1861/2082 - Train Loss: 0.5689879059791565\nBatch 1871/2082 - Train Loss: 0.8405080437660217\nBatch 1881/2082 - Train Loss: 0.6157261729240417\nBatch 1891/2082 - Train Loss: 0.6826109290122986\nBatch 1901/2082 - Train Loss: 0.7745311260223389\nBatch 1911/2082 - Train Loss: 0.9036226272583008\nBatch 1921/2082 - Train Loss: 0.6486652493476868\nBatch 1931/2082 - Train Loss: 0.9922142624855042\nBatch 1941/2082 - Train Loss: 0.7559531927108765\nBatch 1951/2082 - Train Loss: 0.6908352375030518\nBatch 1961/2082 - Train Loss: 0.9948856830596924\nBatch 1971/2082 - Train Loss: 0.7293837666511536\nBatch 1981/2082 - Train Loss: 0.7672111988067627\nBatch 1991/2082 - Train Loss: 0.7368653416633606\nBatch 2001/2082 - Train Loss: 0.8239020705223083\nBatch 2011/2082 - Train Loss: 0.8223042488098145\nBatch 2021/2082 - Train Loss: 0.6506773829460144\nBatch 2031/2082 - Train Loss: 0.6196786165237427\nBatch 2041/2082 - Train Loss: 0.8360077142715454\nBatch 2051/2082 - Train Loss: 0.9424570798873901\nBatch 2061/2082 - Train Loss: 0.7595239877700806\nBatch 2071/2082 - Train Loss: 0.870647668838501\nBatch 2081/2082 - Train Loss: 0.7665582299232483\nEpoch 10 - Average Train Loss: 0.8824398036362687\nBatch 1/261 - Validation Loss: 0.193898543715477\nBatch 11/261 - Validation Loss: 0.5174311995506287\nBatch 21/261 - Validation Loss: 0.3422018587589264\nBatch 31/261 - Validation Loss: 0.45594361424446106\nBatch 41/261 - Validation Loss: 0.5262309908866882\nBatch 51/261 - Validation Loss: 0.29757142066955566\nBatch 61/261 - Validation Loss: 0.31866466999053955\nBatch 71/261 - Validation Loss: 0.33135613799095154\nBatch 81/261 - Validation Loss: 0.5275380611419678\nBatch 91/261 - Validation Loss: 0.5617881417274475\nBatch 101/261 - Validation Loss: 0.296463280916214\nBatch 111/261 - Validation Loss: 0.4866860508918762\nBatch 121/261 - Validation Loss: 0.3279823362827301\nBatch 131/261 - Validation Loss: 0.6895868182182312\nBatch 141/261 - Validation Loss: 0.6971489191055298\nBatch 151/261 - Validation Loss: 0.5451738238334656\nBatch 161/261 - Validation Loss: 0.4747834801673889\nBatch 171/261 - Validation Loss: 0.6375175714492798\nBatch 181/261 - Validation Loss: 0.45032089948654175\nBatch 191/261 - Validation Loss: 0.4181268811225891\nBatch 201/261 - Validation Loss: 0.770349383354187\nBatch 211/261 - Validation Loss: 0.4101491868495941\nBatch 221/261 - Validation Loss: 0.21884454786777496\nBatch 231/261 - Validation Loss: 0.2771880030632019\nBatch 241/261 - Validation Loss: 0.3277037441730499\nBatch 251/261 - Validation Loss: 0.5532931685447693\nBatch 261/261 - Validation Loss: 0.1366543024778366\nEpoch 10 - Average Validation Loss: 0.4348877017525421\n",
          "output_type": "stream"
        }
      ],
      "execution_count": null
    },
    {
      "cell_type": "code",
      "source": [
        "model.save_pretrained('/kaggle/working/mt5_small_model_clean')\n",
        "tokenizer.save_pretrained('/kaggle/working/mt5_small_model_clean')"
      ],
      "metadata": {
        "colab": {
          "base_uri": "https://localhost:8080/"
        },
        "id": "t8mZrzX7gomw",
        "outputId": "fd18c61e-3cf4-453b-875f-1e23f662d61a",
        "trusted": true,
        "execution": {
          "iopub.status.busy": "2024-12-16T01:02:39.689918Z",
          "iopub.execute_input": "2024-12-16T01:02:39.690190Z",
          "iopub.status.idle": "2024-12-16T01:02:43.034398Z",
          "shell.execute_reply.started": "2024-12-16T01:02:39.690164Z",
          "shell.execute_reply": "2024-12-16T01:02:43.033554Z"
        }
      },
      "outputs": [
        {
          "execution_count": 13,
          "output_type": "execute_result",
          "data": {
            "text/plain": "('/kaggle/working/mt5_small_model_clean/tokenizer_config.json',\n '/kaggle/working/mt5_small_model_clean/special_tokens_map.json',\n '/kaggle/working/mt5_small_model_clean/spiece.model',\n '/kaggle/working/mt5_small_model_clean/added_tokens.json',\n '/kaggle/working/mt5_small_model_clean/tokenizer.json')"
          },
          "metadata": {}
        }
      ],
      "execution_count": null
    },
    {
      "cell_type": "code",
      "source": [
        "import matplotlib.pyplot as plt\n",
        "\n",
        "plt.figure(figsize=(10, 6))\n",
        "plt.plot(range(1, num_epochs + 1), train_losses, label=\"Training Loss\", color='b', marker='o')\n",
        "plt.plot(range(1, num_epochs + 1), val_losses, label=\"Validation Loss\", color='r', marker='o')\n",
        "plt.xlabel(\"Epochs\")\n",
        "plt.ylabel(\"Loss\")\n",
        "plt.title(\"Training and Validation Loss\")\n",
        "plt.legend()\n",
        "plt.grid(True)\n",
        "plt.show()"
      ],
      "metadata": {
        "colab": {
          "base_uri": "https://localhost:8080/",
          "height": 564
        },
        "id": "tKiyeDfTgupX",
        "outputId": "f5c0c913-f94a-49d4-ad00-b0db9d8e2770",
        "trusted": true,
        "execution": {
          "iopub.status.busy": "2024-12-16T01:02:43.035410Z",
          "iopub.execute_input": "2024-12-16T01:02:43.035686Z",
          "iopub.status.idle": "2024-12-16T01:02:43.316564Z",
          "shell.execute_reply.started": "2024-12-16T01:02:43.035660Z",
          "shell.execute_reply": "2024-12-16T01:02:43.315745Z"
        }
      },
      "outputs": [
        {
          "output_type": "display_data",
          "data": {
            "text/plain": "<Figure size 1000x600 with 1 Axes>",
            "image/png": "[encoded data removed]"
          },
          "metadata": {}
        }
      ],
      "execution_count": null
    },
    {
      "cell_type": "code",
      "source": [
        "import pandas as pd\n",
        "\n",
        "model.eval()\n",
        "predictions, references, inputs = [], [], []\n",
        "\n",
        "for batch in test_dataloader:\n",
        "    input_ids = batch['input_ids'].to(device)\n",
        "    attention_mask = batch['attention_mask'].to(device)\n",
        "\n",
        "    # Generate summary\n",
        "    outputs = model.generate(\n",
        "        input_ids=input_ids,\n",
        "        attention_mask=attention_mask,\n",
        "        max_length=150,\n",
        "        min_length=30,\n",
        "        num_beams=4,\n",
        "        no_repeat_ngram_size=2\n",
        "    )\n",
        "\n",
        "    # Decode predictions and references\n",
        "    predictions.extend([tokenizer.decode(output, skip_special_tokens=True, clean_up_tokenization_spaces=True)\n",
        "                        for output in outputs])\n",
        "    references.extend([tokenizer.decode(label, skip_special_tokens=True, clean_up_tokenization_spaces=True)\n",
        "                       for label in batch['labels']])\n",
        "    inputs.extend([tokenizer.decode(input_id, skip_special_tokens=True, clean_up_tokenization_spaces=True)\n",
        "                   for input_id in input_ids])\n",
        "\n",
        "df_results = pd.DataFrame({\n",
        "    'input': inputs,\n",
        "    'predictions': predictions,\n",
        "    'references': references\n",
        "})\n",
        "df_results.head()\n",
        "\n",
        "# Save the results to a CSV file\n",
        "df_results.to_csv('1generated_summaries.csv', index=False)"
      ],
      "metadata": {
        "trusted": true,
        "execution": {
          "iopub.status.busy": "2024-12-16T01:02:43.319337Z",
          "iopub.execute_input": "2024-12-16T01:02:43.319580Z",
          "iopub.status.idle": "2024-12-16T01:08:44.228152Z",
          "shell.execute_reply.started": "2024-12-16T01:02:43.319556Z",
          "shell.execute_reply": "2024-12-16T01:08:44.227444Z"
        },
        "id": "nDRQxyeE7mdH"
      },
      "outputs": [],
      "execution_count": null
    },
    {
      "cell_type": "code",
      "source": [
        "from rouge_score import rouge_scorer\n",
        "from bert_score import score as bert_score\n",
        "# Evaluasi ROUGE\n",
        "scorer = rouge_scorer.RougeScorer(['rouge1', 'rouge2', 'rougeL'], use_stemmer=True)\n",
        "rouge_scores = {\"rouge1\": [], \"rouge2\": [], \"rougeL\": []}\n",
        "\n",
        "for ref, pred in zip(references, predictions):\n",
        "    score = scorer.score(ref, pred)\n",
        "    rouge_scores[\"rouge1\"].append(score[\"rouge1\"].fmeasure)\n",
        "    rouge_scores[\"rouge2\"].append(score[\"rouge2\"].fmeasure)\n",
        "    rouge_scores[\"rougeL\"].append(score[\"rougeL\"].fmeasure)\n",
        "\n",
        "avg_rouge1 = sum(rouge_scores[\"rouge1\"]) / len(rouge_scores[\"rouge1\"])\n",
        "avg_rouge2 = sum(rouge_scores[\"rouge2\"]) / len(rouge_scores[\"rouge2\"])\n",
        "avg_rougeL = sum(rouge_scores[\"rougeL\"]) / len(rouge_scores[\"rougeL\"])\n",
        "\n",
        "print(f\"Average ROUGE-1: {avg_rouge1}\")\n",
        "print(f\"Average ROUGE-2: {avg_rouge2}\")\n",
        "print(f\"Average ROUGE-L: {avg_rougeL}\")\n",
        "\n",
        "# Evaluasi BERTScore\n",
        "P, R, F1 = bert_score(predictions, references, lang=\"en\")\n",
        "print(f\"Average BERTScore Precision: {P.mean().item()}\")\n",
        "print(f\"Average BERTScore Recall: {R.mean().item()}\")\n",
        "print(f\"Average BERTScore F1: {F1.mean().item()}\")"
      ],
      "metadata": {
        "trusted": true,
        "execution": {
          "iopub.status.busy": "2024-12-16T06:47:26.107784Z",
          "iopub.execute_input": "2024-12-16T06:47:26.108091Z",
          "iopub.status.idle": "2024-12-16T06:47:55.814022Z",
          "shell.execute_reply.started": "2024-12-16T06:47:26.108063Z",
          "shell.execute_reply": "2024-12-16T06:47:55.813127Z"
        },
        "id": "KPD6cBLt7oGe",
        "outputId": "0f8f8e2b-b3f2-4fc8-9147-409a296dc7c5",
        "colab": {
          "referenced_widgets": [
            "fbbf7d1b4fc14525967412dbaf42a9c3",
            "59ea856a1b7e4e49b18d1a7135f32ef6",
            "407dd48d47f44038b2bdfcdf8fa9e363",
            "89dd94223306490d91577f9ad7e4350e",
            "de390c4a129543af900481bede11e946",
            "04bc0e553b2646238b9c068f7eac7029"
          ]
        }
      },
      "outputs": [
        {
          "name": "stdout",
          "text": "Average ROUGE-1: 0.3037951265857941\nAverage ROUGE-2: 0.1647139612159499\nAverage ROUGE-L: 0.26592791777050184\n",
          "output_type": "stream"
        },
        {
          "output_type": "display_data",
          "data": {
            "text/plain": "tokenizer_config.json:   0%|          | 0.00/25.0 [00:00<?, ?B/s]",
            "application/vnd.jupyter.widget-view+json": {
              "version_major": 2,
              "version_minor": 0,
              "model_id": "fbbf7d1b4fc14525967412dbaf42a9c3"
            }
          },
          "metadata": {}
        },
        {
          "output_type": "display_data",
          "data": {
            "text/plain": "config.json:   0%|          | 0.00/482 [00:00<?, ?B/s]",
            "application/vnd.jupyter.widget-view+json": {
              "version_major": 2,
              "version_minor": 0,
              "model_id": "59ea856a1b7e4e49b18d1a7135f32ef6"
            }
          },
          "metadata": {}
        },
        {
          "output_type": "display_data",
          "data": {
            "text/plain": "vocab.json:   0%|          | 0.00/899k [00:00<?, ?B/s]",
            "application/vnd.jupyter.widget-view+json": {
              "version_major": 2,
              "version_minor": 0,
              "model_id": "407dd48d47f44038b2bdfcdf8fa9e363"
            }
          },
          "metadata": {}
        },
        {
          "output_type": "display_data",
          "data": {
            "text/plain": "merges.txt:   0%|          | 0.00/456k [00:00<?, ?B/s]",
            "application/vnd.jupyter.widget-view+json": {
              "version_major": 2,
              "version_minor": 0,
              "model_id": "89dd94223306490d91577f9ad7e4350e"
            }
          },
          "metadata": {}
        },
        {
          "output_type": "display_data",
          "data": {
            "text/plain": "tokenizer.json:   0%|          | 0.00/1.36M [00:00<?, ?B/s]",
            "application/vnd.jupyter.widget-view+json": {
              "version_major": 2,
              "version_minor": 0,
              "model_id": "de390c4a129543af900481bede11e946"
            }
          },
          "metadata": {}
        },
        {
          "output_type": "display_data",
          "data": {
            "text/plain": "model.safetensors:   0%|          | 0.00/1.42G [00:00<?, ?B/s]",
            "application/vnd.jupyter.widget-view+json": {
              "version_major": 2,
              "version_minor": 0,
              "model_id": "04bc0e553b2646238b9c068f7eac7029"
            }
          },
          "metadata": {}
        },
        {
          "name": "stderr",
          "text": "Some weights of RobertaModel were not initialized from the model checkpoint at roberta-large and are newly initialized: ['roberta.pooler.dense.bias', 'roberta.pooler.dense.weight']\nYou should probably TRAIN this model on a down-stream task to be able to use it for predictions and inference.\n",
          "output_type": "stream"
        },
        {
          "name": "stdout",
          "text": "Average BERTScore Precision: 0.8498234152793884\nAverage BERTScore Recall: 0.8606154918670654\nAverage BERTScore F1: 0.8550535440444946\n",
          "output_type": "stream"
        }
      ],
      "execution_count": null
    },
    {
      "cell_type": "code",
      "source": [
        "!pip install huggingface_hub"
      ],
      "metadata": {
        "trusted": true,
        "execution": {
          "iopub.status.busy": "2024-12-16T01:19:23.824085Z",
          "iopub.execute_input": "2024-12-16T01:19:23.824366Z",
          "iopub.status.idle": "2024-12-16T01:19:31.953360Z",
          "shell.execute_reply.started": "2024-12-16T01:19:23.824340Z",
          "shell.execute_reply": "2024-12-16T01:19:31.952494Z"
        },
        "id": "H9UJDcdy7mdI",
        "outputId": "ad247c7e-20aa-4efe-ea4a-3cc8f816e68c"
      },
      "outputs": [
        {
          "name": "stderr",
          "text": "/opt/conda/lib/python3.10/pty.py:89: RuntimeWarning: os.fork() was called. os.fork() is incompatible with multithreaded code, and JAX is multithreaded, so this will likely lead to a deadlock.\n  pid, fd = os.forkpty()\nhuggingface/tokenizers: The current process just got forked, after parallelism has already been used. Disabling parallelism to avoid deadlocks...\nTo disable this warning, you can either:\n\t- Avoid using `tokenizers` before the fork if possible\n\t- Explicitly set the environment variable TOKENIZERS_PARALLELISM=(true | false)\n",
          "output_type": "stream"
        },
        {
          "name": "stdout",
          "text": "Requirement already satisfied: huggingface_hub in /opt/conda/lib/python3.10/site-packages (0.26.2)\nRequirement already satisfied: filelock in /opt/conda/lib/python3.10/site-packages (from huggingface_hub) (3.15.1)\nRequirement already satisfied: fsspec>=2023.5.0 in /opt/conda/lib/python3.10/site-packages (from huggingface_hub) (2024.6.0)\nRequirement already satisfied: packaging>=20.9 in /opt/conda/lib/python3.10/site-packages (from huggingface_hub) (21.3)\nRequirement already satisfied: pyyaml>=5.1 in /opt/conda/lib/python3.10/site-packages (from huggingface_hub) (6.0.2)\nRequirement already satisfied: requests in /opt/conda/lib/python3.10/site-packages (from huggingface_hub) (2.32.3)\nRequirement already satisfied: tqdm>=4.42.1 in /opt/conda/lib/python3.10/site-packages (from huggingface_hub) (4.66.4)\nRequirement already satisfied: typing-extensions>=3.7.4.3 in /opt/conda/lib/python3.10/site-packages (from huggingface_hub) (4.12.2)\nRequirement already satisfied: pyparsing!=3.0.5,>=2.0.2 in /opt/conda/lib/python3.10/site-packages (from packaging>=20.9->huggingface_hub) (3.1.2)\nRequirement already satisfied: charset-normalizer<4,>=2 in /opt/conda/lib/python3.10/site-packages (from requests->huggingface_hub) (3.3.2)\nRequirement already satisfied: idna<4,>=2.5 in /opt/conda/lib/python3.10/site-packages (from requests->huggingface_hub) (3.7)\nRequirement already satisfied: urllib3<3,>=1.21.1 in /opt/conda/lib/python3.10/site-packages (from requests->huggingface_hub) (1.26.18)\nRequirement already satisfied: certifi>=2017.4.17 in /opt/conda/lib/python3.10/site-packages (from requests->huggingface_hub) (2024.6.2)\n",
          "output_type": "stream"
        }
      ],
      "execution_count": null
    },
    {
      "cell_type": "code",
      "source": [
        "from huggingface_hub import login\n",
        "\n",
        "# Login dengan token Hugging Face\n",
        "login(token=\"\")"
      ],
      "metadata": {
        "trusted": true,
        "execution": {
          "iopub.status.busy": "2024-12-16T01:19:31.954630Z",
          "iopub.execute_input": "2024-12-16T01:19:31.954915Z",
          "iopub.status.idle": "2024-12-16T01:19:32.003682Z",
          "shell.execute_reply.started": "2024-12-16T01:19:31.954888Z",
          "shell.execute_reply": "2024-12-16T01:19:32.003110Z"
        },
        "id": "Uee_Or7R7mdI"
      },
      "outputs": [],
      "execution_count": null
    },
    {
      "cell_type": "code",
      "source": [
        "from huggingface_hub import create_repo\n",
        "\n",
        "# Membuat repository\n",
        "repo_name = 'clean-model-mt5-small-10epoch'\n",
        "create_repo(repo_name)"
      ],
      "metadata": {
        "trusted": true,
        "execution": {
          "iopub.status.busy": "2024-12-16T01:19:32.004775Z",
          "iopub.execute_input": "2024-12-16T01:19:32.004988Z",
          "iopub.status.idle": "2024-12-16T01:19:32.825785Z",
          "shell.execute_reply.started": "2024-12-16T01:19:32.004966Z",
          "shell.execute_reply": "2024-12-16T01:19:32.825052Z"
        },
        "id": "yEVx7NHI7mdI",
        "outputId": "68f1b5a4-6005-4035-b98e-2e333a7d1041"
      },
      "outputs": [
        {
          "execution_count": 21,
          "output_type": "execute_result",
          "data": {
            "text/plain": "RepoUrl('https://huggingface.co/intanutami/clean-model-mt5-small-10epoch', endpoint='https://huggingface.co', repo_type='model', repo_id='intanutami/clean-model-mt5-small-10epoch')"
          },
          "metadata": {}
        }
      ],
      "execution_count": null
    },
    {
      "cell_type": "code",
      "source": [
        "from huggingface_hub import upload_folder\n",
        "\n",
        "# Upload model ke repository yang sudah ada\n",
        "upload_folder(\n",
        "    repo_id='intanutami/clean-model-mt5-small-10epoch',\n",
        "    folder_path='/kaggle/working/mt5_small_model_clean',\n",
        "    commit_message=\"Upload my trained model\"\n",
        ")"
      ],
      "metadata": {
        "trusted": true,
        "execution": {
          "iopub.status.busy": "2024-12-16T01:19:32.826690Z",
          "iopub.execute_input": "2024-12-16T01:19:32.826967Z",
          "iopub.status.idle": "2024-12-16T01:20:06.890503Z",
          "shell.execute_reply.started": "2024-12-16T01:19:32.826943Z",
          "shell.execute_reply": "2024-12-16T01:20:06.889656Z"
        },
        "colab": {
          "referenced_widgets": [
            "b5bc2f548dae4ffab911c40d230b8b3c",
            "0a5e20643dbf42efa90b2839769bc4cd",
            "a1559b7b275647bcbe5262d959bbf27f",
            "71c6bf4ca1e245698c82353e93974101"
          ]
        },
        "id": "PhgUiOJ27mdI",
        "outputId": "85cd09ba-92a6-420f-b415-0cc35ebeb253"
      },
      "outputs": [
        {
          "output_type": "display_data",
          "data": {
            "text/plain": "model.safetensors:   0%|          | 0.00/1.20G [00:00<?, ?B/s]",
            "application/vnd.jupyter.widget-view+json": {
              "version_major": 2,
              "version_minor": 0,
              "model_id": "b5bc2f548dae4ffab911c40d230b8b3c"
            }
          },
          "metadata": {}
        },
        {
          "output_type": "display_data",
          "data": {
            "text/plain": "tokenizer.json:   0%|          | 0.00/16.4M [00:00<?, ?B/s]",
            "application/vnd.jupyter.widget-view+json": {
              "version_major": 2,
              "version_minor": 0,
              "model_id": "0a5e20643dbf42efa90b2839769bc4cd"
            }
          },
          "metadata": {}
        },
        {
          "output_type": "display_data",
          "data": {
            "text/plain": "spiece.model:   0%|          | 0.00/4.31M [00:00<?, ?B/s]",
            "application/vnd.jupyter.widget-view+json": {
              "version_major": 2,
              "version_minor": 0,
              "model_id": "a1559b7b275647bcbe5262d959bbf27f"
            }
          },
          "metadata": {}
        },
        {
          "output_type": "display_data",
          "data": {
            "text/plain": "Upload 3 LFS files:   0%|          | 0/3 [00:00<?, ?it/s]",
            "application/vnd.jupyter.widget-view+json": {
              "version_major": 2,
              "version_minor": 0,
              "model_id": "71c6bf4ca1e245698c82353e93974101"
            }
          },
          "metadata": {}
        },
        {
          "execution_count": 22,
          "output_type": "execute_result",
          "data": {
            "text/plain": "CommitInfo(commit_url='https://huggingface.co/intanutami/clean-model-mt5-small-10epoch/commit/537caf5c7cfd74df9f17f38b2f4d311b89b66aab', commit_message='Upload my trained\\xa0model', commit_description='', oid='537caf5c7cfd74df9f17f38b2f4d311b89b66aab', pr_url=None, repo_url=RepoUrl('https://huggingface.co/intanutami/clean-model-mt5-small-10epoch', endpoint='https://huggingface.co', repo_type='model', repo_id='intanutami/clean-model-mt5-small-10epoch'), pr_revision=None, pr_num=None)"
          },
          "metadata": {}
        }
      ],
      "execution_count": null
    }
  ]
}
